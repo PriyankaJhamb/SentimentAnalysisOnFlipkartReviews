{
 "cells": [
  {
   "cell_type": "markdown",
   "id": "83b66e81",
   "metadata": {},
   "source": [
    "### Objective Of this Project:  To analyse the sentiments and categorised the sentiment as positive, negative or neutral.\n",
    "\n",
    "#### Requirement:) Nowadays, the common people reviews matters a lot when a person wants to buy something.\n",
    "#### We can see from the example that Google shows those websites on top which have good comments on the websites posted by the people. So, it need to be identify, which review is negative and affecting the marketing of product."
   ]
  },
  {
   "cell_type": "code",
   "execution_count": 433,
   "id": "7b52dc48",
   "metadata": {},
   "outputs": [
    {
     "name": "stderr",
     "output_type": "stream",
     "text": [
      "[nltk_data] Downloading package stopwords to\n",
      "[nltk_data]     C:\\Users\\priya\\AppData\\Roaming\\nltk_data...\n",
      "[nltk_data]   Package stopwords is already up-to-date!\n"
     ]
    }
   ],
   "source": [
    "\n",
    "# importing required libraries\n",
    "\n",
    "import pandas as pd # for analysing the data\n",
    "import numpy as np # for mathematical collections on arrays\n",
    "import matplotlib.pyplot as plt # for plotting\n",
    "import seaborn as sns # for plotting\n",
    "import sklearn as skl # for machine learning algorithms\n",
    "\n",
    "import nltk # natural language toolkit\n",
    "# snowball represents a ball type in which all similar words like cared, caring etc and \n",
    "# stemmer means all words come under a common stem i.e care in this example.\n",
    "stemmer=nltk.SnowballStemmer(language=\"english\") \n",
    "\n",
    "nltk.download(\"stopwords\")\n",
    "from nltk.corpus import stopwords # corpus means single collection and corpora means multiple collection of data\n",
    "stopwords=set(stopwords.words(\"english\")) # make a set of particular english words \n",
    "\n",
    "\n",
    "import string # used for purpose of cleaning\n",
    "\n",
    "import re # for regular expression\n",
    "\n",
    "from wordcloud import WordCloud, STOPWORDS, ImageColorGenerator\n",
    "\n",
    "from nltk.sentiment.vader import SentimentIntensityAnalyzer\n",
    "from nltk.stem.wordnet import WordNetLemmatizer\n",
    "import contractions"
   ]
  },
  {
   "cell_type": "markdown",
   "id": "26269c57",
   "metadata": {},
   "source": [
    "###  Get the Data"
   ]
  },
  {
   "cell_type": "code",
   "execution_count": 434,
   "id": "8eac1389",
   "metadata": {},
   "outputs": [
    {
     "data": {
      "text/html": [
       "<div>\n",
       "<style scoped>\n",
       "    .dataframe tbody tr th:only-of-type {\n",
       "        vertical-align: middle;\n",
       "    }\n",
       "\n",
       "    .dataframe tbody tr th {\n",
       "        vertical-align: top;\n",
       "    }\n",
       "\n",
       "    .dataframe thead th {\n",
       "        text-align: right;\n",
       "    }\n",
       "</style>\n",
       "<table border=\"1\" class=\"dataframe\">\n",
       "  <thead>\n",
       "    <tr style=\"text-align: right;\">\n",
       "      <th></th>\n",
       "      <th>review</th>\n",
       "      <th>rating</th>\n",
       "    </tr>\n",
       "  </thead>\n",
       "  <tbody>\n",
       "    <tr>\n",
       "      <th>0</th>\n",
       "      <td>It was nice produt. I like it's design a lot. ...</td>\n",
       "      <td>5</td>\n",
       "    </tr>\n",
       "    <tr>\n",
       "      <th>1</th>\n",
       "      <td>awesome sound....very pretty to see this nd th...</td>\n",
       "      <td>5</td>\n",
       "    </tr>\n",
       "    <tr>\n",
       "      <th>2</th>\n",
       "      <td>awesome sound quality. pros 7-8 hrs of battery...</td>\n",
       "      <td>4</td>\n",
       "    </tr>\n",
       "    <tr>\n",
       "      <th>3</th>\n",
       "      <td>I think it is such a good product not only as ...</td>\n",
       "      <td>5</td>\n",
       "    </tr>\n",
       "    <tr>\n",
       "      <th>4</th>\n",
       "      <td>Awsome sound powerful bass battery backup is a...</td>\n",
       "      <td>5</td>\n",
       "    </tr>\n",
       "    <tr>\n",
       "      <th>...</th>\n",
       "      <td>...</td>\n",
       "      <td>...</td>\n",
       "    </tr>\n",
       "    <tr>\n",
       "      <th>484</th>\n",
       "      <td>The right and left distribution is not okay......</td>\n",
       "      <td>4</td>\n",
       "    </tr>\n",
       "    <tr>\n",
       "      <th>485</th>\n",
       "      <td>nice Bluetooth headphone, I am pleased with it...</td>\n",
       "      <td>5</td>\n",
       "    </tr>\n",
       "    <tr>\n",
       "      <th>486</th>\n",
       "      <td>excellent sound quality with deep bass. good b...</td>\n",
       "      <td>5</td>\n",
       "    </tr>\n",
       "    <tr>\n",
       "      <th>487</th>\n",
       "      <td>this is a very good product boat headphone goo...</td>\n",
       "      <td>5</td>\n",
       "    </tr>\n",
       "    <tr>\n",
       "      <th>488</th>\n",
       "      <td>This headphone is very stylish but if you look...</td>\n",
       "      <td>4</td>\n",
       "    </tr>\n",
       "  </tbody>\n",
       "</table>\n",
       "<p>489 rows × 2 columns</p>\n",
       "</div>"
      ],
      "text/plain": [
       "                                                review  rating\n",
       "0    It was nice produt. I like it's design a lot. ...       5\n",
       "1    awesome sound....very pretty to see this nd th...       5\n",
       "2    awesome sound quality. pros 7-8 hrs of battery...       4\n",
       "3    I think it is such a good product not only as ...       5\n",
       "4    Awsome sound powerful bass battery backup is a...       5\n",
       "..                                                 ...     ...\n",
       "484  The right and left distribution is not okay......       4\n",
       "485  nice Bluetooth headphone, I am pleased with it...       5\n",
       "486  excellent sound quality with deep bass. good b...       5\n",
       "487  this is a very good product boat headphone goo...       5\n",
       "488  This headphone is very stylish but if you look...       4\n",
       "\n",
       "[489 rows x 2 columns]"
      ]
     },
     "execution_count": 434,
     "metadata": {},
     "output_type": "execute_result"
    }
   ],
   "source": [
    "# Reading the CSV file\n",
    "\n",
    "data=pd.read_csv(\"flipkart_data.csv\")\n",
    "data_safe=pd.read_csv(\"flipkart_data.csv\")\n",
    "data"
   ]
  },
  {
   "cell_type": "markdown",
   "id": "c516d664",
   "metadata": {},
   "source": [
    "### Explore and visualize the data to gain insights"
   ]
  },
  {
   "cell_type": "code",
   "execution_count": 435,
   "id": "cc0449de",
   "metadata": {},
   "outputs": [],
   "source": [
    "# data.insert(0, \"id\",np.arange(1, len(data) + 1))"
   ]
  },
  {
   "cell_type": "code",
   "execution_count": 436,
   "id": "019cc849",
   "metadata": {},
   "outputs": [
    {
     "data": {
      "text/html": [
       "<div>\n",
       "<style scoped>\n",
       "    .dataframe tbody tr th:only-of-type {\n",
       "        vertical-align: middle;\n",
       "    }\n",
       "\n",
       "    .dataframe tbody tr th {\n",
       "        vertical-align: top;\n",
       "    }\n",
       "\n",
       "    .dataframe thead th {\n",
       "        text-align: right;\n",
       "    }\n",
       "</style>\n",
       "<table border=\"1\" class=\"dataframe\">\n",
       "  <thead>\n",
       "    <tr style=\"text-align: right;\">\n",
       "      <th></th>\n",
       "      <th>review</th>\n",
       "      <th>rating</th>\n",
       "    </tr>\n",
       "  </thead>\n",
       "  <tbody>\n",
       "    <tr>\n",
       "      <th>0</th>\n",
       "      <td>It was nice produt. I like it's design a lot. ...</td>\n",
       "      <td>5</td>\n",
       "    </tr>\n",
       "    <tr>\n",
       "      <th>1</th>\n",
       "      <td>awesome sound....very pretty to see this nd th...</td>\n",
       "      <td>5</td>\n",
       "    </tr>\n",
       "    <tr>\n",
       "      <th>2</th>\n",
       "      <td>awesome sound quality. pros 7-8 hrs of battery...</td>\n",
       "      <td>4</td>\n",
       "    </tr>\n",
       "    <tr>\n",
       "      <th>3</th>\n",
       "      <td>I think it is such a good product not only as ...</td>\n",
       "      <td>5</td>\n",
       "    </tr>\n",
       "    <tr>\n",
       "      <th>4</th>\n",
       "      <td>Awsome sound powerful bass battery backup is a...</td>\n",
       "      <td>5</td>\n",
       "    </tr>\n",
       "  </tbody>\n",
       "</table>\n",
       "</div>"
      ],
      "text/plain": [
       "                                              review  rating\n",
       "0  It was nice produt. I like it's design a lot. ...       5\n",
       "1  awesome sound....very pretty to see this nd th...       5\n",
       "2  awesome sound quality. pros 7-8 hrs of battery...       4\n",
       "3  I think it is such a good product not only as ...       5\n",
       "4  Awsome sound powerful bass battery backup is a...       5"
      ]
     },
     "execution_count": 436,
     "metadata": {},
     "output_type": "execute_result"
    }
   ],
   "source": [
    "# Showing first 5 rows\n",
    "data.head()"
   ]
  },
  {
   "cell_type": "code",
   "execution_count": 437,
   "id": "3e4e3e22",
   "metadata": {},
   "outputs": [
    {
     "name": "stdout",
     "output_type": "stream",
     "text": [
      "<class 'pandas.core.frame.DataFrame'>\n",
      "RangeIndex: 489 entries, 0 to 488\n",
      "Data columns (total 2 columns):\n",
      " #   Column  Non-Null Count  Dtype \n",
      "---  ------  --------------  ----- \n",
      " 0   review  489 non-null    object\n",
      " 1   rating  489 non-null    int64 \n",
      "dtypes: int64(1), object(1)\n",
      "memory usage: 7.8+ KB\n"
     ]
    }
   ],
   "source": [
    "# get information about the data\n",
    "\n",
    "data.info()"
   ]
  },
  {
   "cell_type": "markdown",
   "id": "73c8677f",
   "metadata": {},
   "source": [
    "#### Infer:  The table has 489 entries and all 489 are non-null for both columns."
   ]
  },
  {
   "cell_type": "code",
   "execution_count": 438,
   "id": "b1bccf5e",
   "metadata": {},
   "outputs": [
    {
     "data": {
      "text/plain": [
       "review    0\n",
       "rating    0\n",
       "dtype: int64"
      ]
     },
     "execution_count": 438,
     "metadata": {},
     "output_type": "execute_result"
    }
   ],
   "source": [
    "# Is there any null values present in the data? IF yes, the sum is:)\n",
    "data.isnull().sum()"
   ]
  },
  {
   "cell_type": "code",
   "execution_count": 439,
   "id": "b67762a7",
   "metadata": {},
   "outputs": [
    {
     "data": {
      "text/html": [
       "<div>\n",
       "<style scoped>\n",
       "    .dataframe tbody tr th:only-of-type {\n",
       "        vertical-align: middle;\n",
       "    }\n",
       "\n",
       "    .dataframe tbody tr th {\n",
       "        vertical-align: top;\n",
       "    }\n",
       "\n",
       "    .dataframe thead th {\n",
       "        text-align: right;\n",
       "    }\n",
       "</style>\n",
       "<table border=\"1\" class=\"dataframe\">\n",
       "  <thead>\n",
       "    <tr style=\"text-align: right;\">\n",
       "      <th></th>\n",
       "      <th>rating</th>\n",
       "    </tr>\n",
       "  </thead>\n",
       "  <tbody>\n",
       "    <tr>\n",
       "      <th>count</th>\n",
       "      <td>489.000000</td>\n",
       "    </tr>\n",
       "    <tr>\n",
       "      <th>mean</th>\n",
       "      <td>4.370143</td>\n",
       "    </tr>\n",
       "    <tr>\n",
       "      <th>std</th>\n",
       "      <td>0.921070</td>\n",
       "    </tr>\n",
       "    <tr>\n",
       "      <th>min</th>\n",
       "      <td>1.000000</td>\n",
       "    </tr>\n",
       "    <tr>\n",
       "      <th>25%</th>\n",
       "      <td>4.000000</td>\n",
       "    </tr>\n",
       "    <tr>\n",
       "      <th>50%</th>\n",
       "      <td>5.000000</td>\n",
       "    </tr>\n",
       "    <tr>\n",
       "      <th>75%</th>\n",
       "      <td>5.000000</td>\n",
       "    </tr>\n",
       "    <tr>\n",
       "      <th>max</th>\n",
       "      <td>5.000000</td>\n",
       "    </tr>\n",
       "  </tbody>\n",
       "</table>\n",
       "</div>"
      ],
      "text/plain": [
       "           rating\n",
       "count  489.000000\n",
       "mean     4.370143\n",
       "std      0.921070\n",
       "min      1.000000\n",
       "25%      4.000000\n",
       "50%      5.000000\n",
       "75%      5.000000\n",
       "max      5.000000"
      ]
     },
     "execution_count": 439,
     "metadata": {},
     "output_type": "execute_result"
    }
   ],
   "source": [
    "data.describe()"
   ]
  },
  {
   "cell_type": "markdown",
   "id": "14b45c3e",
   "metadata": {},
   "source": [
    "#### Infer: Average rating is approximately 4.37 and the product is not so bad."
   ]
  },
  {
   "cell_type": "code",
   "execution_count": 440,
   "id": "640ae0b3",
   "metadata": {},
   "outputs": [],
   "source": [
    "\n",
    "def clean(text):\n",
    "    text=str(text).lower()\n",
    "    text=re.sub(\"https://\\S+ | www\\.\\S+\", \"\", text)                # removing website starting protocols links  \n",
    "    text=re.sub(\"#[\\w]*\", \"\", text)                                # removing special tags like #awesome\n",
    "    text=re.sub(\"<.*?>\", \"\", text)                                 # removing html tags\n",
    "    text=re.sub('\\n', \"\", text)                                    # removing new lines\n",
    "    text=re.sub(\"\\w*\\d\\w*\", \"\", text)\n",
    "    text= text.encode('ascii','ignore') # Remove emojis and errors\n",
    "    text=text.decode()\n",
    "    text=contractions.fix(text) # Changing you're -> you are | Removing contractions\n",
    "    \n",
    "    text=text.translate(str.maketrans('','',string.punctuation))  # 1st parameter represents what need to be replaced, 2nd parameter represents what need to be placed instead of replaced word, and 3rd parameter represents what need to be deleted\n",
    "    text=[stemmer.stem(word) for word in text.split(\" \") if word not in stopwords] # it finds the stem word (basic word ) for example: cared ->care\n",
    "    text=\" \".join(text)\n",
    "    return text\n",
    "    "
   ]
  },
  {
   "cell_type": "code",
   "execution_count": 441,
   "id": "064bb988",
   "metadata": {},
   "outputs": [
    {
     "data": {
      "text/html": [
       "<div>\n",
       "<style scoped>\n",
       "    .dataframe tbody tr th:only-of-type {\n",
       "        vertical-align: middle;\n",
       "    }\n",
       "\n",
       "    .dataframe tbody tr th {\n",
       "        vertical-align: top;\n",
       "    }\n",
       "\n",
       "    .dataframe thead th {\n",
       "        text-align: right;\n",
       "    }\n",
       "</style>\n",
       "<table border=\"1\" class=\"dataframe\">\n",
       "  <thead>\n",
       "    <tr style=\"text-align: right;\">\n",
       "      <th></th>\n",
       "      <th>review</th>\n",
       "      <th>rating</th>\n",
       "    </tr>\n",
       "  </thead>\n",
       "  <tbody>\n",
       "    <tr>\n",
       "      <th>0</th>\n",
       "      <td>nice produt like design lot  easi carri   look...</td>\n",
       "      <td>5</td>\n",
       "    </tr>\n",
       "    <tr>\n",
       "      <th>1</th>\n",
       "      <td>awesom soundveri pretti see nd sound qualiti g...</td>\n",
       "      <td>5</td>\n",
       "    </tr>\n",
       "    <tr>\n",
       "      <th>2</th>\n",
       "      <td>awesom sound qualiti pros  hrs batteri life in...</td>\n",
       "      <td>4</td>\n",
       "    </tr>\n",
       "    <tr>\n",
       "      <th>3</th>\n",
       "      <td>think good product per qualiti also design qui...</td>\n",
       "      <td>5</td>\n",
       "    </tr>\n",
       "    <tr>\n",
       "      <th>4</th>\n",
       "      <td>awsom sound power bass batteri backup also exc...</td>\n",
       "      <td>5</td>\n",
       "    </tr>\n",
       "    <tr>\n",
       "      <th>...</th>\n",
       "      <td>...</td>\n",
       "      <td>...</td>\n",
       "    </tr>\n",
       "    <tr>\n",
       "      <th>484</th>\n",
       "      <td>right left distribut okayotherwis sound qualit...</td>\n",
       "      <td>4</td>\n",
       "    </tr>\n",
       "    <tr>\n",
       "      <th>485</th>\n",
       "      <td>nice bluetooth headphon pleas perform  day use...</td>\n",
       "      <td>5</td>\n",
       "    </tr>\n",
       "    <tr>\n",
       "      <th>486</th>\n",
       "      <td>excel sound qualiti deep bass good batteri bac...</td>\n",
       "      <td>5</td>\n",
       "    </tr>\n",
       "    <tr>\n",
       "      <th>487</th>\n",
       "      <td>good product boat headphon good best also nice...</td>\n",
       "      <td>5</td>\n",
       "    </tr>\n",
       "    <tr>\n",
       "      <th>488</th>\n",
       "      <td>headphon stylish look bass dj dispoint batteri...</td>\n",
       "      <td>4</td>\n",
       "    </tr>\n",
       "  </tbody>\n",
       "</table>\n",
       "<p>489 rows × 2 columns</p>\n",
       "</div>"
      ],
      "text/plain": [
       "                                                review  rating\n",
       "0    nice produt like design lot  easi carri   look...       5\n",
       "1    awesom soundveri pretti see nd sound qualiti g...       5\n",
       "2    awesom sound qualiti pros  hrs batteri life in...       4\n",
       "3    think good product per qualiti also design qui...       5\n",
       "4    awsom sound power bass batteri backup also exc...       5\n",
       "..                                                 ...     ...\n",
       "484  right left distribut okayotherwis sound qualit...       4\n",
       "485  nice bluetooth headphon pleas perform  day use...       5\n",
       "486  excel sound qualiti deep bass good batteri bac...       5\n",
       "487  good product boat headphon good best also nice...       5\n",
       "488  headphon stylish look bass dj dispoint batteri...       4\n",
       "\n",
       "[489 rows x 2 columns]"
      ]
     },
     "execution_count": 441,
     "metadata": {},
     "output_type": "execute_result"
    }
   ],
   "source": [
    "# Cleaning the data using regular expression\n",
    "data['review']=data['review'].apply(clean)\n",
    "data"
   ]
  },
  {
   "cell_type": "code",
   "execution_count": 442,
   "id": "b657a0de",
   "metadata": {},
   "outputs": [
    {
     "data": {
      "text/plain": [
       "5    280\n",
       "4    146\n",
       "3     42\n",
       "1     15\n",
       "2      6\n",
       "Name: rating, dtype: int64"
      ]
     },
     "execution_count": 442,
     "metadata": {},
     "output_type": "execute_result"
    }
   ],
   "source": [
    "ratings=data['rating'].value_counts()\n",
    "ratings"
   ]
  },
  {
   "cell_type": "code",
   "execution_count": 443,
   "id": "80261604",
   "metadata": {},
   "outputs": [
    {
     "data": {
      "application/vnd.plotly.v1+json": {
       "config": {
        "plotlyServerURL": "https://plot.ly"
       },
       "data": [
        {
         "domain": {
          "x": [
           0,
           1
          ],
          "y": [
           0,
           1
          ]
         },
         "hovertemplate": "label=%{label}<br>value=%{value}<extra></extra>",
         "labels": [
          5,
          4,
          3,
          1,
          2
         ],
         "legendgroup": "",
         "name": "",
         "showlegend": true,
         "type": "pie",
         "values": [
          280,
          146,
          42,
          15,
          6
         ]
        }
       ],
       "layout": {
        "legend": {
         "tracegroupgap": 0
        },
        "margin": {
         "t": 60
        },
        "template": {
         "data": {
          "bar": [
           {
            "error_x": {
             "color": "#2a3f5f"
            },
            "error_y": {
             "color": "#2a3f5f"
            },
            "marker": {
             "line": {
              "color": "#E5ECF6",
              "width": 0.5
             },
             "pattern": {
              "fillmode": "overlay",
              "size": 10,
              "solidity": 0.2
             }
            },
            "type": "bar"
           }
          ],
          "barpolar": [
           {
            "marker": {
             "line": {
              "color": "#E5ECF6",
              "width": 0.5
             },
             "pattern": {
              "fillmode": "overlay",
              "size": 10,
              "solidity": 0.2
             }
            },
            "type": "barpolar"
           }
          ],
          "carpet": [
           {
            "aaxis": {
             "endlinecolor": "#2a3f5f",
             "gridcolor": "white",
             "linecolor": "white",
             "minorgridcolor": "white",
             "startlinecolor": "#2a3f5f"
            },
            "baxis": {
             "endlinecolor": "#2a3f5f",
             "gridcolor": "white",
             "linecolor": "white",
             "minorgridcolor": "white",
             "startlinecolor": "#2a3f5f"
            },
            "type": "carpet"
           }
          ],
          "choropleth": [
           {
            "colorbar": {
             "outlinewidth": 0,
             "ticks": ""
            },
            "type": "choropleth"
           }
          ],
          "contour": [
           {
            "colorbar": {
             "outlinewidth": 0,
             "ticks": ""
            },
            "colorscale": [
             [
              0,
              "#0d0887"
             ],
             [
              0.1111111111111111,
              "#46039f"
             ],
             [
              0.2222222222222222,
              "#7201a8"
             ],
             [
              0.3333333333333333,
              "#9c179e"
             ],
             [
              0.4444444444444444,
              "#bd3786"
             ],
             [
              0.5555555555555556,
              "#d8576b"
             ],
             [
              0.6666666666666666,
              "#ed7953"
             ],
             [
              0.7777777777777778,
              "#fb9f3a"
             ],
             [
              0.8888888888888888,
              "#fdca26"
             ],
             [
              1,
              "#f0f921"
             ]
            ],
            "type": "contour"
           }
          ],
          "contourcarpet": [
           {
            "colorbar": {
             "outlinewidth": 0,
             "ticks": ""
            },
            "type": "contourcarpet"
           }
          ],
          "heatmap": [
           {
            "colorbar": {
             "outlinewidth": 0,
             "ticks": ""
            },
            "colorscale": [
             [
              0,
              "#0d0887"
             ],
             [
              0.1111111111111111,
              "#46039f"
             ],
             [
              0.2222222222222222,
              "#7201a8"
             ],
             [
              0.3333333333333333,
              "#9c179e"
             ],
             [
              0.4444444444444444,
              "#bd3786"
             ],
             [
              0.5555555555555556,
              "#d8576b"
             ],
             [
              0.6666666666666666,
              "#ed7953"
             ],
             [
              0.7777777777777778,
              "#fb9f3a"
             ],
             [
              0.8888888888888888,
              "#fdca26"
             ],
             [
              1,
              "#f0f921"
             ]
            ],
            "type": "heatmap"
           }
          ],
          "heatmapgl": [
           {
            "colorbar": {
             "outlinewidth": 0,
             "ticks": ""
            },
            "colorscale": [
             [
              0,
              "#0d0887"
             ],
             [
              0.1111111111111111,
              "#46039f"
             ],
             [
              0.2222222222222222,
              "#7201a8"
             ],
             [
              0.3333333333333333,
              "#9c179e"
             ],
             [
              0.4444444444444444,
              "#bd3786"
             ],
             [
              0.5555555555555556,
              "#d8576b"
             ],
             [
              0.6666666666666666,
              "#ed7953"
             ],
             [
              0.7777777777777778,
              "#fb9f3a"
             ],
             [
              0.8888888888888888,
              "#fdca26"
             ],
             [
              1,
              "#f0f921"
             ]
            ],
            "type": "heatmapgl"
           }
          ],
          "histogram": [
           {
            "marker": {
             "pattern": {
              "fillmode": "overlay",
              "size": 10,
              "solidity": 0.2
             }
            },
            "type": "histogram"
           }
          ],
          "histogram2d": [
           {
            "colorbar": {
             "outlinewidth": 0,
             "ticks": ""
            },
            "colorscale": [
             [
              0,
              "#0d0887"
             ],
             [
              0.1111111111111111,
              "#46039f"
             ],
             [
              0.2222222222222222,
              "#7201a8"
             ],
             [
              0.3333333333333333,
              "#9c179e"
             ],
             [
              0.4444444444444444,
              "#bd3786"
             ],
             [
              0.5555555555555556,
              "#d8576b"
             ],
             [
              0.6666666666666666,
              "#ed7953"
             ],
             [
              0.7777777777777778,
              "#fb9f3a"
             ],
             [
              0.8888888888888888,
              "#fdca26"
             ],
             [
              1,
              "#f0f921"
             ]
            ],
            "type": "histogram2d"
           }
          ],
          "histogram2dcontour": [
           {
            "colorbar": {
             "outlinewidth": 0,
             "ticks": ""
            },
            "colorscale": [
             [
              0,
              "#0d0887"
             ],
             [
              0.1111111111111111,
              "#46039f"
             ],
             [
              0.2222222222222222,
              "#7201a8"
             ],
             [
              0.3333333333333333,
              "#9c179e"
             ],
             [
              0.4444444444444444,
              "#bd3786"
             ],
             [
              0.5555555555555556,
              "#d8576b"
             ],
             [
              0.6666666666666666,
              "#ed7953"
             ],
             [
              0.7777777777777778,
              "#fb9f3a"
             ],
             [
              0.8888888888888888,
              "#fdca26"
             ],
             [
              1,
              "#f0f921"
             ]
            ],
            "type": "histogram2dcontour"
           }
          ],
          "mesh3d": [
           {
            "colorbar": {
             "outlinewidth": 0,
             "ticks": ""
            },
            "type": "mesh3d"
           }
          ],
          "parcoords": [
           {
            "line": {
             "colorbar": {
              "outlinewidth": 0,
              "ticks": ""
             }
            },
            "type": "parcoords"
           }
          ],
          "pie": [
           {
            "automargin": true,
            "type": "pie"
           }
          ],
          "scatter": [
           {
            "marker": {
             "colorbar": {
              "outlinewidth": 0,
              "ticks": ""
             }
            },
            "type": "scatter"
           }
          ],
          "scatter3d": [
           {
            "line": {
             "colorbar": {
              "outlinewidth": 0,
              "ticks": ""
             }
            },
            "marker": {
             "colorbar": {
              "outlinewidth": 0,
              "ticks": ""
             }
            },
            "type": "scatter3d"
           }
          ],
          "scattercarpet": [
           {
            "marker": {
             "colorbar": {
              "outlinewidth": 0,
              "ticks": ""
             }
            },
            "type": "scattercarpet"
           }
          ],
          "scattergeo": [
           {
            "marker": {
             "colorbar": {
              "outlinewidth": 0,
              "ticks": ""
             }
            },
            "type": "scattergeo"
           }
          ],
          "scattergl": [
           {
            "marker": {
             "colorbar": {
              "outlinewidth": 0,
              "ticks": ""
             }
            },
            "type": "scattergl"
           }
          ],
          "scattermapbox": [
           {
            "marker": {
             "colorbar": {
              "outlinewidth": 0,
              "ticks": ""
             }
            },
            "type": "scattermapbox"
           }
          ],
          "scatterpolar": [
           {
            "marker": {
             "colorbar": {
              "outlinewidth": 0,
              "ticks": ""
             }
            },
            "type": "scatterpolar"
           }
          ],
          "scatterpolargl": [
           {
            "marker": {
             "colorbar": {
              "outlinewidth": 0,
              "ticks": ""
             }
            },
            "type": "scatterpolargl"
           }
          ],
          "scatterternary": [
           {
            "marker": {
             "colorbar": {
              "outlinewidth": 0,
              "ticks": ""
             }
            },
            "type": "scatterternary"
           }
          ],
          "surface": [
           {
            "colorbar": {
             "outlinewidth": 0,
             "ticks": ""
            },
            "colorscale": [
             [
              0,
              "#0d0887"
             ],
             [
              0.1111111111111111,
              "#46039f"
             ],
             [
              0.2222222222222222,
              "#7201a8"
             ],
             [
              0.3333333333333333,
              "#9c179e"
             ],
             [
              0.4444444444444444,
              "#bd3786"
             ],
             [
              0.5555555555555556,
              "#d8576b"
             ],
             [
              0.6666666666666666,
              "#ed7953"
             ],
             [
              0.7777777777777778,
              "#fb9f3a"
             ],
             [
              0.8888888888888888,
              "#fdca26"
             ],
             [
              1,
              "#f0f921"
             ]
            ],
            "type": "surface"
           }
          ],
          "table": [
           {
            "cells": {
             "fill": {
              "color": "#EBF0F8"
             },
             "line": {
              "color": "white"
             }
            },
            "header": {
             "fill": {
              "color": "#C8D4E3"
             },
             "line": {
              "color": "white"
             }
            },
            "type": "table"
           }
          ]
         },
         "layout": {
          "annotationdefaults": {
           "arrowcolor": "#2a3f5f",
           "arrowhead": 0,
           "arrowwidth": 1
          },
          "autotypenumbers": "strict",
          "coloraxis": {
           "colorbar": {
            "outlinewidth": 0,
            "ticks": ""
           }
          },
          "colorscale": {
           "diverging": [
            [
             0,
             "#8e0152"
            ],
            [
             0.1,
             "#c51b7d"
            ],
            [
             0.2,
             "#de77ae"
            ],
            [
             0.3,
             "#f1b6da"
            ],
            [
             0.4,
             "#fde0ef"
            ],
            [
             0.5,
             "#f7f7f7"
            ],
            [
             0.6,
             "#e6f5d0"
            ],
            [
             0.7,
             "#b8e186"
            ],
            [
             0.8,
             "#7fbc41"
            ],
            [
             0.9,
             "#4d9221"
            ],
            [
             1,
             "#276419"
            ]
           ],
           "sequential": [
            [
             0,
             "#0d0887"
            ],
            [
             0.1111111111111111,
             "#46039f"
            ],
            [
             0.2222222222222222,
             "#7201a8"
            ],
            [
             0.3333333333333333,
             "#9c179e"
            ],
            [
             0.4444444444444444,
             "#bd3786"
            ],
            [
             0.5555555555555556,
             "#d8576b"
            ],
            [
             0.6666666666666666,
             "#ed7953"
            ],
            [
             0.7777777777777778,
             "#fb9f3a"
            ],
            [
             0.8888888888888888,
             "#fdca26"
            ],
            [
             1,
             "#f0f921"
            ]
           ],
           "sequentialminus": [
            [
             0,
             "#0d0887"
            ],
            [
             0.1111111111111111,
             "#46039f"
            ],
            [
             0.2222222222222222,
             "#7201a8"
            ],
            [
             0.3333333333333333,
             "#9c179e"
            ],
            [
             0.4444444444444444,
             "#bd3786"
            ],
            [
             0.5555555555555556,
             "#d8576b"
            ],
            [
             0.6666666666666666,
             "#ed7953"
            ],
            [
             0.7777777777777778,
             "#fb9f3a"
            ],
            [
             0.8888888888888888,
             "#fdca26"
            ],
            [
             1,
             "#f0f921"
            ]
           ]
          },
          "colorway": [
           "#636efa",
           "#EF553B",
           "#00cc96",
           "#ab63fa",
           "#FFA15A",
           "#19d3f3",
           "#FF6692",
           "#B6E880",
           "#FF97FF",
           "#FECB52"
          ],
          "font": {
           "color": "#2a3f5f"
          },
          "geo": {
           "bgcolor": "white",
           "lakecolor": "white",
           "landcolor": "#E5ECF6",
           "showlakes": true,
           "showland": true,
           "subunitcolor": "white"
          },
          "hoverlabel": {
           "align": "left"
          },
          "hovermode": "closest",
          "mapbox": {
           "style": "light"
          },
          "paper_bgcolor": "white",
          "plot_bgcolor": "#E5ECF6",
          "polar": {
           "angularaxis": {
            "gridcolor": "white",
            "linecolor": "white",
            "ticks": ""
           },
           "bgcolor": "#E5ECF6",
           "radialaxis": {
            "gridcolor": "white",
            "linecolor": "white",
            "ticks": ""
           }
          },
          "scene": {
           "xaxis": {
            "backgroundcolor": "#E5ECF6",
            "gridcolor": "white",
            "gridwidth": 2,
            "linecolor": "white",
            "showbackground": true,
            "ticks": "",
            "zerolinecolor": "white"
           },
           "yaxis": {
            "backgroundcolor": "#E5ECF6",
            "gridcolor": "white",
            "gridwidth": 2,
            "linecolor": "white",
            "showbackground": true,
            "ticks": "",
            "zerolinecolor": "white"
           },
           "zaxis": {
            "backgroundcolor": "#E5ECF6",
            "gridcolor": "white",
            "gridwidth": 2,
            "linecolor": "white",
            "showbackground": true,
            "ticks": "",
            "zerolinecolor": "white"
           }
          },
          "shapedefaults": {
           "line": {
            "color": "#2a3f5f"
           }
          },
          "ternary": {
           "aaxis": {
            "gridcolor": "white",
            "linecolor": "white",
            "ticks": ""
           },
           "baxis": {
            "gridcolor": "white",
            "linecolor": "white",
            "ticks": ""
           },
           "bgcolor": "#E5ECF6",
           "caxis": {
            "gridcolor": "white",
            "linecolor": "white",
            "ticks": ""
           }
          },
          "title": {
           "x": 0.05
          },
          "xaxis": {
           "automargin": true,
           "gridcolor": "white",
           "linecolor": "white",
           "ticks": "",
           "title": {
            "standoff": 15
           },
           "zerolinecolor": "white",
           "zerolinewidth": 2
          },
          "yaxis": {
           "automargin": true,
           "gridcolor": "white",
           "linecolor": "white",
           "ticks": "",
           "title": {
            "standoff": 15
           },
           "zerolinecolor": "white",
           "zerolinewidth": 2
          }
         }
        }
       }
      },
      "text/html": [
       "<div>                            <div id=\"f7bbe2e5-215b-4976-a7ff-a9b48b9bb3ed\" class=\"plotly-graph-div\" style=\"height:525px; width:100%;\"></div>            <script type=\"text/javascript\">                require([\"plotly\"], function(Plotly) {                    window.PLOTLYENV=window.PLOTLYENV || {};                                    if (document.getElementById(\"f7bbe2e5-215b-4976-a7ff-a9b48b9bb3ed\")) {                    Plotly.newPlot(                        \"f7bbe2e5-215b-4976-a7ff-a9b48b9bb3ed\",                        [{\"domain\":{\"x\":[0.0,1.0],\"y\":[0.0,1.0]},\"hovertemplate\":\"label=%{label}<br>value=%{value}<extra></extra>\",\"labels\":[5,4,3,1,2],\"legendgroup\":\"\",\"name\":\"\",\"showlegend\":true,\"values\":[280,146,42,15,6],\"type\":\"pie\"}],                        {\"template\":{\"data\":{\"bar\":[{\"error_x\":{\"color\":\"#2a3f5f\"},\"error_y\":{\"color\":\"#2a3f5f\"},\"marker\":{\"line\":{\"color\":\"#E5ECF6\",\"width\":0.5},\"pattern\":{\"fillmode\":\"overlay\",\"size\":10,\"solidity\":0.2}},\"type\":\"bar\"}],\"barpolar\":[{\"marker\":{\"line\":{\"color\":\"#E5ECF6\",\"width\":0.5},\"pattern\":{\"fillmode\":\"overlay\",\"size\":10,\"solidity\":0.2}},\"type\":\"barpolar\"}],\"carpet\":[{\"aaxis\":{\"endlinecolor\":\"#2a3f5f\",\"gridcolor\":\"white\",\"linecolor\":\"white\",\"minorgridcolor\":\"white\",\"startlinecolor\":\"#2a3f5f\"},\"baxis\":{\"endlinecolor\":\"#2a3f5f\",\"gridcolor\":\"white\",\"linecolor\":\"white\",\"minorgridcolor\":\"white\",\"startlinecolor\":\"#2a3f5f\"},\"type\":\"carpet\"}],\"choropleth\":[{\"colorbar\":{\"outlinewidth\":0,\"ticks\":\"\"},\"type\":\"choropleth\"}],\"contour\":[{\"colorbar\":{\"outlinewidth\":0,\"ticks\":\"\"},\"colorscale\":[[0.0,\"#0d0887\"],[0.1111111111111111,\"#46039f\"],[0.2222222222222222,\"#7201a8\"],[0.3333333333333333,\"#9c179e\"],[0.4444444444444444,\"#bd3786\"],[0.5555555555555556,\"#d8576b\"],[0.6666666666666666,\"#ed7953\"],[0.7777777777777778,\"#fb9f3a\"],[0.8888888888888888,\"#fdca26\"],[1.0,\"#f0f921\"]],\"type\":\"contour\"}],\"contourcarpet\":[{\"colorbar\":{\"outlinewidth\":0,\"ticks\":\"\"},\"type\":\"contourcarpet\"}],\"heatmap\":[{\"colorbar\":{\"outlinewidth\":0,\"ticks\":\"\"},\"colorscale\":[[0.0,\"#0d0887\"],[0.1111111111111111,\"#46039f\"],[0.2222222222222222,\"#7201a8\"],[0.3333333333333333,\"#9c179e\"],[0.4444444444444444,\"#bd3786\"],[0.5555555555555556,\"#d8576b\"],[0.6666666666666666,\"#ed7953\"],[0.7777777777777778,\"#fb9f3a\"],[0.8888888888888888,\"#fdca26\"],[1.0,\"#f0f921\"]],\"type\":\"heatmap\"}],\"heatmapgl\":[{\"colorbar\":{\"outlinewidth\":0,\"ticks\":\"\"},\"colorscale\":[[0.0,\"#0d0887\"],[0.1111111111111111,\"#46039f\"],[0.2222222222222222,\"#7201a8\"],[0.3333333333333333,\"#9c179e\"],[0.4444444444444444,\"#bd3786\"],[0.5555555555555556,\"#d8576b\"],[0.6666666666666666,\"#ed7953\"],[0.7777777777777778,\"#fb9f3a\"],[0.8888888888888888,\"#fdca26\"],[1.0,\"#f0f921\"]],\"type\":\"heatmapgl\"}],\"histogram\":[{\"marker\":{\"pattern\":{\"fillmode\":\"overlay\",\"size\":10,\"solidity\":0.2}},\"type\":\"histogram\"}],\"histogram2d\":[{\"colorbar\":{\"outlinewidth\":0,\"ticks\":\"\"},\"colorscale\":[[0.0,\"#0d0887\"],[0.1111111111111111,\"#46039f\"],[0.2222222222222222,\"#7201a8\"],[0.3333333333333333,\"#9c179e\"],[0.4444444444444444,\"#bd3786\"],[0.5555555555555556,\"#d8576b\"],[0.6666666666666666,\"#ed7953\"],[0.7777777777777778,\"#fb9f3a\"],[0.8888888888888888,\"#fdca26\"],[1.0,\"#f0f921\"]],\"type\":\"histogram2d\"}],\"histogram2dcontour\":[{\"colorbar\":{\"outlinewidth\":0,\"ticks\":\"\"},\"colorscale\":[[0.0,\"#0d0887\"],[0.1111111111111111,\"#46039f\"],[0.2222222222222222,\"#7201a8\"],[0.3333333333333333,\"#9c179e\"],[0.4444444444444444,\"#bd3786\"],[0.5555555555555556,\"#d8576b\"],[0.6666666666666666,\"#ed7953\"],[0.7777777777777778,\"#fb9f3a\"],[0.8888888888888888,\"#fdca26\"],[1.0,\"#f0f921\"]],\"type\":\"histogram2dcontour\"}],\"mesh3d\":[{\"colorbar\":{\"outlinewidth\":0,\"ticks\":\"\"},\"type\":\"mesh3d\"}],\"parcoords\":[{\"line\":{\"colorbar\":{\"outlinewidth\":0,\"ticks\":\"\"}},\"type\":\"parcoords\"}],\"pie\":[{\"automargin\":true,\"type\":\"pie\"}],\"scatter\":[{\"marker\":{\"colorbar\":{\"outlinewidth\":0,\"ticks\":\"\"}},\"type\":\"scatter\"}],\"scatter3d\":[{\"line\":{\"colorbar\":{\"outlinewidth\":0,\"ticks\":\"\"}},\"marker\":{\"colorbar\":{\"outlinewidth\":0,\"ticks\":\"\"}},\"type\":\"scatter3d\"}],\"scattercarpet\":[{\"marker\":{\"colorbar\":{\"outlinewidth\":0,\"ticks\":\"\"}},\"type\":\"scattercarpet\"}],\"scattergeo\":[{\"marker\":{\"colorbar\":{\"outlinewidth\":0,\"ticks\":\"\"}},\"type\":\"scattergeo\"}],\"scattergl\":[{\"marker\":{\"colorbar\":{\"outlinewidth\":0,\"ticks\":\"\"}},\"type\":\"scattergl\"}],\"scattermapbox\":[{\"marker\":{\"colorbar\":{\"outlinewidth\":0,\"ticks\":\"\"}},\"type\":\"scattermapbox\"}],\"scatterpolar\":[{\"marker\":{\"colorbar\":{\"outlinewidth\":0,\"ticks\":\"\"}},\"type\":\"scatterpolar\"}],\"scatterpolargl\":[{\"marker\":{\"colorbar\":{\"outlinewidth\":0,\"ticks\":\"\"}},\"type\":\"scatterpolargl\"}],\"scatterternary\":[{\"marker\":{\"colorbar\":{\"outlinewidth\":0,\"ticks\":\"\"}},\"type\":\"scatterternary\"}],\"surface\":[{\"colorbar\":{\"outlinewidth\":0,\"ticks\":\"\"},\"colorscale\":[[0.0,\"#0d0887\"],[0.1111111111111111,\"#46039f\"],[0.2222222222222222,\"#7201a8\"],[0.3333333333333333,\"#9c179e\"],[0.4444444444444444,\"#bd3786\"],[0.5555555555555556,\"#d8576b\"],[0.6666666666666666,\"#ed7953\"],[0.7777777777777778,\"#fb9f3a\"],[0.8888888888888888,\"#fdca26\"],[1.0,\"#f0f921\"]],\"type\":\"surface\"}],\"table\":[{\"cells\":{\"fill\":{\"color\":\"#EBF0F8\"},\"line\":{\"color\":\"white\"}},\"header\":{\"fill\":{\"color\":\"#C8D4E3\"},\"line\":{\"color\":\"white\"}},\"type\":\"table\"}]},\"layout\":{\"annotationdefaults\":{\"arrowcolor\":\"#2a3f5f\",\"arrowhead\":0,\"arrowwidth\":1},\"autotypenumbers\":\"strict\",\"coloraxis\":{\"colorbar\":{\"outlinewidth\":0,\"ticks\":\"\"}},\"colorscale\":{\"diverging\":[[0,\"#8e0152\"],[0.1,\"#c51b7d\"],[0.2,\"#de77ae\"],[0.3,\"#f1b6da\"],[0.4,\"#fde0ef\"],[0.5,\"#f7f7f7\"],[0.6,\"#e6f5d0\"],[0.7,\"#b8e186\"],[0.8,\"#7fbc41\"],[0.9,\"#4d9221\"],[1,\"#276419\"]],\"sequential\":[[0.0,\"#0d0887\"],[0.1111111111111111,\"#46039f\"],[0.2222222222222222,\"#7201a8\"],[0.3333333333333333,\"#9c179e\"],[0.4444444444444444,\"#bd3786\"],[0.5555555555555556,\"#d8576b\"],[0.6666666666666666,\"#ed7953\"],[0.7777777777777778,\"#fb9f3a\"],[0.8888888888888888,\"#fdca26\"],[1.0,\"#f0f921\"]],\"sequentialminus\":[[0.0,\"#0d0887\"],[0.1111111111111111,\"#46039f\"],[0.2222222222222222,\"#7201a8\"],[0.3333333333333333,\"#9c179e\"],[0.4444444444444444,\"#bd3786\"],[0.5555555555555556,\"#d8576b\"],[0.6666666666666666,\"#ed7953\"],[0.7777777777777778,\"#fb9f3a\"],[0.8888888888888888,\"#fdca26\"],[1.0,\"#f0f921\"]]},\"colorway\":[\"#636efa\",\"#EF553B\",\"#00cc96\",\"#ab63fa\",\"#FFA15A\",\"#19d3f3\",\"#FF6692\",\"#B6E880\",\"#FF97FF\",\"#FECB52\"],\"font\":{\"color\":\"#2a3f5f\"},\"geo\":{\"bgcolor\":\"white\",\"lakecolor\":\"white\",\"landcolor\":\"#E5ECF6\",\"showlakes\":true,\"showland\":true,\"subunitcolor\":\"white\"},\"hoverlabel\":{\"align\":\"left\"},\"hovermode\":\"closest\",\"mapbox\":{\"style\":\"light\"},\"paper_bgcolor\":\"white\",\"plot_bgcolor\":\"#E5ECF6\",\"polar\":{\"angularaxis\":{\"gridcolor\":\"white\",\"linecolor\":\"white\",\"ticks\":\"\"},\"bgcolor\":\"#E5ECF6\",\"radialaxis\":{\"gridcolor\":\"white\",\"linecolor\":\"white\",\"ticks\":\"\"}},\"scene\":{\"xaxis\":{\"backgroundcolor\":\"#E5ECF6\",\"gridcolor\":\"white\",\"gridwidth\":2,\"linecolor\":\"white\",\"showbackground\":true,\"ticks\":\"\",\"zerolinecolor\":\"white\"},\"yaxis\":{\"backgroundcolor\":\"#E5ECF6\",\"gridcolor\":\"white\",\"gridwidth\":2,\"linecolor\":\"white\",\"showbackground\":true,\"ticks\":\"\",\"zerolinecolor\":\"white\"},\"zaxis\":{\"backgroundcolor\":\"#E5ECF6\",\"gridcolor\":\"white\",\"gridwidth\":2,\"linecolor\":\"white\",\"showbackground\":true,\"ticks\":\"\",\"zerolinecolor\":\"white\"}},\"shapedefaults\":{\"line\":{\"color\":\"#2a3f5f\"}},\"ternary\":{\"aaxis\":{\"gridcolor\":\"white\",\"linecolor\":\"white\",\"ticks\":\"\"},\"baxis\":{\"gridcolor\":\"white\",\"linecolor\":\"white\",\"ticks\":\"\"},\"bgcolor\":\"#E5ECF6\",\"caxis\":{\"gridcolor\":\"white\",\"linecolor\":\"white\",\"ticks\":\"\"}},\"title\":{\"x\":0.05},\"xaxis\":{\"automargin\":true,\"gridcolor\":\"white\",\"linecolor\":\"white\",\"ticks\":\"\",\"title\":{\"standoff\":15},\"zerolinecolor\":\"white\",\"zerolinewidth\":2},\"yaxis\":{\"automargin\":true,\"gridcolor\":\"white\",\"linecolor\":\"white\",\"ticks\":\"\",\"title\":{\"standoff\":15},\"zerolinecolor\":\"white\",\"zerolinewidth\":2}}},\"legend\":{\"tracegroupgap\":0},\"margin\":{\"t\":60}},                        {\"responsive\": true}                    ).then(function(){\n",
       "                            \n",
       "var gd = document.getElementById('f7bbe2e5-215b-4976-a7ff-a9b48b9bb3ed');\n",
       "var x = new MutationObserver(function (mutations, observer) {{\n",
       "        var display = window.getComputedStyle(gd).display;\n",
       "        if (!display || display === 'none') {{\n",
       "            console.log([gd, 'removed!']);\n",
       "            Plotly.purge(gd);\n",
       "            observer.disconnect();\n",
       "        }}\n",
       "}});\n",
       "\n",
       "// Listen for the removal of the full notebook cells\n",
       "var notebookContainer = gd.closest('#notebook-container');\n",
       "if (notebookContainer) {{\n",
       "    x.observe(notebookContainer, {childList: true});\n",
       "}}\n",
       "\n",
       "// Listen for the clearing of the current output cell\n",
       "var outputEl = gd.closest('.output');\n",
       "if (outputEl) {{\n",
       "    x.observe(outputEl, {childList: true});\n",
       "}}\n",
       "\n",
       "                        })                };                });            </script>        </div>"
      ]
     },
     "metadata": {},
     "output_type": "display_data"
    }
   ],
   "source": [
    "# Data Visualisation\n",
    "ratings=data['rating'].value_counts()\n",
    "categories=ratings.index\n",
    "quantities=ratings.values\n",
    "\n",
    "import plotly.express as px\n",
    "figure=px.pie(data, \n",
    "             values=quantities,\n",
    "             names=categories)\n",
    "\n",
    "figure.show()"
   ]
  },
  {
   "cell_type": "code",
   "execution_count": 444,
   "id": "20c5bff6",
   "metadata": {},
   "outputs": [
    {
     "name": "stderr",
     "output_type": "stream",
     "text": [
      "C:\\Users\\priya\\anaconda3\\lib\\site-packages\\seaborn\\axisgrid.py:337: UserWarning:\n",
      "\n",
      "The `size` parameter has been renamed to `height`; please update your code.\n",
      "\n",
      "C:\\Users\\priya\\anaconda3\\lib\\site-packages\\seaborn\\distributions.py:2619: FutureWarning:\n",
      "\n",
      "`distplot` is a deprecated function and will be removed in a future version. Please adapt your code to use either `displot` (a figure-level function with similar flexibility) or `histplot` (an axes-level function for histograms).\n",
      "\n"
     ]
    },
    {
     "data": {
      "image/png": "[encoded data removed]",
      "text/plain": [
       "<Figure size 360x360 with 1 Axes>"
      ]
     },
     "metadata": {
      "needs_background": "light"
     },
     "output_type": "display_data"
    }
   ],
   "source": [
    "# In other way using histogram \n",
    "sns.FacetGrid(data, size=5).map(sns.distplot, \"rating\")\n",
    "plt.show()\n",
    "\n",
    "# mostly rating lies in 4 to 5 range "
   ]
  },
  {
   "cell_type": "markdown",
   "id": "b7b4bedb",
   "metadata": {},
   "source": [
    "#### Infer: approx 60 percent ratings flipkart got for that particular product is 5."
   ]
  },
  {
   "cell_type": "code",
   "execution_count": 445,
   "id": "139007b5",
   "metadata": {},
   "outputs": [
    {
     "data": {
      "image/png": "[encoded data removed]",
      "text/plain": [
       "<Figure size 1080x1440 with 1 Axes>"
      ]
     },
     "metadata": {
      "needs_background": "light"
     },
     "output_type": "display_data"
    }
   ],
   "source": [
    "text=\" \".join(i for i in data.review)\n",
    "wordcloud= WordCloud(stopwords=stopwords, background_color='white').generate(text)\n",
    "plt.figure(figsize=(15, 20))\n",
    "plt.imshow(wordcloud)\n",
    "plt.axis(\"off\")\n",
    "plt.show()\n"
   ]
  },
  {
   "cell_type": "markdown",
   "id": "b8f117b2",
   "metadata": {},
   "source": [
    "###  Infer: \n",
    "#### The more the size of word, the more times that are in the reviews.\n",
    "####  We can see that both good and headphon are the two words which are big in size. So it tells that many people have given review that headphones are good."
   ]
  },
  {
   "cell_type": "code",
   "execution_count": 446,
   "id": "3c0f2fd8",
   "metadata": {},
   "outputs": [
    {
     "name": "stderr",
     "output_type": "stream",
     "text": [
      "[nltk_data] Downloading package vader_lexicon to\n",
      "[nltk_data]     C:\\Users\\priya\\AppData\\Roaming\\nltk_data...\n",
      "[nltk_data]   Package vader_lexicon is already up-to-date!\n"
     ]
    },
    {
     "data": {
      "text/html": [
       "<div>\n",
       "<style scoped>\n",
       "    .dataframe tbody tr th:only-of-type {\n",
       "        vertical-align: middle;\n",
       "    }\n",
       "\n",
       "    .dataframe tbody tr th {\n",
       "        vertical-align: top;\n",
       "    }\n",
       "\n",
       "    .dataframe thead th {\n",
       "        text-align: right;\n",
       "    }\n",
       "</style>\n",
       "<table border=\"1\" class=\"dataframe\">\n",
       "  <thead>\n",
       "    <tr style=\"text-align: right;\">\n",
       "      <th></th>\n",
       "      <th>review</th>\n",
       "      <th>rating</th>\n",
       "      <th>Positive</th>\n",
       "      <th>Negative</th>\n",
       "      <th>Neutral</th>\n",
       "    </tr>\n",
       "  </thead>\n",
       "  <tbody>\n",
       "    <tr>\n",
       "      <th>0</th>\n",
       "      <td>nice produt like design lot  easi carri   look...</td>\n",
       "      <td>5</td>\n",
       "      <td>0.431</td>\n",
       "      <td>0.000</td>\n",
       "      <td>0.569</td>\n",
       "    </tr>\n",
       "    <tr>\n",
       "      <th>1</th>\n",
       "      <td>awesom soundveri pretti see nd sound qualiti g...</td>\n",
       "      <td>5</td>\n",
       "      <td>0.471</td>\n",
       "      <td>0.000</td>\n",
       "      <td>0.529</td>\n",
       "    </tr>\n",
       "    <tr>\n",
       "      <th>2</th>\n",
       "      <td>awesom sound qualiti pros  hrs batteri life in...</td>\n",
       "      <td>4</td>\n",
       "      <td>0.194</td>\n",
       "      <td>0.000</td>\n",
       "      <td>0.806</td>\n",
       "    </tr>\n",
       "    <tr>\n",
       "      <th>3</th>\n",
       "      <td>think good product per qualiti also design qui...</td>\n",
       "      <td>5</td>\n",
       "      <td>0.393</td>\n",
       "      <td>0.049</td>\n",
       "      <td>0.558</td>\n",
       "    </tr>\n",
       "    <tr>\n",
       "      <th>4</th>\n",
       "      <td>awsom sound power bass batteri backup also exc...</td>\n",
       "      <td>5</td>\n",
       "      <td>0.486</td>\n",
       "      <td>0.030</td>\n",
       "      <td>0.484</td>\n",
       "    </tr>\n",
       "  </tbody>\n",
       "</table>\n",
       "</div>"
      ],
      "text/plain": [
       "                                              review  rating  Positive  \\\n",
       "0  nice produt like design lot  easi carri   look...       5     0.431   \n",
       "1  awesom soundveri pretti see nd sound qualiti g...       5     0.471   \n",
       "2  awesom sound qualiti pros  hrs batteri life in...       4     0.194   \n",
       "3  think good product per qualiti also design qui...       5     0.393   \n",
       "4  awsom sound power bass batteri backup also exc...       5     0.486   \n",
       "\n",
       "   Negative  Neutral  \n",
       "0     0.000    0.569  \n",
       "1     0.000    0.529  \n",
       "2     0.000    0.806  \n",
       "3     0.049    0.558  \n",
       "4     0.030    0.484  "
      ]
     },
     "execution_count": 446,
     "metadata": {},
     "output_type": "execute_result"
    }
   ],
   "source": [
    "# Analysing the scores of reviews to be positive, negative and neutral\n",
    "\n",
    "nltk.download('vader_lexicon')\n",
    "sentiment=SentimentIntensityAnalyzer()\n",
    "\n",
    "data['Positive']=[sentiment.polarity_scores(i)['pos'] for i in data.review]\n",
    "data['Negative']=[sentiment.polarity_scores(i)['neg'] for i in data.review]\n",
    "data['Neutral']=[sentiment.polarity_scores(i)['neu'] for i in data.review]\n",
    "data.head()"
   ]
  },
  {
   "cell_type": "code",
   "execution_count": 447,
   "id": "895cd422",
   "metadata": {},
   "outputs": [],
   "source": [
    "x= sum(data['Positive'])\n",
    "y= sum(data['Negative'])\n",
    "z= sum(data['Neutral'])"
   ]
  },
  {
   "cell_type": "code",
   "execution_count": 448,
   "id": "491ed312",
   "metadata": {},
   "outputs": [
    {
     "data": {
      "text/html": [
       "<div>\n",
       "<style scoped>\n",
       "    .dataframe tbody tr th:only-of-type {\n",
       "        vertical-align: middle;\n",
       "    }\n",
       "\n",
       "    .dataframe tbody tr th {\n",
       "        vertical-align: top;\n",
       "    }\n",
       "\n",
       "    .dataframe thead th {\n",
       "        text-align: right;\n",
       "    }\n",
       "</style>\n",
       "<table border=\"1\" class=\"dataframe\">\n",
       "  <thead>\n",
       "    <tr style=\"text-align: right;\">\n",
       "      <th></th>\n",
       "      <th>review</th>\n",
       "      <th>rating</th>\n",
       "    </tr>\n",
       "  </thead>\n",
       "  <tbody>\n",
       "    <tr>\n",
       "      <th>18</th>\n",
       "      <td>Amazing Audio product from boAt.• Superb bass....</td>\n",
       "      <td>5</td>\n",
       "    </tr>\n",
       "    <tr>\n",
       "      <th>19</th>\n",
       "      <td>awesome bass sound quality very good bettary l...</td>\n",
       "      <td>5</td>\n",
       "    </tr>\n",
       "    <tr>\n",
       "      <th>37</th>\n",
       "      <td>Delivery is to slow.Sound quality is super and...</td>\n",
       "      <td>4</td>\n",
       "    </tr>\n",
       "    <tr>\n",
       "      <th>60</th>\n",
       "      <td>Not good at all only because of one reason the...</td>\n",
       "      <td>1</td>\n",
       "    </tr>\n",
       "    <tr>\n",
       "      <th>70</th>\n",
       "      <td>It's amazing but one problem is after 1 month ...</td>\n",
       "      <td>5</td>\n",
       "    </tr>\n",
       "    <tr>\n",
       "      <th>...</th>\n",
       "      <td>...</td>\n",
       "      <td>...</td>\n",
       "    </tr>\n",
       "    <tr>\n",
       "      <th>438</th>\n",
       "      <td>I can't believe this kind of advanced features...</td>\n",
       "      <td>5</td>\n",
       "    </tr>\n",
       "    <tr>\n",
       "      <th>439</th>\n",
       "      <td>Super low price for an extraordinary product. ...</td>\n",
       "      <td>5</td>\n",
       "    </tr>\n",
       "    <tr>\n",
       "      <th>450</th>\n",
       "      <td>No doubt on this its awesome But its not for h...</td>\n",
       "      <td>4</td>\n",
       "    </tr>\n",
       "    <tr>\n",
       "      <th>457</th>\n",
       "      <td>Have been using this for more than 6 months no...</td>\n",
       "      <td>5</td>\n",
       "    </tr>\n",
       "    <tr>\n",
       "      <th>464</th>\n",
       "      <td>i am writing this review aftet using it 1 week...</td>\n",
       "      <td>5</td>\n",
       "    </tr>\n",
       "  </tbody>\n",
       "</table>\n",
       "<p>64 rows × 2 columns</p>\n",
       "</div>"
      ],
      "text/plain": [
       "                                                review  rating\n",
       "18   Amazing Audio product from boAt.• Superb bass....       5\n",
       "19   awesome bass sound quality very good bettary l...       5\n",
       "37   Delivery is to slow.Sound quality is super and...       4\n",
       "60   Not good at all only because of one reason the...       1\n",
       "70   It's amazing but one problem is after 1 month ...       5\n",
       "..                                                 ...     ...\n",
       "438  I can't believe this kind of advanced features...       5\n",
       "439  Super low price for an extraordinary product. ...       5\n",
       "450  No doubt on this its awesome But its not for h...       4\n",
       "457  Have been using this for more than 6 months no...       5\n",
       "464  i am writing this review aftet using it 1 week...       5\n",
       "\n",
       "[64 rows x 2 columns]"
      ]
     },
     "execution_count": 448,
     "metadata": {},
     "output_type": "execute_result"
    }
   ],
   "source": [
    "# reviews having negative sentiments more than 10 percent\n",
    "data_safe[data['Negative']>0.10]"
   ]
  },
  {
   "cell_type": "code",
   "execution_count": 449,
   "id": "88d9217d",
   "metadata": {},
   "outputs": [
    {
     "data": {
      "text/plain": [
       "'Neutral'"
      ]
     },
     "execution_count": 449,
     "metadata": {},
     "output_type": "execute_result"
    }
   ],
   "source": [
    "\n",
    "def max_sentiment_score(x, y, z):\n",
    "    if(x>y and x>z):\n",
    "        return 'Positive'\n",
    "    elif (y>x and y>z):\n",
    "        return 'Negative'\n",
    "    else:\n",
    "        return 'Neutral'\n",
    "    \n",
    "max_sentiment_score(x, y, z)"
   ]
  },
  {
   "cell_type": "markdown",
   "id": "38cd6d23",
   "metadata": {},
   "source": [
    "#### Infer: Maximum Sentiment Score is 'Neutral '. It means that if we will add up the sentiment effect of reviews on the people, it will not impact positive on the person surely. It can affect positive or negative acccording to the comments, he/she is reading."
   ]
  },
  {
   "cell_type": "markdown",
   "id": "6b7bc6d5",
   "metadata": {},
   "source": [
    "### Model Training"
   ]
  },
  {
   "cell_type": "code",
   "execution_count": 450,
   "id": "1ac97ae5",
   "metadata": {},
   "outputs": [
    {
     "data": {
      "text/html": [
       "<div>\n",
       "<style scoped>\n",
       "    .dataframe tbody tr th:only-of-type {\n",
       "        vertical-align: middle;\n",
       "    }\n",
       "\n",
       "    .dataframe tbody tr th {\n",
       "        vertical-align: top;\n",
       "    }\n",
       "\n",
       "    .dataframe thead th {\n",
       "        text-align: right;\n",
       "    }\n",
       "</style>\n",
       "<table border=\"1\" class=\"dataframe\">\n",
       "  <thead>\n",
       "    <tr style=\"text-align: right;\">\n",
       "      <th></th>\n",
       "      <th>review</th>\n",
       "      <th>rating</th>\n",
       "      <th>Positive</th>\n",
       "      <th>Negative</th>\n",
       "      <th>Neutral</th>\n",
       "      <th>Output</th>\n",
       "    </tr>\n",
       "  </thead>\n",
       "  <tbody>\n",
       "    <tr>\n",
       "      <th>0</th>\n",
       "      <td>nice produt like design lot  easi carri   look...</td>\n",
       "      <td>5</td>\n",
       "      <td>0.431</td>\n",
       "      <td>0.000</td>\n",
       "      <td>0.569</td>\n",
       "      <td>Happy</td>\n",
       "    </tr>\n",
       "    <tr>\n",
       "      <th>1</th>\n",
       "      <td>awesom soundveri pretti see nd sound qualiti g...</td>\n",
       "      <td>5</td>\n",
       "      <td>0.471</td>\n",
       "      <td>0.000</td>\n",
       "      <td>0.529</td>\n",
       "      <td>Happy</td>\n",
       "    </tr>\n",
       "    <tr>\n",
       "      <th>2</th>\n",
       "      <td>awesom sound qualiti pros  hrs batteri life in...</td>\n",
       "      <td>4</td>\n",
       "      <td>0.194</td>\n",
       "      <td>0.000</td>\n",
       "      <td>0.806</td>\n",
       "      <td>Happy</td>\n",
       "    </tr>\n",
       "    <tr>\n",
       "      <th>3</th>\n",
       "      <td>think good product per qualiti also design qui...</td>\n",
       "      <td>5</td>\n",
       "      <td>0.393</td>\n",
       "      <td>0.049</td>\n",
       "      <td>0.558</td>\n",
       "      <td>Happy</td>\n",
       "    </tr>\n",
       "    <tr>\n",
       "      <th>4</th>\n",
       "      <td>awsom sound power bass batteri backup also exc...</td>\n",
       "      <td>5</td>\n",
       "      <td>0.486</td>\n",
       "      <td>0.030</td>\n",
       "      <td>0.484</td>\n",
       "      <td>Happy</td>\n",
       "    </tr>\n",
       "  </tbody>\n",
       "</table>\n",
       "</div>"
      ],
      "text/plain": [
       "                                              review  rating  Positive  \\\n",
       "0  nice produt like design lot  easi carri   look...       5     0.431   \n",
       "1  awesom soundveri pretti see nd sound qualiti g...       5     0.471   \n",
       "2  awesom sound qualiti pros  hrs batteri life in...       4     0.194   \n",
       "3  think good product per qualiti also design qui...       5     0.393   \n",
       "4  awsom sound power bass batteri backup also exc...       5     0.486   \n",
       "\n",
       "   Negative  Neutral Output  \n",
       "0     0.000    0.569  Happy  \n",
       "1     0.000    0.529  Happy  \n",
       "2     0.000    0.806  Happy  \n",
       "3     0.049    0.558  Happy  \n",
       "4     0.030    0.484  Happy  "
      ]
     },
     "execution_count": 450,
     "metadata": {},
     "output_type": "execute_result"
    }
   ],
   "source": [
    "data['Output']=np.where((data['Positive']+data['Neutral']>0.80), 'Happy', 'Unhappy')\n",
    "data.head()"
   ]
  },
  {
   "cell_type": "code",
   "execution_count": 451,
   "id": "5bd215ff",
   "metadata": {},
   "outputs": [
    {
     "name": "stderr",
     "output_type": "stream",
     "text": [
      "C:\\Users\\priya\\anaconda3\\lib\\site-packages\\seaborn\\_decorators.py:36: FutureWarning:\n",
      "\n",
      "Pass the following variable as a keyword arg: x. From version 0.12, the only valid positional argument will be `data`, and passing other arguments without an explicit keyword will result in an error or misinterpretation.\n",
      "\n"
     ]
    },
    {
     "data": {
      "text/plain": [
       "<AxesSubplot:xlabel='Output', ylabel='count'>"
      ]
     },
     "execution_count": 451,
     "metadata": {},
     "output_type": "execute_result"
    },
    {
     "data": {
      "image/png": "[encoded data removed]",
      "text/plain": [
       "<Figure size 432x288 with 1 Axes>"
      ]
     },
     "metadata": {
      "needs_background": "light"
     },
     "output_type": "display_data"
    }
   ],
   "source": [
    "# is data balanced?\n",
    "\n",
    "sns.countplot(data['Output'])"
   ]
  },
  {
   "cell_type": "markdown",
   "id": "44b8f7c7",
   "metadata": {},
   "source": [
    "#### Infer: We can see that our data is imbalanced so that if we will train our data, it will be trained inaccurately.\n",
    "\n"
   ]
  },
  {
   "cell_type": "code",
   "execution_count": 452,
   "id": "b1753d9e",
   "metadata": {},
   "outputs": [],
   "source": [
    "data['Output']=np.where(data['rating']>4, 'Happy', 'Unhappy')"
   ]
  },
  {
   "cell_type": "code",
   "execution_count": 453,
   "id": "e084aa4d",
   "metadata": {},
   "outputs": [
    {
     "name": "stderr",
     "output_type": "stream",
     "text": [
      "C:\\Users\\priya\\anaconda3\\lib\\site-packages\\seaborn\\_decorators.py:36: FutureWarning:\n",
      "\n",
      "Pass the following variable as a keyword arg: x. From version 0.12, the only valid positional argument will be `data`, and passing other arguments without an explicit keyword will result in an error or misinterpretation.\n",
      "\n"
     ]
    },
    {
     "data": {
      "text/plain": [
       "<AxesSubplot:xlabel='Output', ylabel='count'>"
      ]
     },
     "execution_count": 453,
     "metadata": {},
     "output_type": "execute_result"
    },
    {
     "data": {
      "image/png": "[encoded data removed]",
      "text/plain": [
       "<Figure size 432x288 with 1 Axes>"
      ]
     },
     "metadata": {
      "needs_background": "light"
     },
     "output_type": "display_data"
    }
   ],
   "source": [
    "# Now, is data balanced?\n",
    "\n",
    "sns.countplot(data['Output'])"
   ]
  },
  {
   "cell_type": "markdown",
   "id": "739fdedb",
   "metadata": {},
   "source": [
    "#### Wooh!, Yes Now data is almost balanced.\n",
    "\n",
    "#### Good to go"
   ]
  },
  {
   "cell_type": "code",
   "execution_count": 454,
   "id": "27a6621c",
   "metadata": {},
   "outputs": [
    {
     "data": {
      "text/html": [
       "<div>\n",
       "<style scoped>\n",
       "    .dataframe tbody tr th:only-of-type {\n",
       "        vertical-align: middle;\n",
       "    }\n",
       "\n",
       "    .dataframe tbody tr th {\n",
       "        vertical-align: top;\n",
       "    }\n",
       "\n",
       "    .dataframe thead th {\n",
       "        text-align: right;\n",
       "    }\n",
       "</style>\n",
       "<table border=\"1\" class=\"dataframe\">\n",
       "  <thead>\n",
       "    <tr style=\"text-align: right;\">\n",
       "      <th></th>\n",
       "      <th>review</th>\n",
       "      <th>rating</th>\n",
       "      <th>Positive</th>\n",
       "      <th>Negative</th>\n",
       "      <th>Neutral</th>\n",
       "      <th>Output</th>\n",
       "      <th>Character Counts</th>\n",
       "    </tr>\n",
       "  </thead>\n",
       "  <tbody>\n",
       "    <tr>\n",
       "      <th>0</th>\n",
       "      <td>nice produt like design lot  easi carri   look...</td>\n",
       "      <td>5</td>\n",
       "      <td>0.431</td>\n",
       "      <td>0.000</td>\n",
       "      <td>0.569</td>\n",
       "      <td>Happy</td>\n",
       "      <td>58</td>\n",
       "    </tr>\n",
       "    <tr>\n",
       "      <th>1</th>\n",
       "      <td>awesom soundveri pretti see nd sound qualiti g...</td>\n",
       "      <td>5</td>\n",
       "      <td>0.471</td>\n",
       "      <td>0.000</td>\n",
       "      <td>0.529</td>\n",
       "      <td>Happy</td>\n",
       "      <td>85</td>\n",
       "    </tr>\n",
       "    <tr>\n",
       "      <th>2</th>\n",
       "      <td>awesom sound qualiti pros  hrs batteri life in...</td>\n",
       "      <td>4</td>\n",
       "      <td>0.194</td>\n",
       "      <td>0.000</td>\n",
       "      <td>0.806</td>\n",
       "      <td>Unhappy</td>\n",
       "      <td>334</td>\n",
       "    </tr>\n",
       "    <tr>\n",
       "      <th>3</th>\n",
       "      <td>think good product per qualiti also design qui...</td>\n",
       "      <td>5</td>\n",
       "      <td>0.393</td>\n",
       "      <td>0.049</td>\n",
       "      <td>0.558</td>\n",
       "      <td>Happy</td>\n",
       "      <td>210</td>\n",
       "    </tr>\n",
       "    <tr>\n",
       "      <th>4</th>\n",
       "      <td>awsom sound power bass batteri backup also exc...</td>\n",
       "      <td>5</td>\n",
       "      <td>0.486</td>\n",
       "      <td>0.030</td>\n",
       "      <td>0.484</td>\n",
       "      <td>Happy</td>\n",
       "      <td>289</td>\n",
       "    </tr>\n",
       "    <tr>\n",
       "      <th>...</th>\n",
       "      <td>...</td>\n",
       "      <td>...</td>\n",
       "      <td>...</td>\n",
       "      <td>...</td>\n",
       "      <td>...</td>\n",
       "      <td>...</td>\n",
       "      <td>...</td>\n",
       "    </tr>\n",
       "    <tr>\n",
       "      <th>484</th>\n",
       "      <td>right left distribut okayotherwis sound qualit...</td>\n",
       "      <td>4</td>\n",
       "      <td>0.225</td>\n",
       "      <td>0.000</td>\n",
       "      <td>0.775</td>\n",
       "      <td>Unhappy</td>\n",
       "      <td>88</td>\n",
       "    </tr>\n",
       "    <tr>\n",
       "      <th>485</th>\n",
       "      <td>nice bluetooth headphon pleas perform  day use...</td>\n",
       "      <td>5</td>\n",
       "      <td>0.368</td>\n",
       "      <td>0.000</td>\n",
       "      <td>0.632</td>\n",
       "      <td>Happy</td>\n",
       "      <td>103</td>\n",
       "    </tr>\n",
       "    <tr>\n",
       "      <th>486</th>\n",
       "      <td>excel sound qualiti deep bass good batteri bac...</td>\n",
       "      <td>5</td>\n",
       "      <td>0.393</td>\n",
       "      <td>0.000</td>\n",
       "      <td>0.607</td>\n",
       "      <td>Happy</td>\n",
       "      <td>96</td>\n",
       "    </tr>\n",
       "    <tr>\n",
       "      <th>487</th>\n",
       "      <td>good product boat headphon good best also nice...</td>\n",
       "      <td>5</td>\n",
       "      <td>0.754</td>\n",
       "      <td>0.000</td>\n",
       "      <td>0.246</td>\n",
       "      <td>Happy</td>\n",
       "      <td>65</td>\n",
       "    </tr>\n",
       "    <tr>\n",
       "      <th>488</th>\n",
       "      <td>headphon stylish look bass dj dispoint batteri...</td>\n",
       "      <td>4</td>\n",
       "      <td>0.309</td>\n",
       "      <td>0.000</td>\n",
       "      <td>0.691</td>\n",
       "      <td>Unhappy</td>\n",
       "      <td>91</td>\n",
       "    </tr>\n",
       "  </tbody>\n",
       "</table>\n",
       "<p>489 rows × 7 columns</p>\n",
       "</div>"
      ],
      "text/plain": [
       "                                                review  rating  Positive  \\\n",
       "0    nice produt like design lot  easi carri   look...       5     0.431   \n",
       "1    awesom soundveri pretti see nd sound qualiti g...       5     0.471   \n",
       "2    awesom sound qualiti pros  hrs batteri life in...       4     0.194   \n",
       "3    think good product per qualiti also design qui...       5     0.393   \n",
       "4    awsom sound power bass batteri backup also exc...       5     0.486   \n",
       "..                                                 ...     ...       ...   \n",
       "484  right left distribut okayotherwis sound qualit...       4     0.225   \n",
       "485  nice bluetooth headphon pleas perform  day use...       5     0.368   \n",
       "486  excel sound qualiti deep bass good batteri bac...       5     0.393   \n",
       "487  good product boat headphon good best also nice...       5     0.754   \n",
       "488  headphon stylish look bass dj dispoint batteri...       4     0.309   \n",
       "\n",
       "     Negative  Neutral   Output  Character Counts  \n",
       "0       0.000    0.569    Happy                58  \n",
       "1       0.000    0.529    Happy                85  \n",
       "2       0.000    0.806  Unhappy               334  \n",
       "3       0.049    0.558    Happy               210  \n",
       "4       0.030    0.484    Happy               289  \n",
       "..        ...      ...      ...               ...  \n",
       "484     0.000    0.775  Unhappy                88  \n",
       "485     0.000    0.632    Happy               103  \n",
       "486     0.000    0.607    Happy                96  \n",
       "487     0.000    0.246    Happy                65  \n",
       "488     0.000    0.691  Unhappy                91  \n",
       "\n",
       "[489 rows x 7 columns]"
      ]
     },
     "execution_count": 454,
     "metadata": {},
     "output_type": "execute_result"
    }
   ],
   "source": [
    "data[\"Character Counts\"]=[len(i) for i in data.review]\n",
    "data"
   ]
  },
  {
   "cell_type": "code",
   "execution_count": 455,
   "id": "076dc6c4",
   "metadata": {},
   "outputs": [
    {
     "data": {
      "text/html": [
       "<div>\n",
       "<style scoped>\n",
       "    .dataframe tbody tr th:only-of-type {\n",
       "        vertical-align: middle;\n",
       "    }\n",
       "\n",
       "    .dataframe tbody tr th {\n",
       "        vertical-align: top;\n",
       "    }\n",
       "\n",
       "    .dataframe thead th {\n",
       "        text-align: right;\n",
       "    }\n",
       "</style>\n",
       "<table border=\"1\" class=\"dataframe\">\n",
       "  <thead>\n",
       "    <tr style=\"text-align: right;\">\n",
       "      <th></th>\n",
       "      <th>review</th>\n",
       "      <th>rating</th>\n",
       "      <th>Positive</th>\n",
       "      <th>Negative</th>\n",
       "      <th>Neutral</th>\n",
       "      <th>Output</th>\n",
       "      <th>Character Counts</th>\n",
       "      <th>Word Counts</th>\n",
       "    </tr>\n",
       "  </thead>\n",
       "  <tbody>\n",
       "    <tr>\n",
       "      <th>0</th>\n",
       "      <td>nice produt like design lot  easi carri   look...</td>\n",
       "      <td>5</td>\n",
       "      <td>0.431</td>\n",
       "      <td>0.000</td>\n",
       "      <td>0.569</td>\n",
       "      <td>Happy</td>\n",
       "      <td>58</td>\n",
       "      <td>9</td>\n",
       "    </tr>\n",
       "    <tr>\n",
       "      <th>1</th>\n",
       "      <td>awesom soundveri pretti see nd sound qualiti g...</td>\n",
       "      <td>5</td>\n",
       "      <td>0.471</td>\n",
       "      <td>0.000</td>\n",
       "      <td>0.529</td>\n",
       "      <td>Happy</td>\n",
       "      <td>85</td>\n",
       "      <td>14</td>\n",
       "    </tr>\n",
       "    <tr>\n",
       "      <th>2</th>\n",
       "      <td>awesom sound qualiti pros  hrs batteri life in...</td>\n",
       "      <td>4</td>\n",
       "      <td>0.194</td>\n",
       "      <td>0.000</td>\n",
       "      <td>0.806</td>\n",
       "      <td>Unhappy</td>\n",
       "      <td>334</td>\n",
       "      <td>48</td>\n",
       "    </tr>\n",
       "    <tr>\n",
       "      <th>3</th>\n",
       "      <td>think good product per qualiti also design qui...</td>\n",
       "      <td>5</td>\n",
       "      <td>0.393</td>\n",
       "      <td>0.049</td>\n",
       "      <td>0.558</td>\n",
       "      <td>Happy</td>\n",
       "      <td>210</td>\n",
       "      <td>34</td>\n",
       "    </tr>\n",
       "    <tr>\n",
       "      <th>4</th>\n",
       "      <td>awsom sound power bass batteri backup also exc...</td>\n",
       "      <td>5</td>\n",
       "      <td>0.486</td>\n",
       "      <td>0.030</td>\n",
       "      <td>0.484</td>\n",
       "      <td>Happy</td>\n",
       "      <td>289</td>\n",
       "      <td>46</td>\n",
       "    </tr>\n",
       "    <tr>\n",
       "      <th>...</th>\n",
       "      <td>...</td>\n",
       "      <td>...</td>\n",
       "      <td>...</td>\n",
       "      <td>...</td>\n",
       "      <td>...</td>\n",
       "      <td>...</td>\n",
       "      <td>...</td>\n",
       "      <td>...</td>\n",
       "    </tr>\n",
       "    <tr>\n",
       "      <th>484</th>\n",
       "      <td>right left distribut okayotherwis sound qualit...</td>\n",
       "      <td>4</td>\n",
       "      <td>0.225</td>\n",
       "      <td>0.000</td>\n",
       "      <td>0.775</td>\n",
       "      <td>Unhappy</td>\n",
       "      <td>88</td>\n",
       "      <td>11</td>\n",
       "    </tr>\n",
       "    <tr>\n",
       "      <th>485</th>\n",
       "      <td>nice bluetooth headphon pleas perform  day use...</td>\n",
       "      <td>5</td>\n",
       "      <td>0.368</td>\n",
       "      <td>0.000</td>\n",
       "      <td>0.632</td>\n",
       "      <td>Happy</td>\n",
       "      <td>103</td>\n",
       "      <td>14</td>\n",
       "    </tr>\n",
       "    <tr>\n",
       "      <th>486</th>\n",
       "      <td>excel sound qualiti deep bass good batteri bac...</td>\n",
       "      <td>5</td>\n",
       "      <td>0.393</td>\n",
       "      <td>0.000</td>\n",
       "      <td>0.607</td>\n",
       "      <td>Happy</td>\n",
       "      <td>96</td>\n",
       "      <td>16</td>\n",
       "    </tr>\n",
       "    <tr>\n",
       "      <th>487</th>\n",
       "      <td>good product boat headphon good best also nice...</td>\n",
       "      <td>5</td>\n",
       "      <td>0.754</td>\n",
       "      <td>0.000</td>\n",
       "      <td>0.246</td>\n",
       "      <td>Happy</td>\n",
       "      <td>65</td>\n",
       "      <td>10</td>\n",
       "    </tr>\n",
       "    <tr>\n",
       "      <th>488</th>\n",
       "      <td>headphon stylish look bass dj dispoint batteri...</td>\n",
       "      <td>4</td>\n",
       "      <td>0.309</td>\n",
       "      <td>0.000</td>\n",
       "      <td>0.691</td>\n",
       "      <td>Unhappy</td>\n",
       "      <td>91</td>\n",
       "      <td>15</td>\n",
       "    </tr>\n",
       "  </tbody>\n",
       "</table>\n",
       "<p>489 rows × 8 columns</p>\n",
       "</div>"
      ],
      "text/plain": [
       "                                                review  rating  Positive  \\\n",
       "0    nice produt like design lot  easi carri   look...       5     0.431   \n",
       "1    awesom soundveri pretti see nd sound qualiti g...       5     0.471   \n",
       "2    awesom sound qualiti pros  hrs batteri life in...       4     0.194   \n",
       "3    think good product per qualiti also design qui...       5     0.393   \n",
       "4    awsom sound power bass batteri backup also exc...       5     0.486   \n",
       "..                                                 ...     ...       ...   \n",
       "484  right left distribut okayotherwis sound qualit...       4     0.225   \n",
       "485  nice bluetooth headphon pleas perform  day use...       5     0.368   \n",
       "486  excel sound qualiti deep bass good batteri bac...       5     0.393   \n",
       "487  good product boat headphon good best also nice...       5     0.754   \n",
       "488  headphon stylish look bass dj dispoint batteri...       4     0.309   \n",
       "\n",
       "     Negative  Neutral   Output  Character Counts  Word Counts  \n",
       "0       0.000    0.569    Happy                58            9  \n",
       "1       0.000    0.529    Happy                85           14  \n",
       "2       0.000    0.806  Unhappy               334           48  \n",
       "3       0.049    0.558    Happy               210           34  \n",
       "4       0.030    0.484    Happy               289           46  \n",
       "..        ...      ...      ...               ...          ...  \n",
       "484     0.000    0.775  Unhappy                88           11  \n",
       "485     0.000    0.632    Happy               103           14  \n",
       "486     0.000    0.607    Happy                96           16  \n",
       "487     0.000    0.246    Happy                65           10  \n",
       "488     0.000    0.691  Unhappy                91           15  \n",
       "\n",
       "[489 rows x 8 columns]"
      ]
     },
     "execution_count": 455,
     "metadata": {},
     "output_type": "execute_result"
    }
   ],
   "source": [
    "data[\"Word Counts\"]=[len(i.split()) for i in data.review]\n",
    "data"
   ]
  },
  {
   "cell_type": "code",
   "execution_count": 456,
   "id": "807caf28",
   "metadata": {},
   "outputs": [
    {
     "name": "stdout",
     "output_type": "stream",
     "text": [
      "<class 'pandas.core.frame.DataFrame'>\n",
      "RangeIndex: 489 entries, 0 to 488\n",
      "Data columns (total 8 columns):\n",
      " #   Column            Non-Null Count  Dtype  \n",
      "---  ------            --------------  -----  \n",
      " 0   review            489 non-null    object \n",
      " 1   rating            489 non-null    int64  \n",
      " 2   Positive          489 non-null    float64\n",
      " 3   Negative          489 non-null    float64\n",
      " 4   Neutral           489 non-null    float64\n",
      " 5   Output            489 non-null    object \n",
      " 6   Character Counts  489 non-null    int64  \n",
      " 7   Word Counts       489 non-null    int64  \n",
      "dtypes: float64(3), int64(3), object(2)\n",
      "memory usage: 30.7+ KB\n"
     ]
    }
   ],
   "source": [
    "data.info()"
   ]
  },
  {
   "cell_type": "code",
   "execution_count": 457,
   "id": "8ad4b4fe",
   "metadata": {},
   "outputs": [
    {
     "data": {
      "text/html": [
       "<div>\n",
       "<style scoped>\n",
       "    .dataframe tbody tr th:only-of-type {\n",
       "        vertical-align: middle;\n",
       "    }\n",
       "\n",
       "    .dataframe tbody tr th {\n",
       "        vertical-align: top;\n",
       "    }\n",
       "\n",
       "    .dataframe thead th {\n",
       "        text-align: right;\n",
       "    }\n",
       "</style>\n",
       "<table border=\"1\" class=\"dataframe\">\n",
       "  <thead>\n",
       "    <tr style=\"text-align: right;\">\n",
       "      <th></th>\n",
       "      <th>rating</th>\n",
       "      <th>Positive</th>\n",
       "      <th>Negative</th>\n",
       "      <th>Neutral</th>\n",
       "      <th>Character Counts</th>\n",
       "      <th>Word Counts</th>\n",
       "    </tr>\n",
       "  </thead>\n",
       "  <tbody>\n",
       "    <tr>\n",
       "      <th>count</th>\n",
       "      <td>489.000000</td>\n",
       "      <td>489.000000</td>\n",
       "      <td>489.000000</td>\n",
       "      <td>489.000000</td>\n",
       "      <td>489.000000</td>\n",
       "      <td>489.000000</td>\n",
       "    </tr>\n",
       "    <tr>\n",
       "      <th>mean</th>\n",
       "      <td>4.370143</td>\n",
       "      <td>0.372517</td>\n",
       "      <td>0.034108</td>\n",
       "      <td>0.593364</td>\n",
       "      <td>158.163599</td>\n",
       "      <td>24.609407</td>\n",
       "    </tr>\n",
       "    <tr>\n",
       "      <th>std</th>\n",
       "      <td>0.921070</td>\n",
       "      <td>0.156687</td>\n",
       "      <td>0.055114</td>\n",
       "      <td>0.142251</td>\n",
       "      <td>77.438750</td>\n",
       "      <td>12.069335</td>\n",
       "    </tr>\n",
       "    <tr>\n",
       "      <th>min</th>\n",
       "      <td>1.000000</td>\n",
       "      <td>0.000000</td>\n",
       "      <td>0.000000</td>\n",
       "      <td>0.169000</td>\n",
       "      <td>30.000000</td>\n",
       "      <td>4.000000</td>\n",
       "    </tr>\n",
       "    <tr>\n",
       "      <th>25%</th>\n",
       "      <td>4.000000</td>\n",
       "      <td>0.259000</td>\n",
       "      <td>0.000000</td>\n",
       "      <td>0.501000</td>\n",
       "      <td>96.000000</td>\n",
       "      <td>15.000000</td>\n",
       "    </tr>\n",
       "    <tr>\n",
       "      <th>50%</th>\n",
       "      <td>5.000000</td>\n",
       "      <td>0.368000</td>\n",
       "      <td>0.000000</td>\n",
       "      <td>0.592000</td>\n",
       "      <td>139.000000</td>\n",
       "      <td>21.000000</td>\n",
       "    </tr>\n",
       "    <tr>\n",
       "      <th>75%</th>\n",
       "      <td>5.000000</td>\n",
       "      <td>0.481000</td>\n",
       "      <td>0.063000</td>\n",
       "      <td>0.696000</td>\n",
       "      <td>216.000000</td>\n",
       "      <td>33.000000</td>\n",
       "    </tr>\n",
       "    <tr>\n",
       "      <th>max</th>\n",
       "      <td>5.000000</td>\n",
       "      <td>0.831000</td>\n",
       "      <td>0.298000</td>\n",
       "      <td>1.000000</td>\n",
       "      <td>377.000000</td>\n",
       "      <td>59.000000</td>\n",
       "    </tr>\n",
       "  </tbody>\n",
       "</table>\n",
       "</div>"
      ],
      "text/plain": [
       "           rating    Positive    Negative     Neutral  Character Counts  \\\n",
       "count  489.000000  489.000000  489.000000  489.000000        489.000000   \n",
       "mean     4.370143    0.372517    0.034108    0.593364        158.163599   \n",
       "std      0.921070    0.156687    0.055114    0.142251         77.438750   \n",
       "min      1.000000    0.000000    0.000000    0.169000         30.000000   \n",
       "25%      4.000000    0.259000    0.000000    0.501000         96.000000   \n",
       "50%      5.000000    0.368000    0.000000    0.592000        139.000000   \n",
       "75%      5.000000    0.481000    0.063000    0.696000        216.000000   \n",
       "max      5.000000    0.831000    0.298000    1.000000        377.000000   \n",
       "\n",
       "       Word Counts  \n",
       "count   489.000000  \n",
       "mean     24.609407  \n",
       "std      12.069335  \n",
       "min       4.000000  \n",
       "25%      15.000000  \n",
       "50%      21.000000  \n",
       "75%      33.000000  \n",
       "max      59.000000  "
      ]
     },
     "execution_count": 457,
     "metadata": {},
     "output_type": "execute_result"
    }
   ],
   "source": [
    "data.describe()"
   ]
  },
  {
   "cell_type": "code",
   "execution_count": 458,
   "id": "d3c98f0a",
   "metadata": {},
   "outputs": [],
   "source": [
    "data.to_csv(\"data_new.csv\")"
   ]
  },
  {
   "cell_type": "code",
   "execution_count": 459,
   "id": "49b877ae",
   "metadata": {},
   "outputs": [
    {
     "data": {
      "text/plain": [
       "Text(0.5, 1.0, 'Character Counts vs Word Counts of reviews with categorical variable of Output')"
      ]
     },
     "execution_count": 459,
     "metadata": {},
     "output_type": "execute_result"
    },
    {
     "data": {
      "image/png": "[encoded data removed]",
      "text/plain": [
       "<Figure size 1080x720 with 1 Axes>"
      ]
     },
     "metadata": {
      "needs_background": "light"
     },
     "output_type": "display_data"
    }
   ],
   "source": [
    "plt.figure(figsize=(15, 10))\n",
    "sns.barplot(x='Word Counts', y='Character Counts', hue='Output', data=data)\n",
    "plt.title('Character Counts vs Word Counts of reviews with categorical variable of Output')"
   ]
  },
  {
   "cell_type": "code",
   "execution_count": 460,
   "id": "7e354a8a",
   "metadata": {},
   "outputs": [
    {
     "data": {
      "text/plain": [
       "Text(0.5, 1.0, 'Output vs Word Counts of reviews')"
      ]
     },
     "execution_count": 460,
     "metadata": {},
     "output_type": "execute_result"
    },
    {
     "data": {
      "image/png": "[encoded data removed]",
      "text/plain": [
       "<Figure size 360x720 with 1 Axes>"
      ]
     },
     "metadata": {
      "needs_background": "light"
     },
     "output_type": "display_data"
    }
   ],
   "source": [
    "plt.figure(figsize=(5, 10))\n",
    "sns.barplot(x='Output', y='Word Counts', data=data)\n",
    "plt.title('Output vs Word Counts of reviews')"
   ]
  },
  {
   "cell_type": "markdown",
   "id": "ca732c7e",
   "metadata": {},
   "source": [
    "#### Infer: Both unhappy and happy ones have written same number of words almost."
   ]
  },
  {
   "cell_type": "code",
   "execution_count": 461,
   "id": "b7631ffb",
   "metadata": {},
   "outputs": [],
   "source": [
    "from sklearn.model_selection import train_test_split\n",
    "\n",
    "Independent_var=data.review\n",
    "dependent_var=data.Output\n",
    "\n",
    "ID_train, ID_test, D_train, D_test=train_test_split(Independent_var, dependent_var, test_size=0.3 )"
   ]
  },
  {
   "cell_type": "code",
   "execution_count": 462,
   "id": "5a843c0d",
   "metadata": {},
   "outputs": [
    {
     "data": {
      "text/plain": [
       "(342,)"
      ]
     },
     "execution_count": 462,
     "metadata": {},
     "output_type": "execute_result"
    }
   ],
   "source": [
    "ID_train.head()\n",
    "D_train.shape"
   ]
  },
  {
   "cell_type": "code",
   "execution_count": 463,
   "id": "179f08db",
   "metadata": {},
   "outputs": [
    {
     "name": "stdout",
     "output_type": "stream",
     "text": [
      "[[76 33]\n",
      " [ 6 32]]\n",
      "Accuracy of the model:  0.7346938775510204\n",
      "Precision of the model:  [0.69724771 0.84210526]\n",
      "Recall of the model:  [0.92682927 0.49230769]\n",
      "F Score of the model:  [0.79581152 0.62135922]\n"
     ]
    }
   ],
   "source": [
    "from sklearn.feature_extraction.text import TfidfVectorizer\n",
    "from sklearn.linear_model import LogisticRegression\n",
    "\n",
    "tfidfvector=TfidfVectorizer()\n",
    "classifier=LogisticRegression(solver=\"lbfgs\")\n",
    "\n",
    "from sklearn.pipeline import Pipeline\n",
    "\n",
    "model=Pipeline([('vectorizer', tfidfvector), ('classifier', classifier)])\n",
    "model.fit(ID_train, D_train)\n",
    "\n",
    "\n",
    "from sklearn.metrics import confusion_matrix, accuracy_score, precision_score, recall_score, f1_score\n",
    "predictions=model.predict(ID_test)\n",
    "print(confusion_matrix(predictions, D_test))\n",
    "print(\"Accuracy of the model: \", accuracy_score(D_test, predictions))\n",
    "print(\"Precision of the model: \", precision_score(D_test, predictions, average=None))\n",
    "print(\"Recall of the model: \", recall_score(D_test, predictions, average=None))\n",
    "print(\"F Score of the model: \", f1_score(D_test, predictions, average=None))"
   ]
  },
  {
   "cell_type": "code",
   "execution_count": 464,
   "id": "4f028c66",
   "metadata": {},
   "outputs": [
    {
     "name": "stdout",
     "output_type": "stream",
     "text": [
      "Review:  good product go itiniti felt littl tight ear later mani usageit cusion get adjust earsfeel good comfort rate \n",
      "Target:   Unhappy\n",
      "Prediction:  Happy\n",
      "\n",
      "Review:  hi guy recent brought headphon use headphon decent price rang got  buck optim sound achiev equil pair fair easi batteri also decent ear puff comfort littl bigger softer puff would great build qualiti also fair decent issu face microphon other abl hear properread\n",
      "Target:   Unhappy\n",
      "Prediction:  Unhappy\n",
      "\n",
      "Review:   month use headphon person boat speaker headphon lover alreadi  speaker  headphon famili headphon realli upto level first time hear audio like audio qualiti ok bass overwhelm bcoz high volum music get distort build qualiti ok fit everyon fit ok famili member fit well feel discomforread\n",
      "Target:   Happy\n",
      "Prediction:  Happy\n",
      "\n",
      "Review:  built qualiti base colour excel foam materi hold ear made qualiti product one adjust soeaker various direct aux cabl charger cabl provid box use  aux cabl enjoy music  avail bluetooth option opt black red model amaz go may get within  sale daysread\n",
      "Target:   Happy\n",
      "Prediction:  Unhappy\n",
      "\n",
      "Review:   popular boat good sound product heavi punchi bass nice use mani boat ear phone experi nice boat rockerz  even better yes feel uncomfort fond ear headphon rather sound great bass awesom build good design stylish batteri backup also preeti goodif buy ear headphon  time never use tread\n",
      "Target:   Unhappy\n",
      "Prediction:  Unhappy\n",
      "\n",
      "Review:  headphon better choic budget sound qualiti awesom batteri backup perfect approx   hour build qualiti averag one word better choiceread\n",
      "Target:   Happy\n",
      "Prediction:  Happy\n",
      "\n",
      "Review:  use  yr satisfi product    sound qualiti awsom loud lover bestread\n",
      "Target:   Unhappy\n",
      "Prediction:  Unhappy\n",
      "\n",
      "Review:  superb bass price rang suitabl laptop nice pubg voic also clearread\n",
      "Target:   Happy\n",
      "Prediction:  Happy\n",
      "\n",
      "Review:  excel product price rangeit featur pack headphon great bass trebl quit decent prosexcel bassclear trebleseasi batteri backupl indicatorconnot recommend longer use becom uncomfort person experi mayb othersread\n",
      "Target:   Unhappy\n",
      "Prediction:  Happy\n",
      "\n",
      "Review:  sound qualiti bass amaz headphin clear high mid amaz impress premium look matt black finish thin red line amaz thing headphon valu moneyread\n",
      "Target:   Happy\n",
      "Prediction:  Happy\n",
      "\n",
      "Review:  light weight stylish good sound qualiti bass better good batteri back connect low otherwis great productread\n",
      "Target:   Unhappy\n",
      "Prediction:  Happy\n",
      "\n",
      "Review:  get better output aux cabl bluetooth mode honor  lite use redmi note  output bluetooth better auxread\n",
      "Target:   Unhappy\n",
      "Prediction:  Unhappy\n",
      "\n",
      "Review:  everyth betrer sound qualiti awesom batteri backup good excel design love look love thank flipkart thank boatread\n",
      "Target:   Unhappy\n",
      "Prediction:  Happy\n",
      "\n",
      "Review:  product good bass awesom think bass lover give tri let problem flipkart take much time deliv compar servic felt littl bit annoy overal product worth everi penni thank youread\n",
      "Target:   Happy\n",
      "Prediction:  Happy\n",
      "\n",
      "Review:  work fine laptop well mobil ear ach use even half hour could much softer good occasion use cannot watch full movi feel pain outer earread\n",
      "Target:   Happy\n",
      "Prediction:  Happy\n",
      "\n",
      "Review:  bang buckreal great headset best headphon priceth build qualiti good sturdi light weight sound qualiti headphon serious good bass realli amaz think other go read\n",
      "Target:   Unhappy\n",
      "Prediction:  Happy\n",
      "\n",
      "Review:  awesom bass awesom sound comfort ear problem bluetooth connect weaken frequent get jump lyric sec listen song avoid got irrit occur coupl number time ohh batteri last long enough return product might manufactur defect order boat wireless   let us see one goesread\n",
      "Target:   Happy\n",
      "Prediction:  Happy\n",
      "\n",
      "Review:  go nice sound good clariti fastest connectionread\n",
      "Target:   Happy\n",
      "Prediction:  Happy\n",
      "\n",
      "Review:  good productsound qualiti good bass heavi say saw product got  rate place order truli say dissatisfi product bluetooth connect good huge lack shown music track play bluetooth issu aux mode built qualiti good main thing search bass heavi headphon say bass heavi soread\n",
      "Target:   Happy\n",
      "Prediction:  Happy\n",
      "\n",
      "Review:  person like boat brand purchas design  sound con  fit  mic work proper comfort ear way overal good product purchas rs  covid lockdownread\n",
      "Target:   Happy\n",
      "Prediction:  Happy\n",
      "\n",
      "Review:  great budget headphon look headphon budget  think twice bass head amaz batteri  decent   hrs averag fit good sometim feel loos need adjust overal good option design improv get  starsread\n",
      "Target:   Happy\n",
      "Prediction:  Happy\n",
      "\n",
      "Review:  product awesom  design perfect everyth ok audio cabl long  brand usb cabl  feel like heaven read\n",
      "Target:   Unhappy\n",
      "Prediction:  Happy\n",
      "\n",
      "Review:  good headphon play game like pubgyou easili get  everi footstep thisbut sound delay bluetooth modebut aux cabl work perfect finesound bass    batteri  read\n",
      "Target:   Unhappy\n",
      "Prediction:  Unhappy\n",
      "\n",
      "Review:  good sound qualiti reason price colour amaz volum set much good semi comfort wear purpos good productread\n",
      "Target:   Unhappy\n",
      "Prediction:  Unhappy\n",
      "\n",
      "Review:  nice headset super sound super base qualiti good batteri backupoveral goodread\n",
      "Target:   Happy\n",
      "Prediction:  Happy\n",
      "\n",
      "Review:  purchas model boat             purchas flipkart smart headphon  h  day comparison like flipkart headphon flipkart headphon sound qualiti much better boat   base phone call voic mic good flipkart headphon experienceread\n",
      "Target:   Unhappy\n",
      "Prediction:  Happy\n",
      "\n",
      "Review:  worth buy super power super base total budget friend handyread\n",
      "Target:   Happy\n",
      "Prediction:  Happy\n",
      "\n",
      "Review:  accur reviewthi headphon nice sound bass qualiti regret  butth cushion ear headphon irrit caus disturbanceson full bass volum sever hour continu usag may give headachebut overal awesom qualiti headphon compar headphon marketi glad bought itboat nice compani want buy go itread\n",
      "Target:   Happy\n",
      "Prediction:  Happy\n",
      "\n",
      "Review:  awesom bass sound qualiti good bettari long life  purchas rs  realli grate product forget likeread\n",
      "Target:   Happy\n",
      "Prediction:  Happy\n",
      "\n",
      "Review:  sound qualiti good bass superb batteri life good  three month could start think buy suggest buy littl boat earbud boat neckband realli good compar  last thank flipkart take reviewread\n",
      "Target:   Unhappy\n",
      "Prediction:  Unhappy\n",
      "\n",
      "Review:  sound qualiti realli good come adequ bass think build qualiti would much better still quit better brand provid budgetbatteri backup also liter well go want great sound qualiti budgetread\n",
      "Target:   Happy\n",
      "Prediction:  Unhappy\n",
      "\n",
      "Review:  like ear headset buy boat rocker  best headset love read\n",
      "Target:   Happy\n",
      "Prediction:  Happy\n",
      "\n",
      "Review:  valu moneynic bass  look pretti good price segment realli bass punchi recommend buy mi phone connect aux sound enhancerveryy good productread\n",
      "Target:   Happy\n",
      "Prediction:  Happy\n",
      "\n",
      "Review:  nice design good product sound nice wire wireless aux connect dell laptopread\n",
      "Target:   Happy\n",
      "Prediction:  Happy\n",
      "\n",
      "Review:  light weight easi carri anywher attract model awesom servic flipkart love itread\n",
      "Target:   Happy\n",
      "Prediction:  Happy\n",
      "\n",
      "Review:  great product great pricesord lot search youtub last order itus day write review itreview   best wireless ear headphon great brand valu find con sound qualiti  bass  everyth great compactbatteri pack awesom standbi usag use  dayslook great  stylish pain ear   must buythank youread\n",
      "Target:   Unhappy\n",
      "Prediction:  Unhappy\n",
      "\n",
      "Review:  good experi got headset wich onsid litl sound low  bass extrem good good experienceread\n",
      "Target:   Happy\n",
      "Prediction:  Happy\n",
      "\n",
      "Review:  headaphon amaz qualiti boat promis give borrow  day back love sound qualitybassvalu money sound clearanc design nd batteri power best compar other brandread\n",
      "Target:   Happy\n",
      "Prediction:  Happy\n",
      "\n",
      "Review:  good listen song good call coz sometim sound audibl repeat sound come talk soft calljust music bestread\n",
      "Target:   Unhappy\n",
      "Prediction:  Happy\n",
      "\n",
      "Review:  love headphon awesom base awesom sound qualityi buy headphon octob  use  month review price order itom pretti satisfi till give  starread\n",
      "Target:   Unhappy\n",
      "Prediction:  Unhappy\n",
      "\n",
      "Review:  first review flipkart first purchas boat rockerz  wireless headphon want decent  surround home theater feel excel clear crisp beat around mood listen good music think twice obvious pick product stock end glad product within price rang issu product minor settl within day usag alsoread\n",
      "Target:   Happy\n",
      "Prediction:  Happy\n",
      "\n",
      "Review:  amaz product guy enjoy  month sinc brought still sound qualiti remain superb great custom support deliv door step servicesread\n",
      "Target:   Happy\n",
      "Prediction:  Happy\n",
      "\n",
      "Review:  nice headphon unabl make clear convers caller abl hear voic clear side possibl better purchas boat headphon  rang without bluetoothread\n",
      "Target:   Unhappy\n",
      "Prediction:  Happy\n",
      "\n",
      "Review:  one best wireless headphon  bass good special boat loud mid well contain overal satisfi headphonesread\n",
      "Target:   Happy\n",
      "Prediction:  Happy\n",
      "\n",
      "Review:  want got inr  serious love product boat team done except well thump provid stellio along bass one listen high recommend product kudo team boatrep reviewdeduct  star pain caus ear type headach listen  minsguy need work structur comfort  headphoneshop get ruderead\n",
      "Target:   Happy\n",
      "Prediction:  Happy\n",
      "\n",
      "Review:  amaz product bass qualiti excel batteri even better look amaz come coupl cabl wich includ charg cabl anoth use wire headphon wrote one day use amaz product read\n",
      "Target:   Happy\n",
      "Prediction:  Happy\n",
      "\n",
      "Review:  overal product nice  look stylish  light weight sound qualiti also goodread\n",
      "Target:   Happy\n",
      "Prediction:  Happy\n",
      "\n",
      "Review:  excel product good sound pricegood qualiti nice productit light watei like headsetit work full work jack bluetooth talk headphon power speakerread\n",
      "Target:   Happy\n",
      "Prediction:  Happy\n",
      "\n",
      "Review:  realli excit headphon first  sound qualiti expect bass also good main issu come comfort levelthes headphon comfort start feel pain ear with  min use worst part return option avail product exchang  realli disappoint use good music comfort productread\n",
      "Target:   Unhappy\n",
      "Prediction:  Happy\n",
      "\n",
      "Review:  awesom  bass top notch sounf qualiti great even loud speedth batteri backup also good read\n",
      "Target:   Happy\n",
      "Prediction:  Happy\n",
      "\n",
      "Review:  headphon awesom  may feel inconveni headphon tight  may uncomfort upto day come sound qualiti good bass awesom  listen use wire bass high compar bluetooth slip head even runningfin good product give  rate itread\n",
      "Target:   Unhappy\n",
      "Prediction:  Unhappy\n",
      "\n",
      "Review:  bought flipkart sale  must say worth price bass pretti cool  sound qualiti awesom bt still give  star becoz littl uncomfort uh wear   ear start get pain bt week get use itread\n",
      "Target:   Unhappy\n",
      "Prediction:  Unhappy\n",
      "\n",
      "Review:  super sound awesom bass good dj song batteri back also good got aginst  rs realli realli nice headphoneread\n",
      "Target:   Happy\n",
      "Prediction:  Happy\n",
      "\n",
      "Review:  today get product realli good product price rang connect sound qualiti batteri backup built qualiti everyth goodveri good ekart deliveri servic also thank flipkart guy go itread\n",
      "Target:   Unhappy\n",
      "Prediction:  Happy\n",
      "\n",
      "Review:  awesom product sound loud super light weight fold almost insid one thing note cannot chang volum wire mode wireless mode chang volum otherwis amaz product got  sale best price headphoneread\n",
      "Target:   Unhappy\n",
      "Prediction:  Happy\n",
      "\n",
      "Review:  awesom soundveri pretti see nd sound qualiti good wish take product love product read\n",
      "Target:   Unhappy\n",
      "Prediction:  Happy\n",
      "\n",
      "Review:   month use headphon person boat speaker headphon lover alreadi  speaker  headphon famili headphon realli upto level first time hear audio like audio qualiti ok bass overwhelm bcoz high volum music get distort build qualiti ok fit everyon fit ok famili member fit well feel discomforread\n",
      "Target:   Unhappy\n",
      "Prediction:  Unhappy\n",
      "\n",
      "Review:  mind blow awesom brilliant gadget perfect travel light easi carri charg super fast sound qualiti amaz price itread\n",
      "Target:   Happy\n",
      "Prediction:  Unhappy\n",
      "\n",
      "Review:  tight pain  usag compat mobil phone good tri zenfon pro  honor view  mobil volum button work expect button alway chang song call clariti actual worst tri almost  differ devic voic alway get disconnect good point see audio qualiti bass good listen songsread\n",
      "Target:   Happy\n",
      "Prediction:  Unhappy\n",
      "\n",
      "Review:  decent headphonei buy  satisfi productprosgood good qualiti good light good batteri backupconsit littl bit tightdo know get wasi afta use muchear get painthi problem seen mani reviewsyoutub alsogood peopl love basscz normal sound littl bit button feel durableread\n",
      "Target:   Unhappy\n",
      "Prediction:  Happy\n",
      "\n",
      "Review:  pretti  good   everyth fine     thing  order   decemb   show would  reach  th decemb   decemb   got  decemb     almost  lost hope product  thank god got thisread\n",
      "Target:   Happy\n",
      "Prediction:  Happy\n",
      "\n",
      "Review:  good packag still satisfi product worth money like muchyou guy go itread\n",
      "Target:   Happy\n",
      "Prediction:  Happy\n",
      "\n",
      "Review:  amaz good sound qualiti n batteri back amaz fulli satisfi read\n",
      "Target:   Unhappy\n",
      "Prediction:  Unhappy\n",
      "\n",
      "Review:   day experi good headphon awesom qualiti sound biggest thing also connect wire best featur satisfi base  star give  starread\n",
      "Target:   Unhappy\n",
      "Prediction:  Unhappy\n",
      "\n",
      "Review:  write review almost year purchas headphon  excel budget headphon howev extra bass advertis sound qualiti low price  bought headphon bbd sale realli good  wireless connect also good along good batteri backup headphon grip headphon head realli good even sudden head movement enjoy music rhythmic bob head headread\n",
      "Target:   Happy\n",
      "Prediction:  Happy\n",
      "\n",
      "Review:  mic work proper especi call sound qualiti good bass excel good  buck batteri backup mark final good productread\n",
      "Target:   Unhappy\n",
      "Prediction:  Unhappy\n",
      "\n",
      "Review:  one best headset price rang  thing like capabl wire connect batteri charg use cabl provid believ sound qualiti better wire connect compar bluetooth would definit recommend buy  one best rangeread\n",
      "Target:   Unhappy\n",
      "Prediction:  Happy\n",
      "\n",
      "Review:  good qualiti boat  rocker best headphon bass qualiti good  thank filpkartread\n",
      "Target:   Unhappy\n",
      "Prediction:  Unhappy\n",
      "\n",
      "Review:  pros sound qualiti well balanc indian musiceveri instrument well vocal heard clear batteri life awesom easili last  hrs  hrs charg connect decent goe  mtrs without issu headphon quit sturdi headphon gave fallen coupl time consider distanc noth happenedcon ear cup soft gud  hrs use start bother ear size  fit coread\n",
      "Target:   Happy\n",
      "Prediction:  Unhappy\n",
      "\n",
      "Review:  good producti got price  rs phone pay discount   product awesomeloud bass clariti fit ear bluetooth rang smaller said descript ie   good deliveri n packag good batteri backup also awesom charg sinc bought productjust check charg issu find great productgo itread\n",
      "Target:   Unhappy\n",
      "Prediction:  Happy\n",
      "\n",
      "Review:  good product price sound qualiti good experienc issu use month whenev watch video sound goe mute rewind video unmut give extra wire headphon along usb design rock well built key okay improv littl bit batteri life good start drain frequent littl long useread\n",
      "Target:   Unhappy\n",
      "Prediction:  Unhappy\n",
      "\n",
      "Review:  bass heavi expect like premium headphon sound qualiti good excel good deal  bucksread\n",
      "Target:   Unhappy\n",
      "Prediction:  Happy\n",
      "\n",
      "Review:  headphon good order twice best bass sound qualiti  look headphon good look desirableread\n",
      "Target:   Unhappy\n",
      "Prediction:  Happy\n",
      "\n",
      "Review:  made order decemb  night got deliv home around  pm made order flipkart pay later facil big shop day period  dec    price pack good mobil deliveri fast still next month jan   pay due  without extra interest servic fee  charg fine late repay thank flipkart facil boat rocker  superb even price rang  read\n",
      "Target:   Unhappy\n",
      "Prediction:  Unhappy\n",
      "\n",
      "Review:  fantast bass crisp clear voic overal superread\n",
      "Target:   Happy\n",
      "Prediction:  Happy\n",
      "\n",
      "Review:  decent buy music  game wire give best experi last excel daili use  use  yr  write review  yr broken plastic fix tape decent recommend rough useread\n",
      "Target:   Happy\n",
      "Prediction:  Happy\n",
      "\n",
      "Review:  best product reason price valu money durabl well love thank flipkartread\n",
      "Target:   Happy\n",
      "Prediction:  Happy\n",
      "\n",
      "Review:  use  month work smooth without issu good bass proper mainten sound qualiti overal good choic look good headset mid rangeread\n",
      "Target:   Unhappy\n",
      "Prediction:  Happy\n",
      "\n",
      "Review:  batteri backup good time tight head bluetooth connect good speaker good bass good boat realli rock guy bought product dasar cost  rs price reasaonbl r observev use  month r chang wait batteri indic goodreal happi product deliveri goodread\n",
      "Target:   Unhappy\n",
      "Prediction:  Unhappy\n",
      "\n",
      "Review:  nice productgood sound  bass solid build best headphon   star comfort batteri  deliveri also pretti late  daysread\n",
      "Target:   Happy\n",
      "Prediction:  Happy\n",
      "\n",
      "Review:  boat rocker best choic buy buget headphon bass nice bulid qualiti also good comfort long period useread\n",
      "Target:   Happy\n",
      "Prediction:  Happy\n",
      "\n",
      "Review:  nice headset good bass batteri backup great seem problem mic pretti good job noic cancel greatread\n",
      "Target:   Unhappy\n",
      "Prediction:  Unhappy\n",
      "\n",
      "Review:  know peopl give  product product given  star bcoz superb bass well batteri backup extrem good watch almost two movi time use wire given  appreci amount need product like thiswrit mumbai andheri atlast mumbai style ka review product bohut hard hai read\n",
      "Target:   Happy\n",
      "Prediction:  Happy\n",
      "\n",
      "Review:  headphon good order twice best bass sound qualiti  look headphon good look desirableread\n",
      "Target:   Unhappy\n",
      "Prediction:  Unhappy\n",
      "\n",
      "Review:  good product boat like design headphon sound qualiti good batteri backup also good use play pubg listen music love productread\n",
      "Target:   Happy\n",
      "Prediction:  Happy\n",
      "\n",
      "Review:  receiv  januaryth packag good time deliveryi use headphon around  weeksand go good till nowsound      balanc soundbass        good amount bass mani us like                                initi feel bass mark                                later use poweramp music player                                 magic qualiti        read\n",
      "Target:   Happy\n",
      "Prediction:  Happy\n",
      "\n",
      "Review:  good productbass clear  feel comfort weari got  day order fast deliveri isread\n",
      "Target:   Unhappy\n",
      "Prediction:  Happy\n",
      "\n",
      "Review:  design colour   good  sound qualiti awesom  love much productread\n",
      "Target:   Unhappy\n",
      "Prediction:  Happy\n",
      "\n",
      "Review:  headphon stylish look bass dj dispoint batteri backup good mic okk okk overal good goodread\n",
      "Target:   Happy\n",
      "Prediction:  Happy\n",
      "\n",
      "Review:   materi  nice  design  color  batteri back also  bass  good bass boost song  tight ear take everi  min  bass  littl high priceread\n",
      "Target:   Unhappy\n",
      "Prediction:  Happy\n",
      "\n",
      "Review:  okay first thing good qualiti use week issu far sound qualiti awesom like theatr also batteri backup good use   hrs straight connect issu problem fit tight hurt hear due prolong usag possibl give  rate recommend guy go black one becoz cloth like textur hread\n",
      "Target:   Unhappy\n",
      "Prediction:  Happy\n",
      "\n",
      "Review:  nice qualiti headphoneshigh qualiti beat crystal clear sound also fault plug jack sound clear use bluetooth featureit feel someth like uuuuuuread\n",
      "Target:   Happy\n",
      "Prediction:  Happy\n",
      "\n",
      "Review:  purchas product good deal excel audio thump bass great batteryamaz product would suggest everyon buy awesom headphoneread\n",
      "Target:   Happy\n",
      "Prediction:  Happy\n",
      "\n",
      "Review:  reason head phone great batteri pretti sound make happi proud purchasethank boat amaz headphoneread\n",
      "Target:   Happy\n",
      "Prediction:  Happy\n",
      "\n",
      "Review:  nice design good product sound nice wire wireless aux connect dell laptopread\n",
      "Target:   Unhappy\n",
      "Prediction:  Unhappy\n",
      "\n",
      "Review:  suburb amaz product love suggest  buy boat headphon flipkart nice seller fast deliveri ekartread\n",
      "Target:   Unhappy\n",
      "Prediction:  Unhappy\n",
      "\n",
      "Review:  fact see look budget headphon best rangenon jblsoni phillip beat nobodi kind sound qualiti rang fun fact  even boat made model great dynam sound even rest model even expens one greatbassit like sit car woofer good amount crisp tribl  like sennheis still pop music lover like iti  bought thread\n",
      "Target:   Unhappy\n",
      "Prediction:  Unhappy\n",
      "\n",
      "Review:  love boat rockerz  batteri backup amaz fit also perfect earcup easili adjust bass also good also love color  like almost everyth headphon wear gym everyday sweatproof remov wipe sweat get accumul earcup incom outgo call facil amaz overal best buyread\n",
      "Target:   Happy\n",
      "Prediction:  Happy\n",
      "\n",
      "Review:  deliveri slowsound qualiti super bass also good build qualiti bad batteri also goodi one major problem mic good time mic clear call person voic clear voic clear thereread\n",
      "Target:   Unhappy\n",
      "Prediction:  Unhappy\n",
      "\n",
      "Review:  good product cheap price even better jbl first also buyi jbl good better itread\n",
      "Target:   Happy\n",
      "Prediction:  Happy\n",
      "\n",
      "Review:  excel product high qualiti sound clariti crisp high bassperfect rang wirelessbett jbl moto etcfit well n superb n soft cushionread\n",
      "Target:   Unhappy\n",
      "Prediction:  Unhappy\n",
      "\n",
      "Review:  wow headphon super super voic  batteri also good best headphon  got  rs wow  cheap  thank flipkart love flipkartread\n",
      "Target:   Happy\n",
      "Prediction:  Happy\n",
      "\n",
      "Review:  best headphonesthank flipkart sell get price best earphon price categorygood nice sound  batteri backup   take  hrs charg felt call flicker built could improv hide connect wire earpiecesoveral use jbl  soni headphonesand one good term sound qualiti price read\n",
      "Target:   Happy\n",
      "Prediction:  Happy\n",
      "\n",
      "Review:  issu bluetooth rang support upto  fit call  fit song get voic breakmic good callingus music n enjoy nice sound qualiti baseread\n",
      "Target:   Happy\n",
      "Prediction:  Happy\n",
      "\n",
      "Review:  product good bass sound clariti superb call answer option wirelessth best one got boat look wirless headset long timebut prize  bit higher timeso wait offer period luckili got best buy  almost mi second purchas boat keep qualiti maintain timei satisfi purchaserecommend everyon look read\n",
      "Target:   Happy\n",
      "Prediction:  Happy\n",
      "\n",
      "Review:  super low price extraordinari product bluetooth connect quick samsung bass qualiti realli good sound harsh headphon lightweight portabl also come aux cabl case batteri die beep sound pretti strong volum high best bluetooth headphon buy price  need product boatread\n",
      "Target:   Unhappy\n",
      "Prediction:  Happy\n",
      "\n",
      "Review:  write review aftet use  week super qualiti sound good come full volumebatteri backup also good get charg within hour last upto new user may feel pain initi day pain feel day usefold easi carrydo buy like extra bassand got  rupe wait offer less luckthank flipkart super fast deliveryread\n",
      "Target:   Unhappy\n",
      "Prediction:  Unhappy\n",
      "\n",
      "Review:  best devic rang bass qualiti best simpli love devic got deliv  dayslight weight white neon colour simpli wow perfect rest ear comfort wellgo thank boat read\n",
      "Target:   Happy\n",
      "Prediction:  Happy\n",
      "\n",
      "Review:  bluetooth connect sound bass good use aux cabl cabl bass  sound low volum button work aux cableand good call day later ear got painingread\n",
      "Target:   Unhappy\n",
      "Prediction:  Happy\n",
      "\n",
      "Review:  deliv day promis flipkart big up servic come product music produc use audio gear compani like jbl skullcandi sennheis etc noth match boat balanc trebl bass headphon perfect last  charg strong durabl one downsid could find comfort aftr wear around hour ear start pain although take break read\n",
      "Target:   Happy\n",
      "Prediction:  Happy\n",
      "\n",
      "Review:  best world bass  product like much  best thing colorread\n",
      "Target:   Happy\n",
      "Prediction:  Happy\n",
      "\n",
      "Review:  better product good sound qualiti two way useabl thank sellerread\n",
      "Target:   Happy\n",
      "Prediction:  Happy\n",
      "\n",
      "Review:  batteri backup ashvatthama deni die  straightaway  hour travel could end charg  work pretti well control great  easi respons true wireless freedom  satisfi read\n",
      "Target:   Happy\n",
      "Prediction:  Happy\n",
      "\n",
      "Review:  yes good aspectexcept mic tri talk use mic bluetooth person cannot hear clear also low sound irrit want someth enjoy music budget qualiti good yes tight use get loosen littl comfort big head feel head small week got comfort keep volum mid rang use hour like use  hrs day keepiread\n",
      "Target:   Happy\n",
      "Prediction:  Happy\n",
      "\n",
      "Review:  earlob hurt even  minut usagebass loud good think one go overtheear model better feel music nois cancel batteri backup dual usag mode especi good devic even mic problem suchbut  high doubt build qualiti suspect last long  definit cannot pack suitcas carri bag lest break safe place neckoveral serv purpos bread\n",
      "Target:   Happy\n",
      "Prediction:  Happy\n",
      "\n",
      "Review:  product sound clear excel bass obvious good product valuabl money guy daut realli good productread\n",
      "Target:   Happy\n",
      "Prediction:  Happy\n",
      "\n",
      "Review:  nice product nice build qualiti sound qualiti also batteri backup good overal product nice price  bluetooth rang also good upto  meter mic qualiti also goodread\n",
      "Target:   Unhappy\n",
      "Prediction:  Happy\n",
      "\n",
      "Review:  good headphon comfort factor realli good advantag use wireless wire overal great valu moneyread\n",
      "Target:   Happy\n",
      "Prediction:  Happy\n",
      "\n",
      "Review:  first time give review friend believ good producteveryth fine good feel happi purchas itread\n",
      "Target:   Happy\n",
      "Prediction:  Happy\n",
      "\n",
      "Review:  best headphon regular use use till date point know buy   strap get lossen pretti soon  bluetooth good rang good  problem big recommend product everi oneread\n",
      "Target:   Happy\n",
      "Prediction:  Happy\n",
      "\n",
      "Review:  mic qualiti good headphon realli nice love sound qualiti bass qualiti good nois cancel mic better call experienceread\n",
      "Target:   Happy\n",
      "Prediction:  Happy\n",
      "\n",
      "Review:  sound qualiti truli amaz cannot use  ear start pain comfort fitbluetooth fine music dorsnt work proper watch video bluetooth modebuff problemread\n",
      "Target:   Unhappy\n",
      "Prediction:  Unhappy\n",
      "\n",
      "Review:  decent good product price sinc use  month face issu sound   sound headphon satisfi best price must say  talk batteri backup headphon come good batteri  long last henc use play  hour daili batteri remain till  daysproblemth problem face  month  product  bluetooth rang  problem common everi bluetoread\n",
      "Target:   Happy\n",
      "Prediction:  Happy\n",
      "\n",
      "Review:  perfect price rang go  absolut amaz one feel delay pubg sound sound perfect synchronis game bought play pubg main pubg user r look good headphon  review help hit likeread\n",
      "Target:   Happy\n",
      "Prediction:  Happy\n",
      "\n",
      "Review:  use  day readi say someth boat rckrs  design sound qualitybass batteri backup super condit use full day charg one half  hour product abl give full day batteri life  perform btri go low thn take tnsn abl use aux cabl short product best  amount go itread\n",
      "Target:   Happy\n",
      "Prediction:  Happy\n",
      "\n",
      "Review:  great wireless weird use bass great work good devic batteri backup also goodfor max sound gave  hr backupread\n",
      "Target:   Unhappy\n",
      "Prediction:  Happy\n",
      "\n",
      "Review:  buy thispro sound qualiti build qualiti  bluetooth connect  bass clear high  batteri backup  use wire headphon charg headphonethi goodcron use long feel pain  ear earif need ear price go moto pul maxfin opinionif want good sound qualiti good bass wireless headread\n",
      "Target:   Unhappy\n",
      "Prediction:  Happy\n",
      "\n",
      "Review:  omg valu money product commit compani bass awesom  build qualiti good budget buy headphon  person recommend go nice productread\n",
      "Target:   Happy\n",
      "Prediction:  Happy\n",
      "\n",
      "Review:  good wish master polit help natureread\n",
      "Target:   Unhappy\n",
      "Prediction:  Happy\n",
      "\n",
      "Review:  boat rocker  typic budget friend purchas  got  definit worth valu say  bass great support well  might tight ear first day perfect valuabl productread\n",
      "Target:   Unhappy\n",
      "Prediction:  Happy\n",
      "\n",
      "Review:  initi think return flipkart approv felt keep itanywaypro sound good bit bass vocal clear  alway depend music video file media playerex flac  audio file poweramp player  hd video dolbi atom batteri last   charg full  hrscon feel tight get use  micthat  monthsif anyth happen postread\n",
      "Target:   Happy\n",
      "Prediction:  Happy\n",
      "\n",
      "Review:  awsom extordinari product realli good sound qualiti refresh hear soft music need better base qualityread\n",
      "Target:   Unhappy\n",
      "Prediction:  Happy\n",
      "\n",
      "Review:  buy  colour cotton cushion  look good prefer one leather air cushion  sound qualiti   price rang goodbass   get much design   recommend  buy one leather cushion batteri   notic cancel also gud  recommend buy product sale get cheap priceplz guyz buy headphon play pubg bass heaphon disturb game cannot get crystal clear  qualread\n",
      "Target:   Happy\n",
      "Prediction:  Happy\n",
      "\n",
      "Review:  rate product accord price got price  price  ths best avail bluetooth headphon tha marketi use  month still batteri backup like   hour full volum audio qualiti awesom price rang descent low mid perfect equalis high yes perfect fit uncomfortablenessread\n",
      "Target:   Happy\n",
      "Prediction:  Happy\n",
      "\n",
      "Review:  although best market worth everi penni inr  buy cool headphon must buy one best sell product flipkart yes forgot  free cabl plz like reviewread\n",
      "Target:   Happy\n",
      "Prediction:  Unhappy\n",
      "\n",
      "Review:  awesom high recommend one use jbl soni one far better cannot find better wireless headphon  bass sound clariti awesom amaz play wireread\n",
      "Target:   Happy\n",
      "Prediction:  Happy\n",
      "\n",
      "Review:  say use product  day bit tight like cannotinfact use  min fit good design awesom  sound qualiti fabul bass also good strong recommend product like listen music goread\n",
      "Target:   Unhappy\n",
      "Prediction:  Unhappy\n",
      "\n",
      "Review:  superb sound qualiti good design comfort good bettari life overal amaz product  read\n",
      "Target:   Happy\n",
      "Prediction:  Happy\n",
      "\n",
      "Review:  headphon much good also come fast flipkart packag headphon good enough box torn place deliveri boy say torn travel detect one star whether headphon goodread\n",
      "Target:   Unhappy\n",
      "Prediction:  Unhappy\n",
      "\n",
      "Review:  fabol product got watch mani review youtub product final purchas  inrand got superlight weight accessori deliev crisp clear sound perfect bass balanc also wireless conect aux cabl fullfil condit batteru backup mention box ie  hour  go blind instead buy jbl moto pulsepuls max read\n",
      "Target:   Happy\n",
      "Prediction:  Happy\n",
      "\n",
      "Review:  excel headset  good build qualiti hour run time  sound qualiti also good price pay  thank flipkart give us type saleread\n",
      "Target:   Happy\n",
      "Prediction:  Happy\n",
      "\n",
      "Review:  headphon best bass perfect fit fix headthat mi  provid larg rang bluetoothand mic work fine bluetoothwir alsoread\n",
      "Target:   Unhappy\n",
      "Prediction:  Unhappy\n",
      "\n",
      "Review:   flipkart god damn super fast servic tq thatand qualiti product super cool everyth grt yrr soon best type qualiti product within budgetread\n",
      "Target:   Unhappy\n",
      "Prediction:  Happy\n",
      "\n",
      "Review:  valu money say price tag good product sound qualiti good great bass decent howev realli comfort overal good product got  sale good dealread\n",
      "Target:   Unhappy\n",
      "Prediction:  Unhappy\n",
      "\n",
      "Review:  first want talk sound qualiti sound qualiti best price segment bass realli punchi mid also good high volum sound crack bit  otherwis realli nice come build qualiti build qualiti amaz cannot get better headphon sturdi light made good qualiti plastic thing like bit tight sometim becom uncomfortaread\n",
      "Target:   Happy\n",
      "Prediction:  Happy\n",
      "\n",
      "Review:  nice headphon excel sound qualiti easi toggl comfort well worth price would sayread\n",
      "Target:   Unhappy\n",
      "Prediction:  Happy\n",
      "\n",
      "Review:  awesom sound qualiti batteri backup amaz comfort look wise love productread\n",
      "Target:   Happy\n",
      "Prediction:  Happy\n",
      "\n"
     ]
    }
   ],
   "source": [
    "zipped_data=zip(list(np.array(ID_train)), list(np.array(D_test)), list(predictions))\n",
    "for i, j, k in zipped_data:\n",
    "    print(\"Review: \", i)\n",
    "    print(\"Target:  \",j)\n",
    "    print(\"Prediction: \",k)\n",
    "    print()\n",
    "    "
   ]
  },
  {
   "cell_type": "code",
   "execution_count": null,
   "id": "67e58fdd",
   "metadata": {},
   "outputs": [],
   "source": []
  }
 ],
 "metadata": {
  "kernelspec": {
   "display_name": "Python 3 (ipykernel)",
   "language": "python",
   "name": "python3"
  },
  "language_info": {
   "codemirror_mode": {
    "name": "ipython",
    "version": 3
   },
   "file_extension": ".py",
   "mimetype": "text/x-python",
   "name": "python",
   "nbconvert_exporter": "python",
   "pygments_lexer": "ipython3",
   "version": "3.9.12"
  }
 },
 "nbformat": 4,
 "nbformat_minor": 5
}
