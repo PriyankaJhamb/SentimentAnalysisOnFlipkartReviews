{
 "cells": [
  {
   "cell_type": "markdown",
   "id": "83b66e81",
   "metadata": {},
   "source": [
    "### Objective Of this Project:  To analyse the sentiments and categorised the product as positive, negative or neutral.\n",
    "\n",
    "#### Requirement:) Nowadays, the common people reviews matters a lot when a person wants to buy something.\n",
    "#### We can see from the example that Google shows those websites on top which have good comments on the websites posted by the people. So, it need to be identify, which review is negative and affecting the marketing of product."
   ]
  },
  {
   "cell_type": "code",
   "execution_count": 198,
   "id": "7b52dc48",
   "metadata": {},
   "outputs": [
    {
     "name": "stderr",
     "output_type": "stream",
     "text": [
      "[nltk_data] Downloading package stopwords to\n",
      "[nltk_data]     C:\\Users\\priya\\AppData\\Roaming\\nltk_data...\n",
      "[nltk_data]   Package stopwords is already up-to-date!\n"
     ]
    }
   ],
   "source": [
    "\n",
    "# importing required libraries\n",
    "\n",
    "import pandas as pd # for analysing the data\n",
    "import numpy as np # for mathematical collections on arrays\n",
    "import matplotlib.pyplot as plt # for plotting\n",
    "import seaborn as sns # for plotting\n",
    "import sklearn as skl # for machine learning algorithms\n",
    "\n",
    "import nltk # natural language toolkit\n",
    "# snowball represents a ball type in which all similar words like cared, caring etc and \n",
    "# stemmer means all words come under a common stem i.e care in this example.\n",
    "stemmer=nltk.SnowballStemmer(language=\"english\") \n",
    "\n",
    "nltk.download(\"stopwords\")\n",
    "from nltk.corpus import stopwords # corpus means single collection and corpora means multiple collection of data\n",
    "stopwords=set(stopwords.words(\"english\")) # make a set of particular english words \n",
    "\n",
    "\n",
    "import string # used for purpose of cleaning\n",
    "\n",
    "import re # for regular expression\n",
    "\n",
    "from wordcloud import WordCloud, STOPWORDS, ImageColorGenerator\n",
    "\n",
    "from nltk.sentiment.vader import SentimentIntensityAnalyzer\n",
    "from nltk.stem.wordnet import WordNetLemmatizer\n",
    "\n",
    "import tensorflow as tf\n",
    "from tensorflow.keras.preprocessing.text import Tokenizer\n",
    "from tensorflow.keras.preprocessing import sequence\n",
    "\n",
    "import pickle\n",
    "\n",
    "from bs4 import BeautifulSoup\n",
    "import contractions"
   ]
  },
  {
   "cell_type": "markdown",
   "id": "26269c57",
   "metadata": {},
   "source": [
    "###  Get the Data"
   ]
  },
  {
   "cell_type": "code",
   "execution_count": 199,
   "id": "8eac1389",
   "metadata": {},
   "outputs": [
    {
     "data": {
      "text/html": [
       "<div>\n",
       "<style scoped>\n",
       "    .dataframe tbody tr th:only-of-type {\n",
       "        vertical-align: middle;\n",
       "    }\n",
       "\n",
       "    .dataframe tbody tr th {\n",
       "        vertical-align: top;\n",
       "    }\n",
       "\n",
       "    .dataframe thead th {\n",
       "        text-align: right;\n",
       "    }\n",
       "</style>\n",
       "<table border=\"1\" class=\"dataframe\">\n",
       "  <thead>\n",
       "    <tr style=\"text-align: right;\">\n",
       "      <th></th>\n",
       "      <th>review</th>\n",
       "      <th>rating</th>\n",
       "    </tr>\n",
       "  </thead>\n",
       "  <tbody>\n",
       "    <tr>\n",
       "      <th>0</th>\n",
       "      <td>It was nice produt. I like it's design a lot. ...</td>\n",
       "      <td>5</td>\n",
       "    </tr>\n",
       "    <tr>\n",
       "      <th>1</th>\n",
       "      <td>awesome sound....very pretty to see this nd th...</td>\n",
       "      <td>5</td>\n",
       "    </tr>\n",
       "    <tr>\n",
       "      <th>2</th>\n",
       "      <td>awesome sound quality. pros 7-8 hrs of battery...</td>\n",
       "      <td>4</td>\n",
       "    </tr>\n",
       "    <tr>\n",
       "      <th>3</th>\n",
       "      <td>I think it is such a good product not only as ...</td>\n",
       "      <td>5</td>\n",
       "    </tr>\n",
       "    <tr>\n",
       "      <th>4</th>\n",
       "      <td>Awsome sound powerful bass battery backup is a...</td>\n",
       "      <td>5</td>\n",
       "    </tr>\n",
       "    <tr>\n",
       "      <th>...</th>\n",
       "      <td>...</td>\n",
       "      <td>...</td>\n",
       "    </tr>\n",
       "    <tr>\n",
       "      <th>484</th>\n",
       "      <td>The right and left distribution is not okay......</td>\n",
       "      <td>4</td>\n",
       "    </tr>\n",
       "    <tr>\n",
       "      <th>485</th>\n",
       "      <td>nice Bluetooth headphone, I am pleased with it...</td>\n",
       "      <td>5</td>\n",
       "    </tr>\n",
       "    <tr>\n",
       "      <th>486</th>\n",
       "      <td>excellent sound quality with deep bass. good b...</td>\n",
       "      <td>5</td>\n",
       "    </tr>\n",
       "    <tr>\n",
       "      <th>487</th>\n",
       "      <td>this is a very good product boat headphone goo...</td>\n",
       "      <td>5</td>\n",
       "    </tr>\n",
       "    <tr>\n",
       "      <th>488</th>\n",
       "      <td>This headphone is very stylish but if you look...</td>\n",
       "      <td>4</td>\n",
       "    </tr>\n",
       "  </tbody>\n",
       "</table>\n",
       "<p>489 rows × 2 columns</p>\n",
       "</div>"
      ],
      "text/plain": [
       "                                                review  rating\n",
       "0    It was nice produt. I like it's design a lot. ...       5\n",
       "1    awesome sound....very pretty to see this nd th...       5\n",
       "2    awesome sound quality. pros 7-8 hrs of battery...       4\n",
       "3    I think it is such a good product not only as ...       5\n",
       "4    Awsome sound powerful bass battery backup is a...       5\n",
       "..                                                 ...     ...\n",
       "484  The right and left distribution is not okay......       4\n",
       "485  nice Bluetooth headphone, I am pleased with it...       5\n",
       "486  excellent sound quality with deep bass. good b...       5\n",
       "487  this is a very good product boat headphone goo...       5\n",
       "488  This headphone is very stylish but if you look...       4\n",
       "\n",
       "[489 rows x 2 columns]"
      ]
     },
     "execution_count": 199,
     "metadata": {},
     "output_type": "execute_result"
    }
   ],
   "source": [
    "# Reading the CSV file\n",
    "\n",
    "data=pd.read_csv(\"flipkart_data.csv\")\n",
    "data"
   ]
  },
  {
   "cell_type": "markdown",
   "id": "c516d664",
   "metadata": {},
   "source": [
    "### Explore and visualize the data to gain insights"
   ]
  },
  {
   "cell_type": "code",
   "execution_count": 200,
   "id": "cc0449de",
   "metadata": {},
   "outputs": [],
   "source": [
    "data.insert(0, \"id\",np.arange(1, len(data) + 1))"
   ]
  },
  {
   "cell_type": "code",
   "execution_count": 201,
   "id": "019cc849",
   "metadata": {},
   "outputs": [
    {
     "data": {
      "text/html": [
       "<div>\n",
       "<style scoped>\n",
       "    .dataframe tbody tr th:only-of-type {\n",
       "        vertical-align: middle;\n",
       "    }\n",
       "\n",
       "    .dataframe tbody tr th {\n",
       "        vertical-align: top;\n",
       "    }\n",
       "\n",
       "    .dataframe thead th {\n",
       "        text-align: right;\n",
       "    }\n",
       "</style>\n",
       "<table border=\"1\" class=\"dataframe\">\n",
       "  <thead>\n",
       "    <tr style=\"text-align: right;\">\n",
       "      <th></th>\n",
       "      <th>id</th>\n",
       "      <th>review</th>\n",
       "      <th>rating</th>\n",
       "    </tr>\n",
       "  </thead>\n",
       "  <tbody>\n",
       "    <tr>\n",
       "      <th>0</th>\n",
       "      <td>1</td>\n",
       "      <td>It was nice produt. I like it's design a lot. ...</td>\n",
       "      <td>5</td>\n",
       "    </tr>\n",
       "    <tr>\n",
       "      <th>1</th>\n",
       "      <td>2</td>\n",
       "      <td>awesome sound....very pretty to see this nd th...</td>\n",
       "      <td>5</td>\n",
       "    </tr>\n",
       "    <tr>\n",
       "      <th>2</th>\n",
       "      <td>3</td>\n",
       "      <td>awesome sound quality. pros 7-8 hrs of battery...</td>\n",
       "      <td>4</td>\n",
       "    </tr>\n",
       "    <tr>\n",
       "      <th>3</th>\n",
       "      <td>4</td>\n",
       "      <td>I think it is such a good product not only as ...</td>\n",
       "      <td>5</td>\n",
       "    </tr>\n",
       "    <tr>\n",
       "      <th>4</th>\n",
       "      <td>5</td>\n",
       "      <td>Awsome sound powerful bass battery backup is a...</td>\n",
       "      <td>5</td>\n",
       "    </tr>\n",
       "  </tbody>\n",
       "</table>\n",
       "</div>"
      ],
      "text/plain": [
       "   id                                             review  rating\n",
       "0   1  It was nice produt. I like it's design a lot. ...       5\n",
       "1   2  awesome sound....very pretty to see this nd th...       5\n",
       "2   3  awesome sound quality. pros 7-8 hrs of battery...       4\n",
       "3   4  I think it is such a good product not only as ...       5\n",
       "4   5  Awsome sound powerful bass battery backup is a...       5"
      ]
     },
     "execution_count": 201,
     "metadata": {},
     "output_type": "execute_result"
    }
   ],
   "source": [
    "# Showing first 5 rows\n",
    "data.head()"
   ]
  },
  {
   "cell_type": "code",
   "execution_count": 202,
   "id": "3e4e3e22",
   "metadata": {},
   "outputs": [
    {
     "name": "stdout",
     "output_type": "stream",
     "text": [
      "<class 'pandas.core.frame.DataFrame'>\n",
      "RangeIndex: 489 entries, 0 to 488\n",
      "Data columns (total 3 columns):\n",
      " #   Column  Non-Null Count  Dtype \n",
      "---  ------  --------------  ----- \n",
      " 0   id      489 non-null    int32 \n",
      " 1   review  489 non-null    object\n",
      " 2   rating  489 non-null    int64 \n",
      "dtypes: int32(1), int64(1), object(1)\n",
      "memory usage: 9.7+ KB\n"
     ]
    }
   ],
   "source": [
    "# get information about the data\n",
    "\n",
    "data.info()"
   ]
  },
  {
   "cell_type": "markdown",
   "id": "73c8677f",
   "metadata": {},
   "source": [
    "#### Infer:  The table has 489 entries and all 489 are non-null for both columns."
   ]
  },
  {
   "cell_type": "code",
   "execution_count": 203,
   "id": "b1bccf5e",
   "metadata": {},
   "outputs": [
    {
     "data": {
      "text/plain": [
       "id        0\n",
       "review    0\n",
       "rating    0\n",
       "dtype: int64"
      ]
     },
     "execution_count": 203,
     "metadata": {},
     "output_type": "execute_result"
    }
   ],
   "source": [
    "# Is there any null values present in the data? IF yes, the sum is:)\n",
    "data.isnull().sum()"
   ]
  },
  {
   "cell_type": "code",
   "execution_count": 204,
   "id": "b67762a7",
   "metadata": {},
   "outputs": [
    {
     "data": {
      "text/html": [
       "<div>\n",
       "<style scoped>\n",
       "    .dataframe tbody tr th:only-of-type {\n",
       "        vertical-align: middle;\n",
       "    }\n",
       "\n",
       "    .dataframe tbody tr th {\n",
       "        vertical-align: top;\n",
       "    }\n",
       "\n",
       "    .dataframe thead th {\n",
       "        text-align: right;\n",
       "    }\n",
       "</style>\n",
       "<table border=\"1\" class=\"dataframe\">\n",
       "  <thead>\n",
       "    <tr style=\"text-align: right;\">\n",
       "      <th></th>\n",
       "      <th>id</th>\n",
       "      <th>rating</th>\n",
       "    </tr>\n",
       "  </thead>\n",
       "  <tbody>\n",
       "    <tr>\n",
       "      <th>count</th>\n",
       "      <td>489.000000</td>\n",
       "      <td>489.000000</td>\n",
       "    </tr>\n",
       "    <tr>\n",
       "      <th>mean</th>\n",
       "      <td>245.000000</td>\n",
       "      <td>4.370143</td>\n",
       "    </tr>\n",
       "    <tr>\n",
       "      <th>std</th>\n",
       "      <td>141.306405</td>\n",
       "      <td>0.921070</td>\n",
       "    </tr>\n",
       "    <tr>\n",
       "      <th>min</th>\n",
       "      <td>1.000000</td>\n",
       "      <td>1.000000</td>\n",
       "    </tr>\n",
       "    <tr>\n",
       "      <th>25%</th>\n",
       "      <td>123.000000</td>\n",
       "      <td>4.000000</td>\n",
       "    </tr>\n",
       "    <tr>\n",
       "      <th>50%</th>\n",
       "      <td>245.000000</td>\n",
       "      <td>5.000000</td>\n",
       "    </tr>\n",
       "    <tr>\n",
       "      <th>75%</th>\n",
       "      <td>367.000000</td>\n",
       "      <td>5.000000</td>\n",
       "    </tr>\n",
       "    <tr>\n",
       "      <th>max</th>\n",
       "      <td>489.000000</td>\n",
       "      <td>5.000000</td>\n",
       "    </tr>\n",
       "  </tbody>\n",
       "</table>\n",
       "</div>"
      ],
      "text/plain": [
       "               id      rating\n",
       "count  489.000000  489.000000\n",
       "mean   245.000000    4.370143\n",
       "std    141.306405    0.921070\n",
       "min      1.000000    1.000000\n",
       "25%    123.000000    4.000000\n",
       "50%    245.000000    5.000000\n",
       "75%    367.000000    5.000000\n",
       "max    489.000000    5.000000"
      ]
     },
     "execution_count": 204,
     "metadata": {},
     "output_type": "execute_result"
    }
   ],
   "source": [
    "data.describe()"
   ]
  },
  {
   "cell_type": "markdown",
   "id": "14b45c3e",
   "metadata": {},
   "source": [
    "#### Infer: Average rating is approximately 4.37 and the product is not so bad."
   ]
  },
  {
   "cell_type": "code",
   "execution_count": 205,
   "id": "640ae0b3",
   "metadata": {},
   "outputs": [],
   "source": [
    "\n",
    "def clean(text):\n",
    "    text=str(text).lower()\n",
    "    text=re.sub(\"https://\\S+ | www\\.\\S+\", \"\", text)                # removing website starting protocols links  \n",
    "    text=re.sub(\"#[\\w]*\", \"\", text)                                # removing special tags like #awesome\n",
    "    text=re.sub(\"<.*?>\", \"\", text)                                 # removing html tags\n",
    "    text=re.sub('\\n', \"\", text)                                    # removing new lines\n",
    "    text=re.sub(\"\\w*\\d\\w*\", \"\", text)\n",
    "    \n",
    "    soup = BeautifulSoup(text)\n",
    "    text = soup.get_text() # Remove HTML TAGS If any left\n",
    "    text= text.encode('ascii','ignore') # Remove emojis and errors\n",
    "    text=text.decode()\n",
    "    text=contractions.fix(text) # Changing you're -> you are | Removing contractions\n",
    "    \n",
    "    text=text.translate(str.maketrans('','',string.punctuation))  # 1st parameter represents what need to be replaced, 2nd parameter represents what need to be placed instead of replaced word, and 3rd parameter represents what need to be deleted\n",
    "    text=[stemmer.stem(word) for word in text.split(\" \") if word not in stopwords] # it finds the stem word (basic word ) for example: cared ->care\n",
    "    text=\" \".join(text)\n",
    "    \n",
    "    lookup_dict = { 'dm':'direct message', \"awsm\" : \"awesome\", \"luv\" :\"love\" , \"easi\": \"easy\"} # Removing Abbreviation\n",
    "    text = ' '.join( [lookup_dict[word] if word in lookup_dict.keys() else word for word in text.split()]) \n",
    "    \n",
    "    return text\n",
    "    "
   ]
  },
  {
   "cell_type": "code",
   "execution_count": 206,
   "id": "064bb988",
   "metadata": {},
   "outputs": [
    {
     "name": "stderr",
     "output_type": "stream",
     "text": [
      "C:\\Users\\priya\\anaconda3\\lib\\site-packages\\bs4\\__init__.py:435: MarkupResemblesLocatorWarning:\n",
      "\n",
      "The input looks more like a filename than markup. You may want to open this file and pass the filehandle into Beautiful Soup.\n",
      "\n"
     ]
    },
    {
     "data": {
      "text/html": [
       "<div>\n",
       "<style scoped>\n",
       "    .dataframe tbody tr th:only-of-type {\n",
       "        vertical-align: middle;\n",
       "    }\n",
       "\n",
       "    .dataframe tbody tr th {\n",
       "        vertical-align: top;\n",
       "    }\n",
       "\n",
       "    .dataframe thead th {\n",
       "        text-align: right;\n",
       "    }\n",
       "</style>\n",
       "<table border=\"1\" class=\"dataframe\">\n",
       "  <thead>\n",
       "    <tr style=\"text-align: right;\">\n",
       "      <th></th>\n",
       "      <th>id</th>\n",
       "      <th>review</th>\n",
       "      <th>rating</th>\n",
       "    </tr>\n",
       "  </thead>\n",
       "  <tbody>\n",
       "    <tr>\n",
       "      <th>0</th>\n",
       "      <td>1</td>\n",
       "      <td>nice produt like design lot easy carri look st...</td>\n",
       "      <td>5</td>\n",
       "    </tr>\n",
       "    <tr>\n",
       "      <th>1</th>\n",
       "      <td>2</td>\n",
       "      <td>awesom soundveri pretti see nd sound qualiti g...</td>\n",
       "      <td>5</td>\n",
       "    </tr>\n",
       "    <tr>\n",
       "      <th>2</th>\n",
       "      <td>3</td>\n",
       "      <td>awesom sound qualiti pros hrs batteri life inc...</td>\n",
       "      <td>4</td>\n",
       "    </tr>\n",
       "    <tr>\n",
       "      <th>3</th>\n",
       "      <td>4</td>\n",
       "      <td>think good product per qualiti also design qui...</td>\n",
       "      <td>5</td>\n",
       "    </tr>\n",
       "    <tr>\n",
       "      <th>4</th>\n",
       "      <td>5</td>\n",
       "      <td>awsom sound power bass batteri backup also exc...</td>\n",
       "      <td>5</td>\n",
       "    </tr>\n",
       "    <tr>\n",
       "      <th>...</th>\n",
       "      <td>...</td>\n",
       "      <td>...</td>\n",
       "      <td>...</td>\n",
       "    </tr>\n",
       "    <tr>\n",
       "      <th>484</th>\n",
       "      <td>485</td>\n",
       "      <td>right left distribut okayotherwis sound qualit...</td>\n",
       "      <td>4</td>\n",
       "    </tr>\n",
       "    <tr>\n",
       "      <th>485</th>\n",
       "      <td>486</td>\n",
       "      <td>nice bluetooth headphon pleas perform day use ...</td>\n",
       "      <td>5</td>\n",
       "    </tr>\n",
       "    <tr>\n",
       "      <th>486</th>\n",
       "      <td>487</td>\n",
       "      <td>excel sound qualiti deep bass good batteri bac...</td>\n",
       "      <td>5</td>\n",
       "    </tr>\n",
       "    <tr>\n",
       "      <th>487</th>\n",
       "      <td>488</td>\n",
       "      <td>good product boat headphon good best also nice...</td>\n",
       "      <td>5</td>\n",
       "    </tr>\n",
       "    <tr>\n",
       "      <th>488</th>\n",
       "      <td>489</td>\n",
       "      <td>headphon stylish look bass dj dispoint batteri...</td>\n",
       "      <td>4</td>\n",
       "    </tr>\n",
       "  </tbody>\n",
       "</table>\n",
       "<p>489 rows × 3 columns</p>\n",
       "</div>"
      ],
      "text/plain": [
       "      id                                             review  rating\n",
       "0      1  nice produt like design lot easy carri look st...       5\n",
       "1      2  awesom soundveri pretti see nd sound qualiti g...       5\n",
       "2      3  awesom sound qualiti pros hrs batteri life inc...       4\n",
       "3      4  think good product per qualiti also design qui...       5\n",
       "4      5  awsom sound power bass batteri backup also exc...       5\n",
       "..   ...                                                ...     ...\n",
       "484  485  right left distribut okayotherwis sound qualit...       4\n",
       "485  486  nice bluetooth headphon pleas perform day use ...       5\n",
       "486  487  excel sound qualiti deep bass good batteri bac...       5\n",
       "487  488  good product boat headphon good best also nice...       5\n",
       "488  489  headphon stylish look bass dj dispoint batteri...       4\n",
       "\n",
       "[489 rows x 3 columns]"
      ]
     },
     "execution_count": 206,
     "metadata": {},
     "output_type": "execute_result"
    }
   ],
   "source": [
    "# Cleaning the data using regular expression\n",
    "data['review']=data['review'].apply(clean)\n",
    "data"
   ]
  },
  {
   "cell_type": "code",
   "execution_count": 207,
   "id": "b657a0de",
   "metadata": {},
   "outputs": [
    {
     "data": {
      "text/plain": [
       "5    280\n",
       "4    146\n",
       "3     42\n",
       "1     15\n",
       "2      6\n",
       "Name: rating, dtype: int64"
      ]
     },
     "execution_count": 207,
     "metadata": {},
     "output_type": "execute_result"
    }
   ],
   "source": [
    "ratings=data['rating'].value_counts()\n",
    "ratings"
   ]
  },
  {
   "cell_type": "code",
   "execution_count": 208,
   "id": "80261604",
   "metadata": {},
   "outputs": [
    {
     "data": {
      "application/vnd.plotly.v1+json": {
       "config": {
        "plotlyServerURL": "https://plot.ly"
       },
       "data": [
        {
         "domain": {
          "x": [
           0,
           1
          ],
          "y": [
           0,
           1
          ]
         },
         "hovertemplate": "label=%{label}<br>value=%{value}<extra></extra>",
         "labels": [
          5,
          4,
          3,
          1,
          2
         ],
         "legendgroup": "",
         "name": "",
         "showlegend": true,
         "type": "pie",
         "values": [
          280,
          146,
          42,
          15,
          6
         ]
        }
       ],
       "layout": {
        "legend": {
         "tracegroupgap": 0
        },
        "margin": {
         "t": 60
        },
        "template": {
         "data": {
          "bar": [
           {
            "error_x": {
             "color": "#2a3f5f"
            },
            "error_y": {
             "color": "#2a3f5f"
            },
            "marker": {
             "line": {
              "color": "#E5ECF6",
              "width": 0.5
             },
             "pattern": {
              "fillmode": "overlay",
              "size": 10,
              "solidity": 0.2
             }
            },
            "type": "bar"
           }
          ],
          "barpolar": [
           {
            "marker": {
             "line": {
              "color": "#E5ECF6",
              "width": 0.5
             },
             "pattern": {
              "fillmode": "overlay",
              "size": 10,
              "solidity": 0.2
             }
            },
            "type": "barpolar"
           }
          ],
          "carpet": [
           {
            "aaxis": {
             "endlinecolor": "#2a3f5f",
             "gridcolor": "white",
             "linecolor": "white",
             "minorgridcolor": "white",
             "startlinecolor": "#2a3f5f"
            },
            "baxis": {
             "endlinecolor": "#2a3f5f",
             "gridcolor": "white",
             "linecolor": "white",
             "minorgridcolor": "white",
             "startlinecolor": "#2a3f5f"
            },
            "type": "carpet"
           }
          ],
          "choropleth": [
           {
            "colorbar": {
             "outlinewidth": 0,
             "ticks": ""
            },
            "type": "choropleth"
           }
          ],
          "contour": [
           {
            "colorbar": {
             "outlinewidth": 0,
             "ticks": ""
            },
            "colorscale": [
             [
              0,
              "#0d0887"
             ],
             [
              0.1111111111111111,
              "#46039f"
             ],
             [
              0.2222222222222222,
              "#7201a8"
             ],
             [
              0.3333333333333333,
              "#9c179e"
             ],
             [
              0.4444444444444444,
              "#bd3786"
             ],
             [
              0.5555555555555556,
              "#d8576b"
             ],
             [
              0.6666666666666666,
              "#ed7953"
             ],
             [
              0.7777777777777778,
              "#fb9f3a"
             ],
             [
              0.8888888888888888,
              "#fdca26"
             ],
             [
              1,
              "#f0f921"
             ]
            ],
            "type": "contour"
           }
          ],
          "contourcarpet": [
           {
            "colorbar": {
             "outlinewidth": 0,
             "ticks": ""
            },
            "type": "contourcarpet"
           }
          ],
          "heatmap": [
           {
            "colorbar": {
             "outlinewidth": 0,
             "ticks": ""
            },
            "colorscale": [
             [
              0,
              "#0d0887"
             ],
             [
              0.1111111111111111,
              "#46039f"
             ],
             [
              0.2222222222222222,
              "#7201a8"
             ],
             [
              0.3333333333333333,
              "#9c179e"
             ],
             [
              0.4444444444444444,
              "#bd3786"
             ],
             [
              0.5555555555555556,
              "#d8576b"
             ],
             [
              0.6666666666666666,
              "#ed7953"
             ],
             [
              0.7777777777777778,
              "#fb9f3a"
             ],
             [
              0.8888888888888888,
              "#fdca26"
             ],
             [
              1,
              "#f0f921"
             ]
            ],
            "type": "heatmap"
           }
          ],
          "heatmapgl": [
           {
            "colorbar": {
             "outlinewidth": 0,
             "ticks": ""
            },
            "colorscale": [
             [
              0,
              "#0d0887"
             ],
             [
              0.1111111111111111,
              "#46039f"
             ],
             [
              0.2222222222222222,
              "#7201a8"
             ],
             [
              0.3333333333333333,
              "#9c179e"
             ],
             [
              0.4444444444444444,
              "#bd3786"
             ],
             [
              0.5555555555555556,
              "#d8576b"
             ],
             [
              0.6666666666666666,
              "#ed7953"
             ],
             [
              0.7777777777777778,
              "#fb9f3a"
             ],
             [
              0.8888888888888888,
              "#fdca26"
             ],
             [
              1,
              "#f0f921"
             ]
            ],
            "type": "heatmapgl"
           }
          ],
          "histogram": [
           {
            "marker": {
             "pattern": {
              "fillmode": "overlay",
              "size": 10,
              "solidity": 0.2
             }
            },
            "type": "histogram"
           }
          ],
          "histogram2d": [
           {
            "colorbar": {
             "outlinewidth": 0,
             "ticks": ""
            },
            "colorscale": [
             [
              0,
              "#0d0887"
             ],
             [
              0.1111111111111111,
              "#46039f"
             ],
             [
              0.2222222222222222,
              "#7201a8"
             ],
             [
              0.3333333333333333,
              "#9c179e"
             ],
             [
              0.4444444444444444,
              "#bd3786"
             ],
             [
              0.5555555555555556,
              "#d8576b"
             ],
             [
              0.6666666666666666,
              "#ed7953"
             ],
             [
              0.7777777777777778,
              "#fb9f3a"
             ],
             [
              0.8888888888888888,
              "#fdca26"
             ],
             [
              1,
              "#f0f921"
             ]
            ],
            "type": "histogram2d"
           }
          ],
          "histogram2dcontour": [
           {
            "colorbar": {
             "outlinewidth": 0,
             "ticks": ""
            },
            "colorscale": [
             [
              0,
              "#0d0887"
             ],
             [
              0.1111111111111111,
              "#46039f"
             ],
             [
              0.2222222222222222,
              "#7201a8"
             ],
             [
              0.3333333333333333,
              "#9c179e"
             ],
             [
              0.4444444444444444,
              "#bd3786"
             ],
             [
              0.5555555555555556,
              "#d8576b"
             ],
             [
              0.6666666666666666,
              "#ed7953"
             ],
             [
              0.7777777777777778,
              "#fb9f3a"
             ],
             [
              0.8888888888888888,
              "#fdca26"
             ],
             [
              1,
              "#f0f921"
             ]
            ],
            "type": "histogram2dcontour"
           }
          ],
          "mesh3d": [
           {
            "colorbar": {
             "outlinewidth": 0,
             "ticks": ""
            },
            "type": "mesh3d"
           }
          ],
          "parcoords": [
           {
            "line": {
             "colorbar": {
              "outlinewidth": 0,
              "ticks": ""
             }
            },
            "type": "parcoords"
           }
          ],
          "pie": [
           {
            "automargin": true,
            "type": "pie"
           }
          ],
          "scatter": [
           {
            "marker": {
             "colorbar": {
              "outlinewidth": 0,
              "ticks": ""
             }
            },
            "type": "scatter"
           }
          ],
          "scatter3d": [
           {
            "line": {
             "colorbar": {
              "outlinewidth": 0,
              "ticks": ""
             }
            },
            "marker": {
             "colorbar": {
              "outlinewidth": 0,
              "ticks": ""
             }
            },
            "type": "scatter3d"
           }
          ],
          "scattercarpet": [
           {
            "marker": {
             "colorbar": {
              "outlinewidth": 0,
              "ticks": ""
             }
            },
            "type": "scattercarpet"
           }
          ],
          "scattergeo": [
           {
            "marker": {
             "colorbar": {
              "outlinewidth": 0,
              "ticks": ""
             }
            },
            "type": "scattergeo"
           }
          ],
          "scattergl": [
           {
            "marker": {
             "colorbar": {
              "outlinewidth": 0,
              "ticks": ""
             }
            },
            "type": "scattergl"
           }
          ],
          "scattermapbox": [
           {
            "marker": {
             "colorbar": {
              "outlinewidth": 0,
              "ticks": ""
             }
            },
            "type": "scattermapbox"
           }
          ],
          "scatterpolar": [
           {
            "marker": {
             "colorbar": {
              "outlinewidth": 0,
              "ticks": ""
             }
            },
            "type": "scatterpolar"
           }
          ],
          "scatterpolargl": [
           {
            "marker": {
             "colorbar": {
              "outlinewidth": 0,
              "ticks": ""
             }
            },
            "type": "scatterpolargl"
           }
          ],
          "scatterternary": [
           {
            "marker": {
             "colorbar": {
              "outlinewidth": 0,
              "ticks": ""
             }
            },
            "type": "scatterternary"
           }
          ],
          "surface": [
           {
            "colorbar": {
             "outlinewidth": 0,
             "ticks": ""
            },
            "colorscale": [
             [
              0,
              "#0d0887"
             ],
             [
              0.1111111111111111,
              "#46039f"
             ],
             [
              0.2222222222222222,
              "#7201a8"
             ],
             [
              0.3333333333333333,
              "#9c179e"
             ],
             [
              0.4444444444444444,
              "#bd3786"
             ],
             [
              0.5555555555555556,
              "#d8576b"
             ],
             [
              0.6666666666666666,
              "#ed7953"
             ],
             [
              0.7777777777777778,
              "#fb9f3a"
             ],
             [
              0.8888888888888888,
              "#fdca26"
             ],
             [
              1,
              "#f0f921"
             ]
            ],
            "type": "surface"
           }
          ],
          "table": [
           {
            "cells": {
             "fill": {
              "color": "#EBF0F8"
             },
             "line": {
              "color": "white"
             }
            },
            "header": {
             "fill": {
              "color": "#C8D4E3"
             },
             "line": {
              "color": "white"
             }
            },
            "type": "table"
           }
          ]
         },
         "layout": {
          "annotationdefaults": {
           "arrowcolor": "#2a3f5f",
           "arrowhead": 0,
           "arrowwidth": 1
          },
          "autotypenumbers": "strict",
          "coloraxis": {
           "colorbar": {
            "outlinewidth": 0,
            "ticks": ""
           }
          },
          "colorscale": {
           "diverging": [
            [
             0,
             "#8e0152"
            ],
            [
             0.1,
             "#c51b7d"
            ],
            [
             0.2,
             "#de77ae"
            ],
            [
             0.3,
             "#f1b6da"
            ],
            [
             0.4,
             "#fde0ef"
            ],
            [
             0.5,
             "#f7f7f7"
            ],
            [
             0.6,
             "#e6f5d0"
            ],
            [
             0.7,
             "#b8e186"
            ],
            [
             0.8,
             "#7fbc41"
            ],
            [
             0.9,
             "#4d9221"
            ],
            [
             1,
             "#276419"
            ]
           ],
           "sequential": [
            [
             0,
             "#0d0887"
            ],
            [
             0.1111111111111111,
             "#46039f"
            ],
            [
             0.2222222222222222,
             "#7201a8"
            ],
            [
             0.3333333333333333,
             "#9c179e"
            ],
            [
             0.4444444444444444,
             "#bd3786"
            ],
            [
             0.5555555555555556,
             "#d8576b"
            ],
            [
             0.6666666666666666,
             "#ed7953"
            ],
            [
             0.7777777777777778,
             "#fb9f3a"
            ],
            [
             0.8888888888888888,
             "#fdca26"
            ],
            [
             1,
             "#f0f921"
            ]
           ],
           "sequentialminus": [
            [
             0,
             "#0d0887"
            ],
            [
             0.1111111111111111,
             "#46039f"
            ],
            [
             0.2222222222222222,
             "#7201a8"
            ],
            [
             0.3333333333333333,
             "#9c179e"
            ],
            [
             0.4444444444444444,
             "#bd3786"
            ],
            [
             0.5555555555555556,
             "#d8576b"
            ],
            [
             0.6666666666666666,
             "#ed7953"
            ],
            [
             0.7777777777777778,
             "#fb9f3a"
            ],
            [
             0.8888888888888888,
             "#fdca26"
            ],
            [
             1,
             "#f0f921"
            ]
           ]
          },
          "colorway": [
           "#636efa",
           "#EF553B",
           "#00cc96",
           "#ab63fa",
           "#FFA15A",
           "#19d3f3",
           "#FF6692",
           "#B6E880",
           "#FF97FF",
           "#FECB52"
          ],
          "font": {
           "color": "#2a3f5f"
          },
          "geo": {
           "bgcolor": "white",
           "lakecolor": "white",
           "landcolor": "#E5ECF6",
           "showlakes": true,
           "showland": true,
           "subunitcolor": "white"
          },
          "hoverlabel": {
           "align": "left"
          },
          "hovermode": "closest",
          "mapbox": {
           "style": "light"
          },
          "paper_bgcolor": "white",
          "plot_bgcolor": "#E5ECF6",
          "polar": {
           "angularaxis": {
            "gridcolor": "white",
            "linecolor": "white",
            "ticks": ""
           },
           "bgcolor": "#E5ECF6",
           "radialaxis": {
            "gridcolor": "white",
            "linecolor": "white",
            "ticks": ""
           }
          },
          "scene": {
           "xaxis": {
            "backgroundcolor": "#E5ECF6",
            "gridcolor": "white",
            "gridwidth": 2,
            "linecolor": "white",
            "showbackground": true,
            "ticks": "",
            "zerolinecolor": "white"
           },
           "yaxis": {
            "backgroundcolor": "#E5ECF6",
            "gridcolor": "white",
            "gridwidth": 2,
            "linecolor": "white",
            "showbackground": true,
            "ticks": "",
            "zerolinecolor": "white"
           },
           "zaxis": {
            "backgroundcolor": "#E5ECF6",
            "gridcolor": "white",
            "gridwidth": 2,
            "linecolor": "white",
            "showbackground": true,
            "ticks": "",
            "zerolinecolor": "white"
           }
          },
          "shapedefaults": {
           "line": {
            "color": "#2a3f5f"
           }
          },
          "ternary": {
           "aaxis": {
            "gridcolor": "white",
            "linecolor": "white",
            "ticks": ""
           },
           "baxis": {
            "gridcolor": "white",
            "linecolor": "white",
            "ticks": ""
           },
           "bgcolor": "#E5ECF6",
           "caxis": {
            "gridcolor": "white",
            "linecolor": "white",
            "ticks": ""
           }
          },
          "title": {
           "x": 0.05
          },
          "xaxis": {
           "automargin": true,
           "gridcolor": "white",
           "linecolor": "white",
           "ticks": "",
           "title": {
            "standoff": 15
           },
           "zerolinecolor": "white",
           "zerolinewidth": 2
          },
          "yaxis": {
           "automargin": true,
           "gridcolor": "white",
           "linecolor": "white",
           "ticks": "",
           "title": {
            "standoff": 15
           },
           "zerolinecolor": "white",
           "zerolinewidth": 2
          }
         }
        }
       }
      },
      "text/html": [
       "<div>                            <div id=\"47f32e9d-6c94-48ea-9630-3a21bdda5356\" class=\"plotly-graph-div\" style=\"height:525px; width:100%;\"></div>            <script type=\"text/javascript\">                require([\"plotly\"], function(Plotly) {                    window.PLOTLYENV=window.PLOTLYENV || {};                                    if (document.getElementById(\"47f32e9d-6c94-48ea-9630-3a21bdda5356\")) {                    Plotly.newPlot(                        \"47f32e9d-6c94-48ea-9630-3a21bdda5356\",                        [{\"domain\":{\"x\":[0.0,1.0],\"y\":[0.0,1.0]},\"hovertemplate\":\"label=%{label}<br>value=%{value}<extra></extra>\",\"labels\":[5,4,3,1,2],\"legendgroup\":\"\",\"name\":\"\",\"showlegend\":true,\"values\":[280,146,42,15,6],\"type\":\"pie\"}],                        {\"template\":{\"data\":{\"bar\":[{\"error_x\":{\"color\":\"#2a3f5f\"},\"error_y\":{\"color\":\"#2a3f5f\"},\"marker\":{\"line\":{\"color\":\"#E5ECF6\",\"width\":0.5},\"pattern\":{\"fillmode\":\"overlay\",\"size\":10,\"solidity\":0.2}},\"type\":\"bar\"}],\"barpolar\":[{\"marker\":{\"line\":{\"color\":\"#E5ECF6\",\"width\":0.5},\"pattern\":{\"fillmode\":\"overlay\",\"size\":10,\"solidity\":0.2}},\"type\":\"barpolar\"}],\"carpet\":[{\"aaxis\":{\"endlinecolor\":\"#2a3f5f\",\"gridcolor\":\"white\",\"linecolor\":\"white\",\"minorgridcolor\":\"white\",\"startlinecolor\":\"#2a3f5f\"},\"baxis\":{\"endlinecolor\":\"#2a3f5f\",\"gridcolor\":\"white\",\"linecolor\":\"white\",\"minorgridcolor\":\"white\",\"startlinecolor\":\"#2a3f5f\"},\"type\":\"carpet\"}],\"choropleth\":[{\"colorbar\":{\"outlinewidth\":0,\"ticks\":\"\"},\"type\":\"choropleth\"}],\"contour\":[{\"colorbar\":{\"outlinewidth\":0,\"ticks\":\"\"},\"colorscale\":[[0.0,\"#0d0887\"],[0.1111111111111111,\"#46039f\"],[0.2222222222222222,\"#7201a8\"],[0.3333333333333333,\"#9c179e\"],[0.4444444444444444,\"#bd3786\"],[0.5555555555555556,\"#d8576b\"],[0.6666666666666666,\"#ed7953\"],[0.7777777777777778,\"#fb9f3a\"],[0.8888888888888888,\"#fdca26\"],[1.0,\"#f0f921\"]],\"type\":\"contour\"}],\"contourcarpet\":[{\"colorbar\":{\"outlinewidth\":0,\"ticks\":\"\"},\"type\":\"contourcarpet\"}],\"heatmap\":[{\"colorbar\":{\"outlinewidth\":0,\"ticks\":\"\"},\"colorscale\":[[0.0,\"#0d0887\"],[0.1111111111111111,\"#46039f\"],[0.2222222222222222,\"#7201a8\"],[0.3333333333333333,\"#9c179e\"],[0.4444444444444444,\"#bd3786\"],[0.5555555555555556,\"#d8576b\"],[0.6666666666666666,\"#ed7953\"],[0.7777777777777778,\"#fb9f3a\"],[0.8888888888888888,\"#fdca26\"],[1.0,\"#f0f921\"]],\"type\":\"heatmap\"}],\"heatmapgl\":[{\"colorbar\":{\"outlinewidth\":0,\"ticks\":\"\"},\"colorscale\":[[0.0,\"#0d0887\"],[0.1111111111111111,\"#46039f\"],[0.2222222222222222,\"#7201a8\"],[0.3333333333333333,\"#9c179e\"],[0.4444444444444444,\"#bd3786\"],[0.5555555555555556,\"#d8576b\"],[0.6666666666666666,\"#ed7953\"],[0.7777777777777778,\"#fb9f3a\"],[0.8888888888888888,\"#fdca26\"],[1.0,\"#f0f921\"]],\"type\":\"heatmapgl\"}],\"histogram\":[{\"marker\":{\"pattern\":{\"fillmode\":\"overlay\",\"size\":10,\"solidity\":0.2}},\"type\":\"histogram\"}],\"histogram2d\":[{\"colorbar\":{\"outlinewidth\":0,\"ticks\":\"\"},\"colorscale\":[[0.0,\"#0d0887\"],[0.1111111111111111,\"#46039f\"],[0.2222222222222222,\"#7201a8\"],[0.3333333333333333,\"#9c179e\"],[0.4444444444444444,\"#bd3786\"],[0.5555555555555556,\"#d8576b\"],[0.6666666666666666,\"#ed7953\"],[0.7777777777777778,\"#fb9f3a\"],[0.8888888888888888,\"#fdca26\"],[1.0,\"#f0f921\"]],\"type\":\"histogram2d\"}],\"histogram2dcontour\":[{\"colorbar\":{\"outlinewidth\":0,\"ticks\":\"\"},\"colorscale\":[[0.0,\"#0d0887\"],[0.1111111111111111,\"#46039f\"],[0.2222222222222222,\"#7201a8\"],[0.3333333333333333,\"#9c179e\"],[0.4444444444444444,\"#bd3786\"],[0.5555555555555556,\"#d8576b\"],[0.6666666666666666,\"#ed7953\"],[0.7777777777777778,\"#fb9f3a\"],[0.8888888888888888,\"#fdca26\"],[1.0,\"#f0f921\"]],\"type\":\"histogram2dcontour\"}],\"mesh3d\":[{\"colorbar\":{\"outlinewidth\":0,\"ticks\":\"\"},\"type\":\"mesh3d\"}],\"parcoords\":[{\"line\":{\"colorbar\":{\"outlinewidth\":0,\"ticks\":\"\"}},\"type\":\"parcoords\"}],\"pie\":[{\"automargin\":true,\"type\":\"pie\"}],\"scatter\":[{\"marker\":{\"colorbar\":{\"outlinewidth\":0,\"ticks\":\"\"}},\"type\":\"scatter\"}],\"scatter3d\":[{\"line\":{\"colorbar\":{\"outlinewidth\":0,\"ticks\":\"\"}},\"marker\":{\"colorbar\":{\"outlinewidth\":0,\"ticks\":\"\"}},\"type\":\"scatter3d\"}],\"scattercarpet\":[{\"marker\":{\"colorbar\":{\"outlinewidth\":0,\"ticks\":\"\"}},\"type\":\"scattercarpet\"}],\"scattergeo\":[{\"marker\":{\"colorbar\":{\"outlinewidth\":0,\"ticks\":\"\"}},\"type\":\"scattergeo\"}],\"scattergl\":[{\"marker\":{\"colorbar\":{\"outlinewidth\":0,\"ticks\":\"\"}},\"type\":\"scattergl\"}],\"scattermapbox\":[{\"marker\":{\"colorbar\":{\"outlinewidth\":0,\"ticks\":\"\"}},\"type\":\"scattermapbox\"}],\"scatterpolar\":[{\"marker\":{\"colorbar\":{\"outlinewidth\":0,\"ticks\":\"\"}},\"type\":\"scatterpolar\"}],\"scatterpolargl\":[{\"marker\":{\"colorbar\":{\"outlinewidth\":0,\"ticks\":\"\"}},\"type\":\"scatterpolargl\"}],\"scatterternary\":[{\"marker\":{\"colorbar\":{\"outlinewidth\":0,\"ticks\":\"\"}},\"type\":\"scatterternary\"}],\"surface\":[{\"colorbar\":{\"outlinewidth\":0,\"ticks\":\"\"},\"colorscale\":[[0.0,\"#0d0887\"],[0.1111111111111111,\"#46039f\"],[0.2222222222222222,\"#7201a8\"],[0.3333333333333333,\"#9c179e\"],[0.4444444444444444,\"#bd3786\"],[0.5555555555555556,\"#d8576b\"],[0.6666666666666666,\"#ed7953\"],[0.7777777777777778,\"#fb9f3a\"],[0.8888888888888888,\"#fdca26\"],[1.0,\"#f0f921\"]],\"type\":\"surface\"}],\"table\":[{\"cells\":{\"fill\":{\"color\":\"#EBF0F8\"},\"line\":{\"color\":\"white\"}},\"header\":{\"fill\":{\"color\":\"#C8D4E3\"},\"line\":{\"color\":\"white\"}},\"type\":\"table\"}]},\"layout\":{\"annotationdefaults\":{\"arrowcolor\":\"#2a3f5f\",\"arrowhead\":0,\"arrowwidth\":1},\"autotypenumbers\":\"strict\",\"coloraxis\":{\"colorbar\":{\"outlinewidth\":0,\"ticks\":\"\"}},\"colorscale\":{\"diverging\":[[0,\"#8e0152\"],[0.1,\"#c51b7d\"],[0.2,\"#de77ae\"],[0.3,\"#f1b6da\"],[0.4,\"#fde0ef\"],[0.5,\"#f7f7f7\"],[0.6,\"#e6f5d0\"],[0.7,\"#b8e186\"],[0.8,\"#7fbc41\"],[0.9,\"#4d9221\"],[1,\"#276419\"]],\"sequential\":[[0.0,\"#0d0887\"],[0.1111111111111111,\"#46039f\"],[0.2222222222222222,\"#7201a8\"],[0.3333333333333333,\"#9c179e\"],[0.4444444444444444,\"#bd3786\"],[0.5555555555555556,\"#d8576b\"],[0.6666666666666666,\"#ed7953\"],[0.7777777777777778,\"#fb9f3a\"],[0.8888888888888888,\"#fdca26\"],[1.0,\"#f0f921\"]],\"sequentialminus\":[[0.0,\"#0d0887\"],[0.1111111111111111,\"#46039f\"],[0.2222222222222222,\"#7201a8\"],[0.3333333333333333,\"#9c179e\"],[0.4444444444444444,\"#bd3786\"],[0.5555555555555556,\"#d8576b\"],[0.6666666666666666,\"#ed7953\"],[0.7777777777777778,\"#fb9f3a\"],[0.8888888888888888,\"#fdca26\"],[1.0,\"#f0f921\"]]},\"colorway\":[\"#636efa\",\"#EF553B\",\"#00cc96\",\"#ab63fa\",\"#FFA15A\",\"#19d3f3\",\"#FF6692\",\"#B6E880\",\"#FF97FF\",\"#FECB52\"],\"font\":{\"color\":\"#2a3f5f\"},\"geo\":{\"bgcolor\":\"white\",\"lakecolor\":\"white\",\"landcolor\":\"#E5ECF6\",\"showlakes\":true,\"showland\":true,\"subunitcolor\":\"white\"},\"hoverlabel\":{\"align\":\"left\"},\"hovermode\":\"closest\",\"mapbox\":{\"style\":\"light\"},\"paper_bgcolor\":\"white\",\"plot_bgcolor\":\"#E5ECF6\",\"polar\":{\"angularaxis\":{\"gridcolor\":\"white\",\"linecolor\":\"white\",\"ticks\":\"\"},\"bgcolor\":\"#E5ECF6\",\"radialaxis\":{\"gridcolor\":\"white\",\"linecolor\":\"white\",\"ticks\":\"\"}},\"scene\":{\"xaxis\":{\"backgroundcolor\":\"#E5ECF6\",\"gridcolor\":\"white\",\"gridwidth\":2,\"linecolor\":\"white\",\"showbackground\":true,\"ticks\":\"\",\"zerolinecolor\":\"white\"},\"yaxis\":{\"backgroundcolor\":\"#E5ECF6\",\"gridcolor\":\"white\",\"gridwidth\":2,\"linecolor\":\"white\",\"showbackground\":true,\"ticks\":\"\",\"zerolinecolor\":\"white\"},\"zaxis\":{\"backgroundcolor\":\"#E5ECF6\",\"gridcolor\":\"white\",\"gridwidth\":2,\"linecolor\":\"white\",\"showbackground\":true,\"ticks\":\"\",\"zerolinecolor\":\"white\"}},\"shapedefaults\":{\"line\":{\"color\":\"#2a3f5f\"}},\"ternary\":{\"aaxis\":{\"gridcolor\":\"white\",\"linecolor\":\"white\",\"ticks\":\"\"},\"baxis\":{\"gridcolor\":\"white\",\"linecolor\":\"white\",\"ticks\":\"\"},\"bgcolor\":\"#E5ECF6\",\"caxis\":{\"gridcolor\":\"white\",\"linecolor\":\"white\",\"ticks\":\"\"}},\"title\":{\"x\":0.05},\"xaxis\":{\"automargin\":true,\"gridcolor\":\"white\",\"linecolor\":\"white\",\"ticks\":\"\",\"title\":{\"standoff\":15},\"zerolinecolor\":\"white\",\"zerolinewidth\":2},\"yaxis\":{\"automargin\":true,\"gridcolor\":\"white\",\"linecolor\":\"white\",\"ticks\":\"\",\"title\":{\"standoff\":15},\"zerolinecolor\":\"white\",\"zerolinewidth\":2}}},\"legend\":{\"tracegroupgap\":0},\"margin\":{\"t\":60}},                        {\"responsive\": true}                    ).then(function(){\n",
       "                            \n",
       "var gd = document.getElementById('47f32e9d-6c94-48ea-9630-3a21bdda5356');\n",
       "var x = new MutationObserver(function (mutations, observer) {{\n",
       "        var display = window.getComputedStyle(gd).display;\n",
       "        if (!display || display === 'none') {{\n",
       "            console.log([gd, 'removed!']);\n",
       "            Plotly.purge(gd);\n",
       "            observer.disconnect();\n",
       "        }}\n",
       "}});\n",
       "\n",
       "// Listen for the removal of the full notebook cells\n",
       "var notebookContainer = gd.closest('#notebook-container');\n",
       "if (notebookContainer) {{\n",
       "    x.observe(notebookContainer, {childList: true});\n",
       "}}\n",
       "\n",
       "// Listen for the clearing of the current output cell\n",
       "var outputEl = gd.closest('.output');\n",
       "if (outputEl) {{\n",
       "    x.observe(outputEl, {childList: true});\n",
       "}}\n",
       "\n",
       "                        })                };                });            </script>        </div>"
      ]
     },
     "metadata": {},
     "output_type": "display_data"
    }
   ],
   "source": [
    "# Data Visualisation\n",
    "ratings=data['rating'].value_counts()\n",
    "categories=ratings.index\n",
    "quantities=ratings.values\n",
    "\n",
    "import plotly.express as px\n",
    "figure=px.pie(data, \n",
    "             values=quantities,\n",
    "             names=categories)\n",
    "\n",
    "figure.show()"
   ]
  },
  {
   "cell_type": "code",
   "execution_count": 209,
   "id": "20c5bff6",
   "metadata": {},
   "outputs": [
    {
     "name": "stderr",
     "output_type": "stream",
     "text": [
      "C:\\Users\\priya\\anaconda3\\lib\\site-packages\\seaborn\\axisgrid.py:337: UserWarning:\n",
      "\n",
      "The `size` parameter has been renamed to `height`; please update your code.\n",
      "\n",
      "C:\\Users\\priya\\anaconda3\\lib\\site-packages\\seaborn\\distributions.py:2619: FutureWarning:\n",
      "\n",
      "`distplot` is a deprecated function and will be removed in a future version. Please adapt your code to use either `displot` (a figure-level function with similar flexibility) or `histplot` (an axes-level function for histograms).\n",
      "\n"
     ]
    },
    {
     "data": {
      "image/png": "[encoded data removed]",
      "text/plain": [
       "<Figure size 360x360 with 1 Axes>"
      ]
     },
     "metadata": {
      "needs_background": "light"
     },
     "output_type": "display_data"
    }
   ],
   "source": [
    "# In other way using histogram \n",
    "sns.FacetGrid(data, size=5).map(sns.distplot, \"rating\")\n",
    "plt.show()\n",
    "\n",
    "# mostly rating lies in 4 to 5 range "
   ]
  },
  {
   "cell_type": "markdown",
   "id": "b7b4bedb",
   "metadata": {},
   "source": [
    "#### Infer: approx 60 percent ratings flipkart got for that particular product is 5."
   ]
  },
  {
   "cell_type": "code",
   "execution_count": 210,
   "id": "139007b5",
   "metadata": {},
   "outputs": [
    {
     "data": {
      "image/png": "[encoded data removed]",
      "text/plain": [
       "<Figure size 1080x1440 with 1 Axes>"
      ]
     },
     "metadata": {
      "needs_background": "light"
     },
     "output_type": "display_data"
    }
   ],
   "source": [
    "text=\" \".join(i for i in data.review)\n",
    "wordcloud= WordCloud(stopwords=stopwords, background_color='white').generate(text)\n",
    "plt.figure(figsize=(15, 20))\n",
    "plt.imshow(wordcloud)\n",
    "plt.axis(\"off\")\n",
    "plt.show()\n"
   ]
  },
  {
   "cell_type": "markdown",
   "id": "b8f117b2",
   "metadata": {},
   "source": [
    "###  Infer: \n",
    "#### The more the size of word, the more times that are in the reviews.\n",
    "####  We can see that both good and headphon are the two words which are big in size. So it tells that many people have given review that headphones are good."
   ]
  },
  {
   "cell_type": "code",
   "execution_count": 211,
   "id": "3c0f2fd8",
   "metadata": {},
   "outputs": [
    {
     "name": "stderr",
     "output_type": "stream",
     "text": [
      "[nltk_data] Downloading package vader_lexicon to\n",
      "[nltk_data]     C:\\Users\\priya\\AppData\\Roaming\\nltk_data...\n",
      "[nltk_data]   Package vader_lexicon is already up-to-date!\n"
     ]
    },
    {
     "data": {
      "text/html": [
       "<div>\n",
       "<style scoped>\n",
       "    .dataframe tbody tr th:only-of-type {\n",
       "        vertical-align: middle;\n",
       "    }\n",
       "\n",
       "    .dataframe tbody tr th {\n",
       "        vertical-align: top;\n",
       "    }\n",
       "\n",
       "    .dataframe thead th {\n",
       "        text-align: right;\n",
       "    }\n",
       "</style>\n",
       "<table border=\"1\" class=\"dataframe\">\n",
       "  <thead>\n",
       "    <tr style=\"text-align: right;\">\n",
       "      <th></th>\n",
       "      <th>id</th>\n",
       "      <th>review</th>\n",
       "      <th>rating</th>\n",
       "      <th>Positive</th>\n",
       "      <th>Negative</th>\n",
       "      <th>Neutral</th>\n",
       "    </tr>\n",
       "  </thead>\n",
       "  <tbody>\n",
       "    <tr>\n",
       "      <th>0</th>\n",
       "      <td>1</td>\n",
       "      <td>nice produt like design lot easy carri look st...</td>\n",
       "      <td>5</td>\n",
       "      <td>0.577</td>\n",
       "      <td>0.000</td>\n",
       "      <td>0.423</td>\n",
       "    </tr>\n",
       "    <tr>\n",
       "      <th>1</th>\n",
       "      <td>2</td>\n",
       "      <td>awesom soundveri pretti see nd sound qualiti g...</td>\n",
       "      <td>5</td>\n",
       "      <td>0.471</td>\n",
       "      <td>0.000</td>\n",
       "      <td>0.529</td>\n",
       "    </tr>\n",
       "    <tr>\n",
       "      <th>2</th>\n",
       "      <td>3</td>\n",
       "      <td>awesom sound qualiti pros hrs batteri life inc...</td>\n",
       "      <td>4</td>\n",
       "      <td>0.194</td>\n",
       "      <td>0.000</td>\n",
       "      <td>0.806</td>\n",
       "    </tr>\n",
       "    <tr>\n",
       "      <th>3</th>\n",
       "      <td>4</td>\n",
       "      <td>think good product per qualiti also design qui...</td>\n",
       "      <td>5</td>\n",
       "      <td>0.393</td>\n",
       "      <td>0.049</td>\n",
       "      <td>0.558</td>\n",
       "    </tr>\n",
       "    <tr>\n",
       "      <th>4</th>\n",
       "      <td>5</td>\n",
       "      <td>awsom sound power bass batteri backup also exc...</td>\n",
       "      <td>5</td>\n",
       "      <td>0.486</td>\n",
       "      <td>0.030</td>\n",
       "      <td>0.484</td>\n",
       "    </tr>\n",
       "  </tbody>\n",
       "</table>\n",
       "</div>"
      ],
      "text/plain": [
       "   id                                             review  rating  Positive  \\\n",
       "0   1  nice produt like design lot easy carri look st...       5     0.577   \n",
       "1   2  awesom soundveri pretti see nd sound qualiti g...       5     0.471   \n",
       "2   3  awesom sound qualiti pros hrs batteri life inc...       4     0.194   \n",
       "3   4  think good product per qualiti also design qui...       5     0.393   \n",
       "4   5  awsom sound power bass batteri backup also exc...       5     0.486   \n",
       "\n",
       "   Negative  Neutral  \n",
       "0     0.000    0.423  \n",
       "1     0.000    0.529  \n",
       "2     0.000    0.806  \n",
       "3     0.049    0.558  \n",
       "4     0.030    0.484  "
      ]
     },
     "execution_count": 211,
     "metadata": {},
     "output_type": "execute_result"
    }
   ],
   "source": [
    "# Analysing the scores of reviews to be positive, negative and neutral\n",
    "\n",
    "nltk.download('vader_lexicon')\n",
    "sentiment=SentimentIntensityAnalyzer()\n",
    "\n",
    "data['Positive']=[sentiment.polarity_scores(i)['pos'] for i in data.review]\n",
    "data['Negative']=[sentiment.polarity_scores(i)['neg'] for i in data.review]\n",
    "data['Neutral']=[sentiment.polarity_scores(i)['neu'] for i in data.review]\n",
    "data.head()"
   ]
  },
  {
   "cell_type": "code",
   "execution_count": 212,
   "id": "895cd422",
   "metadata": {},
   "outputs": [],
   "source": [
    "x= sum(data['Positive'])\n",
    "y= sum(data['Negative'])\n",
    "z= sum(data['Neutral'])"
   ]
  },
  {
   "cell_type": "code",
   "execution_count": 213,
   "id": "491ed312",
   "metadata": {},
   "outputs": [
    {
     "data": {
      "text/html": [
       "<div>\n",
       "<style scoped>\n",
       "    .dataframe tbody tr th:only-of-type {\n",
       "        vertical-align: middle;\n",
       "    }\n",
       "\n",
       "    .dataframe tbody tr th {\n",
       "        vertical-align: top;\n",
       "    }\n",
       "\n",
       "    .dataframe thead th {\n",
       "        text-align: right;\n",
       "    }\n",
       "</style>\n",
       "<table border=\"1\" class=\"dataframe\">\n",
       "  <thead>\n",
       "    <tr style=\"text-align: right;\">\n",
       "      <th></th>\n",
       "      <th>id</th>\n",
       "      <th>review</th>\n",
       "      <th>rating</th>\n",
       "      <th>Positive</th>\n",
       "      <th>Negative</th>\n",
       "      <th>Neutral</th>\n",
       "    </tr>\n",
       "  </thead>\n",
       "  <tbody>\n",
       "  </tbody>\n",
       "</table>\n",
       "</div>"
      ],
      "text/plain": [
       "Empty DataFrame\n",
       "Columns: [id, review, rating, Positive, Negative, Neutral]\n",
       "Index: []"
      ]
     },
     "execution_count": 213,
     "metadata": {},
     "output_type": "execute_result"
    }
   ],
   "source": [
    "# reviews having negative sentiments more than 30 percent\n",
    "data[data['Negative']>0.30]"
   ]
  },
  {
   "cell_type": "code",
   "execution_count": 214,
   "id": "88d9217d",
   "metadata": {},
   "outputs": [
    {
     "data": {
      "text/plain": [
       "'Neutral'"
      ]
     },
     "execution_count": 214,
     "metadata": {},
     "output_type": "execute_result"
    }
   ],
   "source": [
    "\n",
    "def max_sentiment_score(x, y, z):\n",
    "    if(x>y and x>z):\n",
    "        return 'Positive'\n",
    "    elif (y>x and y>z):\n",
    "        return 'Negative'\n",
    "    else:\n",
    "        return 'Neutral'\n",
    "    \n",
    "max_sentiment_score(x, y, z)"
   ]
  },
  {
   "cell_type": "markdown",
   "id": "38cd6d23",
   "metadata": {},
   "source": [
    "#### Infer: Maximum Sentiment Score is 'Neutral '. It means that if we will add up the sentiment effect of reviews on the people, it will not impact positive on the person surely. It can affect positive or negative acccording to the comments, he/she is reading."
   ]
  },
  {
   "cell_type": "markdown",
   "id": "6b7bc6d5",
   "metadata": {},
   "source": [
    "### Model Training"
   ]
  },
  {
   "cell_type": "code",
   "execution_count": 215,
   "id": "1ac97ae5",
   "metadata": {},
   "outputs": [
    {
     "data": {
      "text/html": [
       "<div>\n",
       "<style scoped>\n",
       "    .dataframe tbody tr th:only-of-type {\n",
       "        vertical-align: middle;\n",
       "    }\n",
       "\n",
       "    .dataframe tbody tr th {\n",
       "        vertical-align: top;\n",
       "    }\n",
       "\n",
       "    .dataframe thead th {\n",
       "        text-align: right;\n",
       "    }\n",
       "</style>\n",
       "<table border=\"1\" class=\"dataframe\">\n",
       "  <thead>\n",
       "    <tr style=\"text-align: right;\">\n",
       "      <th></th>\n",
       "      <th>id</th>\n",
       "      <th>review</th>\n",
       "      <th>rating</th>\n",
       "      <th>Positive</th>\n",
       "      <th>Negative</th>\n",
       "      <th>Neutral</th>\n",
       "      <th>Output</th>\n",
       "    </tr>\n",
       "  </thead>\n",
       "  <tbody>\n",
       "    <tr>\n",
       "      <th>0</th>\n",
       "      <td>1</td>\n",
       "      <td>nice produt like design lot easy carri look st...</td>\n",
       "      <td>5</td>\n",
       "      <td>0.577</td>\n",
       "      <td>0.000</td>\n",
       "      <td>0.423</td>\n",
       "      <td>Happy</td>\n",
       "    </tr>\n",
       "    <tr>\n",
       "      <th>1</th>\n",
       "      <td>2</td>\n",
       "      <td>awesom soundveri pretti see nd sound qualiti g...</td>\n",
       "      <td>5</td>\n",
       "      <td>0.471</td>\n",
       "      <td>0.000</td>\n",
       "      <td>0.529</td>\n",
       "      <td>Happy</td>\n",
       "    </tr>\n",
       "    <tr>\n",
       "      <th>2</th>\n",
       "      <td>3</td>\n",
       "      <td>awesom sound qualiti pros hrs batteri life inc...</td>\n",
       "      <td>4</td>\n",
       "      <td>0.194</td>\n",
       "      <td>0.000</td>\n",
       "      <td>0.806</td>\n",
       "      <td>Happy</td>\n",
       "    </tr>\n",
       "    <tr>\n",
       "      <th>3</th>\n",
       "      <td>4</td>\n",
       "      <td>think good product per qualiti also design qui...</td>\n",
       "      <td>5</td>\n",
       "      <td>0.393</td>\n",
       "      <td>0.049</td>\n",
       "      <td>0.558</td>\n",
       "      <td>Happy</td>\n",
       "    </tr>\n",
       "    <tr>\n",
       "      <th>4</th>\n",
       "      <td>5</td>\n",
       "      <td>awsom sound power bass batteri backup also exc...</td>\n",
       "      <td>5</td>\n",
       "      <td>0.486</td>\n",
       "      <td>0.030</td>\n",
       "      <td>0.484</td>\n",
       "      <td>Happy</td>\n",
       "    </tr>\n",
       "  </tbody>\n",
       "</table>\n",
       "</div>"
      ],
      "text/plain": [
       "   id                                             review  rating  Positive  \\\n",
       "0   1  nice produt like design lot easy carri look st...       5     0.577   \n",
       "1   2  awesom soundveri pretti see nd sound qualiti g...       5     0.471   \n",
       "2   3  awesom sound qualiti pros hrs batteri life inc...       4     0.194   \n",
       "3   4  think good product per qualiti also design qui...       5     0.393   \n",
       "4   5  awsom sound power bass batteri backup also exc...       5     0.486   \n",
       "\n",
       "   Negative  Neutral Output  \n",
       "0     0.000    0.423  Happy  \n",
       "1     0.000    0.529  Happy  \n",
       "2     0.000    0.806  Happy  \n",
       "3     0.049    0.558  Happy  \n",
       "4     0.030    0.484  Happy  "
      ]
     },
     "execution_count": 215,
     "metadata": {},
     "output_type": "execute_result"
    }
   ],
   "source": [
    "data['Output']=np.where((data['Positive']+data['Neutral']>0.80), 'Happy', 'Unhappy')\n",
    "data.head()"
   ]
  },
  {
   "cell_type": "code",
   "execution_count": 216,
   "id": "5bd215ff",
   "metadata": {},
   "outputs": [
    {
     "name": "stderr",
     "output_type": "stream",
     "text": [
      "C:\\Users\\priya\\anaconda3\\lib\\site-packages\\seaborn\\_decorators.py:36: FutureWarning:\n",
      "\n",
      "Pass the following variable as a keyword arg: x. From version 0.12, the only valid positional argument will be `data`, and passing other arguments without an explicit keyword will result in an error or misinterpretation.\n",
      "\n"
     ]
    },
    {
     "data": {
      "text/plain": [
       "<AxesSubplot:xlabel='Output', ylabel='count'>"
      ]
     },
     "execution_count": 216,
     "metadata": {},
     "output_type": "execute_result"
    },
    {
     "data": {
      "image/png": "[encoded data removed]",
      "text/plain": [
       "<Figure size 432x288 with 1 Axes>"
      ]
     },
     "metadata": {
      "needs_background": "light"
     },
     "output_type": "display_data"
    }
   ],
   "source": [
    "# is data balanced?\n",
    "\n",
    "sns.countplot(data['Output'])"
   ]
  },
  {
   "cell_type": "markdown",
   "id": "44b8f7c7",
   "metadata": {},
   "source": [
    "#### Infer: We can see that our data is imbalanced so that if we will train our data, it will be trained inaccurately.\n",
    "\n"
   ]
  },
  {
   "cell_type": "code",
   "execution_count": 217,
   "id": "b1753d9e",
   "metadata": {},
   "outputs": [],
   "source": [
    "data['Output']=np.where(data['rating']>4, 'Happy', 'Unhappy')"
   ]
  },
  {
   "cell_type": "code",
   "execution_count": 218,
   "id": "e084aa4d",
   "metadata": {},
   "outputs": [
    {
     "name": "stderr",
     "output_type": "stream",
     "text": [
      "C:\\Users\\priya\\anaconda3\\lib\\site-packages\\seaborn\\_decorators.py:36: FutureWarning:\n",
      "\n",
      "Pass the following variable as a keyword arg: x. From version 0.12, the only valid positional argument will be `data`, and passing other arguments without an explicit keyword will result in an error or misinterpretation.\n",
      "\n"
     ]
    },
    {
     "data": {
      "text/plain": [
       "<AxesSubplot:xlabel='Output', ylabel='count'>"
      ]
     },
     "execution_count": 218,
     "metadata": {},
     "output_type": "execute_result"
    },
    {
     "data": {
      "image/png": "[encoded data removed]",
      "text/plain": [
       "<Figure size 432x288 with 1 Axes>"
      ]
     },
     "metadata": {
      "needs_background": "light"
     },
     "output_type": "display_data"
    }
   ],
   "source": [
    "# Now, is data balanced?\n",
    "\n",
    "sns.countplot(data['Output'])"
   ]
  },
  {
   "cell_type": "markdown",
   "id": "739fdedb",
   "metadata": {},
   "source": [
    "#### Wooh!, Yes Now data is almost balanced.\n",
    "\n",
    "#### Good to go"
   ]
  },
  {
   "cell_type": "code",
   "execution_count": 219,
   "id": "27a6621c",
   "metadata": {},
   "outputs": [
    {
     "data": {
      "text/html": [
       "<div>\n",
       "<style scoped>\n",
       "    .dataframe tbody tr th:only-of-type {\n",
       "        vertical-align: middle;\n",
       "    }\n",
       "\n",
       "    .dataframe tbody tr th {\n",
       "        vertical-align: top;\n",
       "    }\n",
       "\n",
       "    .dataframe thead th {\n",
       "        text-align: right;\n",
       "    }\n",
       "</style>\n",
       "<table border=\"1\" class=\"dataframe\">\n",
       "  <thead>\n",
       "    <tr style=\"text-align: right;\">\n",
       "      <th></th>\n",
       "      <th>id</th>\n",
       "      <th>review</th>\n",
       "      <th>rating</th>\n",
       "      <th>Positive</th>\n",
       "      <th>Negative</th>\n",
       "      <th>Neutral</th>\n",
       "      <th>Output</th>\n",
       "      <th>Character Counts</th>\n",
       "    </tr>\n",
       "  </thead>\n",
       "  <tbody>\n",
       "    <tr>\n",
       "      <th>0</th>\n",
       "      <td>1</td>\n",
       "      <td>nice produt like design lot easy carri look st...</td>\n",
       "      <td>5</td>\n",
       "      <td>0.577</td>\n",
       "      <td>0.000</td>\n",
       "      <td>0.423</td>\n",
       "      <td>Happy</td>\n",
       "      <td>55</td>\n",
       "    </tr>\n",
       "    <tr>\n",
       "      <th>1</th>\n",
       "      <td>2</td>\n",
       "      <td>awesom soundveri pretti see nd sound qualiti g...</td>\n",
       "      <td>5</td>\n",
       "      <td>0.471</td>\n",
       "      <td>0.000</td>\n",
       "      <td>0.529</td>\n",
       "      <td>Happy</td>\n",
       "      <td>85</td>\n",
       "    </tr>\n",
       "    <tr>\n",
       "      <th>2</th>\n",
       "      <td>3</td>\n",
       "      <td>awesom sound qualiti pros hrs batteri life inc...</td>\n",
       "      <td>4</td>\n",
       "      <td>0.194</td>\n",
       "      <td>0.000</td>\n",
       "      <td>0.806</td>\n",
       "      <td>Unhappy</td>\n",
       "      <td>330</td>\n",
       "    </tr>\n",
       "    <tr>\n",
       "      <th>3</th>\n",
       "      <td>4</td>\n",
       "      <td>think good product per qualiti also design qui...</td>\n",
       "      <td>5</td>\n",
       "      <td>0.393</td>\n",
       "      <td>0.049</td>\n",
       "      <td>0.558</td>\n",
       "      <td>Happy</td>\n",
       "      <td>207</td>\n",
       "    </tr>\n",
       "    <tr>\n",
       "      <th>4</th>\n",
       "      <td>5</td>\n",
       "      <td>awsom sound power bass batteri backup also exc...</td>\n",
       "      <td>5</td>\n",
       "      <td>0.486</td>\n",
       "      <td>0.030</td>\n",
       "      <td>0.484</td>\n",
       "      <td>Happy</td>\n",
       "      <td>277</td>\n",
       "    </tr>\n",
       "    <tr>\n",
       "      <th>...</th>\n",
       "      <td>...</td>\n",
       "      <td>...</td>\n",
       "      <td>...</td>\n",
       "      <td>...</td>\n",
       "      <td>...</td>\n",
       "      <td>...</td>\n",
       "      <td>...</td>\n",
       "      <td>...</td>\n",
       "    </tr>\n",
       "    <tr>\n",
       "      <th>484</th>\n",
       "      <td>485</td>\n",
       "      <td>right left distribut okayotherwis sound qualit...</td>\n",
       "      <td>4</td>\n",
       "      <td>0.225</td>\n",
       "      <td>0.000</td>\n",
       "      <td>0.775</td>\n",
       "      <td>Unhappy</td>\n",
       "      <td>88</td>\n",
       "    </tr>\n",
       "    <tr>\n",
       "      <th>485</th>\n",
       "      <td>486</td>\n",
       "      <td>nice bluetooth headphon pleas perform day use ...</td>\n",
       "      <td>5</td>\n",
       "      <td>0.368</td>\n",
       "      <td>0.000</td>\n",
       "      <td>0.632</td>\n",
       "      <td>Happy</td>\n",
       "      <td>101</td>\n",
       "    </tr>\n",
       "    <tr>\n",
       "      <th>486</th>\n",
       "      <td>487</td>\n",
       "      <td>excel sound qualiti deep bass good batteri bac...</td>\n",
       "      <td>5</td>\n",
       "      <td>0.393</td>\n",
       "      <td>0.000</td>\n",
       "      <td>0.607</td>\n",
       "      <td>Happy</td>\n",
       "      <td>95</td>\n",
       "    </tr>\n",
       "    <tr>\n",
       "      <th>487</th>\n",
       "      <td>488</td>\n",
       "      <td>good product boat headphon good best also nice...</td>\n",
       "      <td>5</td>\n",
       "      <td>0.754</td>\n",
       "      <td>0.000</td>\n",
       "      <td>0.246</td>\n",
       "      <td>Happy</td>\n",
       "      <td>65</td>\n",
       "    </tr>\n",
       "    <tr>\n",
       "      <th>488</th>\n",
       "      <td>489</td>\n",
       "      <td>headphon stylish look bass dj dispoint batteri...</td>\n",
       "      <td>4</td>\n",
       "      <td>0.309</td>\n",
       "      <td>0.000</td>\n",
       "      <td>0.691</td>\n",
       "      <td>Unhappy</td>\n",
       "      <td>91</td>\n",
       "    </tr>\n",
       "  </tbody>\n",
       "</table>\n",
       "<p>489 rows × 8 columns</p>\n",
       "</div>"
      ],
      "text/plain": [
       "      id                                             review  rating  Positive  \\\n",
       "0      1  nice produt like design lot easy carri look st...       5     0.577   \n",
       "1      2  awesom soundveri pretti see nd sound qualiti g...       5     0.471   \n",
       "2      3  awesom sound qualiti pros hrs batteri life inc...       4     0.194   \n",
       "3      4  think good product per qualiti also design qui...       5     0.393   \n",
       "4      5  awsom sound power bass batteri backup also exc...       5     0.486   \n",
       "..   ...                                                ...     ...       ...   \n",
       "484  485  right left distribut okayotherwis sound qualit...       4     0.225   \n",
       "485  486  nice bluetooth headphon pleas perform day use ...       5     0.368   \n",
       "486  487  excel sound qualiti deep bass good batteri bac...       5     0.393   \n",
       "487  488  good product boat headphon good best also nice...       5     0.754   \n",
       "488  489  headphon stylish look bass dj dispoint batteri...       4     0.309   \n",
       "\n",
       "     Negative  Neutral   Output  Character Counts  \n",
       "0       0.000    0.423    Happy                55  \n",
       "1       0.000    0.529    Happy                85  \n",
       "2       0.000    0.806  Unhappy               330  \n",
       "3       0.049    0.558    Happy               207  \n",
       "4       0.030    0.484    Happy               277  \n",
       "..        ...      ...      ...               ...  \n",
       "484     0.000    0.775  Unhappy                88  \n",
       "485     0.000    0.632    Happy               101  \n",
       "486     0.000    0.607    Happy                95  \n",
       "487     0.000    0.246    Happy                65  \n",
       "488     0.000    0.691  Unhappy                91  \n",
       "\n",
       "[489 rows x 8 columns]"
      ]
     },
     "execution_count": 219,
     "metadata": {},
     "output_type": "execute_result"
    }
   ],
   "source": [
    "data[\"Character Counts\"]=[len(i) for i in data.review]\n",
    "data"
   ]
  },
  {
   "cell_type": "code",
   "execution_count": 220,
   "id": "076dc6c4",
   "metadata": {},
   "outputs": [
    {
     "data": {
      "text/html": [
       "<div>\n",
       "<style scoped>\n",
       "    .dataframe tbody tr th:only-of-type {\n",
       "        vertical-align: middle;\n",
       "    }\n",
       "\n",
       "    .dataframe tbody tr th {\n",
       "        vertical-align: top;\n",
       "    }\n",
       "\n",
       "    .dataframe thead th {\n",
       "        text-align: right;\n",
       "    }\n",
       "</style>\n",
       "<table border=\"1\" class=\"dataframe\">\n",
       "  <thead>\n",
       "    <tr style=\"text-align: right;\">\n",
       "      <th></th>\n",
       "      <th>id</th>\n",
       "      <th>review</th>\n",
       "      <th>rating</th>\n",
       "      <th>Positive</th>\n",
       "      <th>Negative</th>\n",
       "      <th>Neutral</th>\n",
       "      <th>Output</th>\n",
       "      <th>Character Counts</th>\n",
       "      <th>Word Counts</th>\n",
       "    </tr>\n",
       "  </thead>\n",
       "  <tbody>\n",
       "    <tr>\n",
       "      <th>0</th>\n",
       "      <td>1</td>\n",
       "      <td>nice produt like design lot easy carri look st...</td>\n",
       "      <td>5</td>\n",
       "      <td>0.577</td>\n",
       "      <td>0.000</td>\n",
       "      <td>0.423</td>\n",
       "      <td>Happy</td>\n",
       "      <td>55</td>\n",
       "      <td>9</td>\n",
       "    </tr>\n",
       "    <tr>\n",
       "      <th>1</th>\n",
       "      <td>2</td>\n",
       "      <td>awesom soundveri pretti see nd sound qualiti g...</td>\n",
       "      <td>5</td>\n",
       "      <td>0.471</td>\n",
       "      <td>0.000</td>\n",
       "      <td>0.529</td>\n",
       "      <td>Happy</td>\n",
       "      <td>85</td>\n",
       "      <td>14</td>\n",
       "    </tr>\n",
       "    <tr>\n",
       "      <th>2</th>\n",
       "      <td>3</td>\n",
       "      <td>awesom sound qualiti pros hrs batteri life inc...</td>\n",
       "      <td>4</td>\n",
       "      <td>0.194</td>\n",
       "      <td>0.000</td>\n",
       "      <td>0.806</td>\n",
       "      <td>Unhappy</td>\n",
       "      <td>330</td>\n",
       "      <td>48</td>\n",
       "    </tr>\n",
       "    <tr>\n",
       "      <th>3</th>\n",
       "      <td>4</td>\n",
       "      <td>think good product per qualiti also design qui...</td>\n",
       "      <td>5</td>\n",
       "      <td>0.393</td>\n",
       "      <td>0.049</td>\n",
       "      <td>0.558</td>\n",
       "      <td>Happy</td>\n",
       "      <td>207</td>\n",
       "      <td>34</td>\n",
       "    </tr>\n",
       "    <tr>\n",
       "      <th>4</th>\n",
       "      <td>5</td>\n",
       "      <td>awsom sound power bass batteri backup also exc...</td>\n",
       "      <td>5</td>\n",
       "      <td>0.486</td>\n",
       "      <td>0.030</td>\n",
       "      <td>0.484</td>\n",
       "      <td>Happy</td>\n",
       "      <td>277</td>\n",
       "      <td>46</td>\n",
       "    </tr>\n",
       "    <tr>\n",
       "      <th>...</th>\n",
       "      <td>...</td>\n",
       "      <td>...</td>\n",
       "      <td>...</td>\n",
       "      <td>...</td>\n",
       "      <td>...</td>\n",
       "      <td>...</td>\n",
       "      <td>...</td>\n",
       "      <td>...</td>\n",
       "      <td>...</td>\n",
       "    </tr>\n",
       "    <tr>\n",
       "      <th>484</th>\n",
       "      <td>485</td>\n",
       "      <td>right left distribut okayotherwis sound qualit...</td>\n",
       "      <td>4</td>\n",
       "      <td>0.225</td>\n",
       "      <td>0.000</td>\n",
       "      <td>0.775</td>\n",
       "      <td>Unhappy</td>\n",
       "      <td>88</td>\n",
       "      <td>11</td>\n",
       "    </tr>\n",
       "    <tr>\n",
       "      <th>485</th>\n",
       "      <td>486</td>\n",
       "      <td>nice bluetooth headphon pleas perform day use ...</td>\n",
       "      <td>5</td>\n",
       "      <td>0.368</td>\n",
       "      <td>0.000</td>\n",
       "      <td>0.632</td>\n",
       "      <td>Happy</td>\n",
       "      <td>101</td>\n",
       "      <td>14</td>\n",
       "    </tr>\n",
       "    <tr>\n",
       "      <th>486</th>\n",
       "      <td>487</td>\n",
       "      <td>excel sound qualiti deep bass good batteri bac...</td>\n",
       "      <td>5</td>\n",
       "      <td>0.393</td>\n",
       "      <td>0.000</td>\n",
       "      <td>0.607</td>\n",
       "      <td>Happy</td>\n",
       "      <td>95</td>\n",
       "      <td>16</td>\n",
       "    </tr>\n",
       "    <tr>\n",
       "      <th>487</th>\n",
       "      <td>488</td>\n",
       "      <td>good product boat headphon good best also nice...</td>\n",
       "      <td>5</td>\n",
       "      <td>0.754</td>\n",
       "      <td>0.000</td>\n",
       "      <td>0.246</td>\n",
       "      <td>Happy</td>\n",
       "      <td>65</td>\n",
       "      <td>10</td>\n",
       "    </tr>\n",
       "    <tr>\n",
       "      <th>488</th>\n",
       "      <td>489</td>\n",
       "      <td>headphon stylish look bass dj dispoint batteri...</td>\n",
       "      <td>4</td>\n",
       "      <td>0.309</td>\n",
       "      <td>0.000</td>\n",
       "      <td>0.691</td>\n",
       "      <td>Unhappy</td>\n",
       "      <td>91</td>\n",
       "      <td>15</td>\n",
       "    </tr>\n",
       "  </tbody>\n",
       "</table>\n",
       "<p>489 rows × 9 columns</p>\n",
       "</div>"
      ],
      "text/plain": [
       "      id                                             review  rating  Positive  \\\n",
       "0      1  nice produt like design lot easy carri look st...       5     0.577   \n",
       "1      2  awesom soundveri pretti see nd sound qualiti g...       5     0.471   \n",
       "2      3  awesom sound qualiti pros hrs batteri life inc...       4     0.194   \n",
       "3      4  think good product per qualiti also design qui...       5     0.393   \n",
       "4      5  awsom sound power bass batteri backup also exc...       5     0.486   \n",
       "..   ...                                                ...     ...       ...   \n",
       "484  485  right left distribut okayotherwis sound qualit...       4     0.225   \n",
       "485  486  nice bluetooth headphon pleas perform day use ...       5     0.368   \n",
       "486  487  excel sound qualiti deep bass good batteri bac...       5     0.393   \n",
       "487  488  good product boat headphon good best also nice...       5     0.754   \n",
       "488  489  headphon stylish look bass dj dispoint batteri...       4     0.309   \n",
       "\n",
       "     Negative  Neutral   Output  Character Counts  Word Counts  \n",
       "0       0.000    0.423    Happy                55            9  \n",
       "1       0.000    0.529    Happy                85           14  \n",
       "2       0.000    0.806  Unhappy               330           48  \n",
       "3       0.049    0.558    Happy               207           34  \n",
       "4       0.030    0.484    Happy               277           46  \n",
       "..        ...      ...      ...               ...          ...  \n",
       "484     0.000    0.775  Unhappy                88           11  \n",
       "485     0.000    0.632    Happy               101           14  \n",
       "486     0.000    0.607    Happy                95           16  \n",
       "487     0.000    0.246    Happy                65           10  \n",
       "488     0.000    0.691  Unhappy                91           15  \n",
       "\n",
       "[489 rows x 9 columns]"
      ]
     },
     "execution_count": 220,
     "metadata": {},
     "output_type": "execute_result"
    }
   ],
   "source": [
    "data[\"Word Counts\"]=[len(i.split()) for i in data.review]\n",
    "data"
   ]
  },
  {
   "cell_type": "code",
   "execution_count": 221,
   "id": "807caf28",
   "metadata": {},
   "outputs": [
    {
     "name": "stdout",
     "output_type": "stream",
     "text": [
      "<class 'pandas.core.frame.DataFrame'>\n",
      "RangeIndex: 489 entries, 0 to 488\n",
      "Data columns (total 9 columns):\n",
      " #   Column            Non-Null Count  Dtype  \n",
      "---  ------            --------------  -----  \n",
      " 0   id                489 non-null    int32  \n",
      " 1   review            489 non-null    object \n",
      " 2   rating            489 non-null    int64  \n",
      " 3   Positive          489 non-null    float64\n",
      " 4   Negative          489 non-null    float64\n",
      " 5   Neutral           489 non-null    float64\n",
      " 6   Output            489 non-null    object \n",
      " 7   Character Counts  489 non-null    int64  \n",
      " 8   Word Counts       489 non-null    int64  \n",
      "dtypes: float64(3), int32(1), int64(3), object(2)\n",
      "memory usage: 32.6+ KB\n"
     ]
    }
   ],
   "source": [
    "data.info()"
   ]
  },
  {
   "cell_type": "code",
   "execution_count": 222,
   "id": "8ad4b4fe",
   "metadata": {},
   "outputs": [
    {
     "data": {
      "text/html": [
       "<div>\n",
       "<style scoped>\n",
       "    .dataframe tbody tr th:only-of-type {\n",
       "        vertical-align: middle;\n",
       "    }\n",
       "\n",
       "    .dataframe tbody tr th {\n",
       "        vertical-align: top;\n",
       "    }\n",
       "\n",
       "    .dataframe thead th {\n",
       "        text-align: right;\n",
       "    }\n",
       "</style>\n",
       "<table border=\"1\" class=\"dataframe\">\n",
       "  <thead>\n",
       "    <tr style=\"text-align: right;\">\n",
       "      <th></th>\n",
       "      <th>id</th>\n",
       "      <th>rating</th>\n",
       "      <th>Positive</th>\n",
       "      <th>Negative</th>\n",
       "      <th>Neutral</th>\n",
       "      <th>Character Counts</th>\n",
       "      <th>Word Counts</th>\n",
       "    </tr>\n",
       "  </thead>\n",
       "  <tbody>\n",
       "    <tr>\n",
       "      <th>count</th>\n",
       "      <td>489.000000</td>\n",
       "      <td>489.000000</td>\n",
       "      <td>489.000000</td>\n",
       "      <td>489.000000</td>\n",
       "      <td>489.000000</td>\n",
       "      <td>489.00000</td>\n",
       "      <td>489.000000</td>\n",
       "    </tr>\n",
       "    <tr>\n",
       "      <th>mean</th>\n",
       "      <td>245.000000</td>\n",
       "      <td>4.370143</td>\n",
       "      <td>0.375973</td>\n",
       "      <td>0.034063</td>\n",
       "      <td>0.589955</td>\n",
       "      <td>155.06135</td>\n",
       "      <td>24.609407</td>\n",
       "    </tr>\n",
       "    <tr>\n",
       "      <th>std</th>\n",
       "      <td>141.306405</td>\n",
       "      <td>0.921070</td>\n",
       "      <td>0.157373</td>\n",
       "      <td>0.055072</td>\n",
       "      <td>0.142564</td>\n",
       "      <td>74.82907</td>\n",
       "      <td>12.069335</td>\n",
       "    </tr>\n",
       "    <tr>\n",
       "      <th>min</th>\n",
       "      <td>1.000000</td>\n",
       "      <td>1.000000</td>\n",
       "      <td>0.000000</td>\n",
       "      <td>0.000000</td>\n",
       "      <td>0.169000</td>\n",
       "      <td>30.00000</td>\n",
       "      <td>4.000000</td>\n",
       "    </tr>\n",
       "    <tr>\n",
       "      <th>25%</th>\n",
       "      <td>123.000000</td>\n",
       "      <td>4.000000</td>\n",
       "      <td>0.260000</td>\n",
       "      <td>0.000000</td>\n",
       "      <td>0.495000</td>\n",
       "      <td>95.00000</td>\n",
       "      <td>15.000000</td>\n",
       "    </tr>\n",
       "    <tr>\n",
       "      <th>50%</th>\n",
       "      <td>245.000000</td>\n",
       "      <td>5.000000</td>\n",
       "      <td>0.373000</td>\n",
       "      <td>0.000000</td>\n",
       "      <td>0.591000</td>\n",
       "      <td>137.00000</td>\n",
       "      <td>21.000000</td>\n",
       "    </tr>\n",
       "    <tr>\n",
       "      <th>75%</th>\n",
       "      <td>367.000000</td>\n",
       "      <td>5.000000</td>\n",
       "      <td>0.486000</td>\n",
       "      <td>0.063000</td>\n",
       "      <td>0.696000</td>\n",
       "      <td>208.00000</td>\n",
       "      <td>33.000000</td>\n",
       "    </tr>\n",
       "    <tr>\n",
       "      <th>max</th>\n",
       "      <td>489.000000</td>\n",
       "      <td>5.000000</td>\n",
       "      <td>0.831000</td>\n",
       "      <td>0.298000</td>\n",
       "      <td>1.000000</td>\n",
       "      <td>342.00000</td>\n",
       "      <td>59.000000</td>\n",
       "    </tr>\n",
       "  </tbody>\n",
       "</table>\n",
       "</div>"
      ],
      "text/plain": [
       "               id      rating    Positive    Negative     Neutral  \\\n",
       "count  489.000000  489.000000  489.000000  489.000000  489.000000   \n",
       "mean   245.000000    4.370143    0.375973    0.034063    0.589955   \n",
       "std    141.306405    0.921070    0.157373    0.055072    0.142564   \n",
       "min      1.000000    1.000000    0.000000    0.000000    0.169000   \n",
       "25%    123.000000    4.000000    0.260000    0.000000    0.495000   \n",
       "50%    245.000000    5.000000    0.373000    0.000000    0.591000   \n",
       "75%    367.000000    5.000000    0.486000    0.063000    0.696000   \n",
       "max    489.000000    5.000000    0.831000    0.298000    1.000000   \n",
       "\n",
       "       Character Counts  Word Counts  \n",
       "count         489.00000   489.000000  \n",
       "mean          155.06135    24.609407  \n",
       "std            74.82907    12.069335  \n",
       "min            30.00000     4.000000  \n",
       "25%            95.00000    15.000000  \n",
       "50%           137.00000    21.000000  \n",
       "75%           208.00000    33.000000  \n",
       "max           342.00000    59.000000  "
      ]
     },
     "execution_count": 222,
     "metadata": {},
     "output_type": "execute_result"
    }
   ],
   "source": [
    "data.describe()"
   ]
  },
  {
   "cell_type": "code",
   "execution_count": 223,
   "id": "d3c98f0a",
   "metadata": {},
   "outputs": [],
   "source": [
    "data.to_csv(\"data_new.csv\")"
   ]
  },
  {
   "cell_type": "code",
   "execution_count": 224,
   "id": "49b877ae",
   "metadata": {},
   "outputs": [
    {
     "data": {
      "text/plain": [
       "Text(0.5, 1.0, 'Character Counts vs Word Counts of reviews with categorical variable of Output')"
      ]
     },
     "execution_count": 224,
     "metadata": {},
     "output_type": "execute_result"
    },
    {
     "data": {
      "image/png": "[encoded data removed]",
      "text/plain": [
       "<Figure size 1080x720 with 1 Axes>"
      ]
     },
     "metadata": {
      "needs_background": "light"
     },
     "output_type": "display_data"
    }
   ],
   "source": [
    "plt.figure(figsize=(15, 10))\n",
    "sns.barplot(x='Word Counts', y='Character Counts', hue='Output', data=data)\n",
    "plt.title('Character Counts vs Word Counts of reviews with categorical variable of Output')"
   ]
  },
  {
   "cell_type": "code",
   "execution_count": 225,
   "id": "7e354a8a",
   "metadata": {},
   "outputs": [
    {
     "data": {
      "text/plain": [
       "Text(0.5, 1.0, 'Output vs Word Counts of reviews')"
      ]
     },
     "execution_count": 225,
     "metadata": {},
     "output_type": "execute_result"
    },
    {
     "data": {
      "image/png": "[encoded data removed]",
      "text/plain": [
       "<Figure size 360x720 with 1 Axes>"
      ]
     },
     "metadata": {
      "needs_background": "light"
     },
     "output_type": "display_data"
    }
   ],
   "source": [
    "plt.figure(figsize=(5, 10))\n",
    "sns.barplot(x='Output', y='Word Counts', data=data)\n",
    "plt.title('Output vs Word Counts of reviews')"
   ]
  },
  {
   "cell_type": "markdown",
   "id": "ca732c7e",
   "metadata": {},
   "source": [
    "#### Infer: Both unhappy and happy ones have written same number of words almost."
   ]
  },
  {
   "cell_type": "code",
   "execution_count": 226,
   "id": "b7631ffb",
   "metadata": {},
   "outputs": [],
   "source": [
    "from sklearn.model_selection import train_test_split\n",
    "\n",
    "Independent_var=data.review\n",
    "dependent_var=data.Output\n",
    "\n",
    "ID_train, ID_test, D_train, D_test=train_test_split(Independent_var, dependent_var, test_size=0.3 )"
   ]
  },
  {
   "cell_type": "code",
   "execution_count": 227,
   "id": "5a843c0d",
   "metadata": {},
   "outputs": [
    {
     "data": {
      "text/plain": [
       "(342,)"
      ]
     },
     "execution_count": 227,
     "metadata": {},
     "output_type": "execute_result"
    }
   ],
   "source": [
    "ID_train.head()\n",
    "D_train.shape"
   ]
  },
  {
   "cell_type": "code",
   "execution_count": 228,
   "id": "179f08db",
   "metadata": {},
   "outputs": [
    {
     "name": "stdout",
     "output_type": "stream",
     "text": [
      "[[79 34]\n",
      " [ 4 30]]\n",
      "Accuracy of the model:  0.7414965986394558\n",
      "Precision of the model:  [0.69911504 0.88235294]\n",
      "Recall of the model:  [0.95180723 0.46875   ]\n",
      "F Score of the model:  [0.80612245 0.6122449 ]\n"
     ]
    }
   ],
   "source": [
    "from sklearn.feature_extraction.text import TfidfVectorizer\n",
    "from sklearn.linear_model import LogisticRegression\n",
    "\n",
    "tfidfvector=TfidfVectorizer()\n",
    "classifier=LogisticRegression(solver=\"lbfgs\")\n",
    "\n",
    "from sklearn.pipeline import Pipeline\n",
    "\n",
    "model=Pipeline([('vectorizer', tfidfvector), ('classifier', classifier)])\n",
    "model.fit(ID_train, D_train)\n",
    "\n",
    "\n",
    "from sklearn.metrics import confusion_matrix, accuracy_score, precision_score, recall_score, f1_score\n",
    "predictions=model.predict(ID_test)\n",
    "print(confusion_matrix(predictions, D_test))\n",
    "print(\"Accuracy of the model: \", accuracy_score(D_test, predictions))\n",
    "print(\"Precision of the model: \", precision_score(D_test, predictions, average=None))\n",
    "print(\"Recall of the model: \", recall_score(D_test, predictions, average=None))\n",
    "print(\"F Score of the model: \", f1_score(D_test, predictions, average=None))"
   ]
  },
  {
   "cell_type": "code",
   "execution_count": 229,
   "id": "4f028c66",
   "metadata": {},
   "outputs": [
    {
     "name": "stdout",
     "output_type": "stream",
     "text": [
      "Review:  awesom product super qualiti clear n high volum sound chang song cushion qualiti goodread\n",
      "Target:   Unhappy\n",
      "Prediction:  Unhappy\n",
      "\n",
      "Review:  use month bass excellentit like nois cancel headphonesth sound goodbut sometim right one make troubl connect bluetoothbut due wireprovid defectit occur connect bluetoothbut overal nice stylish headset experi music ignor worldread\n",
      "Target:   Unhappy\n",
      "Prediction:  Unhappy\n",
      "\n",
      "Review:  almost year purchas thisapril work date use first timether one drawback gave star mic good call play game work awesom call voic clear siderest assur best headphon price rang would tell go itread\n",
      "Target:   Happy\n",
      "Prediction:  Happy\n",
      "\n",
      "Review:  dissipoint comfort bad ear hard listen music hhhhh pain start also tight cushion good bakwass sound quit good bass nice trebl absentmid ok type build qualiti good special plastic use conread\n",
      "Target:   Happy\n",
      "Prediction:  Happy\n",
      "\n",
      "Review:  batteri backup awesom design good work well distanc connect easili easy use wellread\n",
      "Target:   Unhappy\n",
      "Prediction:  Happy\n",
      "\n",
      "Review:  popular boat good sound product heavi punchi bass nice use mani boat ear phone experi nice boat rockerz even better yes feel uncomfort fond ear headphon rather sound great bass awesom build good design stylish batteri backup also preeti goodif buy ear headphon time never use tread\n",
      "Target:   Unhappy\n",
      "Prediction:  Unhappy\n",
      "\n",
      "Review:  valu money say price tag good product sound qualiti good great bass decent howev realli comfort overal good product got sale good dealread\n",
      "Target:   Happy\n",
      "Prediction:  Happy\n",
      "\n",
      "Review:  good headphonebuilt qualiti goodbass super microphon goodalso littl uncomfort use overal good headphon respect pricei got wow deal big saver day flipkartread\n",
      "Target:   Unhappy\n",
      "Prediction:  Unhappy\n",
      "\n",
      "Review:  wonder companion phone music amaz batteri life last whole day depend use good bass sound qualiti also work call go best part come addit aux cabl alway keep connect case low juic feel littl tight begin time get acoustom ear easy carri foldabl mechan consid price point good productread\n",
      "Target:   Happy\n",
      "Prediction:  Happy\n",
      "\n",
      "Review:  good producti got price rs phone pay discount product awesomeloud bass clariti fit ear bluetooth rang smaller said descript ie good deliveri n packag good batteri backup also awesom charg sinc bought productjust check charg issu find great productgo itread\n",
      "Target:   Happy\n",
      "Prediction:  Happy\n",
      "\n",
      "Review:  valu moneynic bass look pretti good price segment realli bass punchi recommend buy mi phone connect aux sound enhancerveryy good productread\n",
      "Target:   Happy\n",
      "Prediction:  Happy\n",
      "\n",
      "Review:  bought rs big billion dayssupercomnetreceiv within hrs star flipkart superfast deliveryon discount product assum box wid brokens openbut surpris receiv brand new box complet seal good conditioni happi half time case star packag send brand new seal boxcom product product good pricebass ok bad eread\n",
      "Target:   Unhappy\n",
      "Prediction:  Happy\n",
      "\n",
      "Review:  bass amaz feel like listen long time pain ear start feel use afterward ear feel pain anyway awesom product clear voic phone call also clearread\n",
      "Target:   Happy\n",
      "Prediction:  Happy\n",
      "\n",
      "Review:  okay first thing good qualiti use week issu far sound qualiti awesom like theatr also batteri backup good use hrs straight connect issu problem fit tight hurt hear due prolong usag possibl give rate recommend guy go black one becoz cloth like textur hread\n",
      "Target:   Happy\n",
      "Prediction:  Happy\n",
      "\n",
      "Review:  awesom product sound loud super light weight fold almost insid one thing note cannot chang volum wire mode wireless mode chang volum otherwis amaz product got sale best price headphoneread\n",
      "Target:   Unhappy\n",
      "Prediction:  Unhappy\n",
      "\n",
      "Review:  nice product truatabl brand boat batteri qualiti phenomin bass decent audio also averag worth buy ho itread\n",
      "Target:   Unhappy\n",
      "Prediction:  Happy\n",
      "\n",
      "Review:  like ear headset buy boat rocker best headset love read\n",
      "Target:   Happy\n",
      "Prediction:  Happy\n",
      "\n",
      "Review:  nice satisfi product sound qualiti time superb support bass till listenread\n",
      "Target:   Unhappy\n",
      "Prediction:  Happy\n",
      "\n",
      "Review:  nice bluetooth headphon pleas perform day use prefer price sound qualiti best comparis headphonesread\n",
      "Target:   Happy\n",
      "Prediction:  Happy\n",
      "\n",
      "Review:  headset look good sound qualiti also good rangebut within next minut wear hurt earsin first use frustrat spend time use boat found perfect way wear itoveral good headphonejust learn perfect way adjust earsread\n",
      "Target:   Happy\n",
      "Prediction:  Happy\n",
      "\n",
      "Review:  bass heavi expect like premium headphon sound qualiti good excel good deal bucksread\n",
      "Target:   Happy\n",
      "Prediction:  Happy\n",
      "\n",
      "Review:  amaz product guy enjoy month sinc brought still sound qualiti remain superb great custom support deliv door step servicesread\n",
      "Target:   Happy\n",
      "Prediction:  Happy\n",
      "\n",
      "Review:  excel sound qualiti good work well must buyread\n",
      "Target:   Unhappy\n",
      "Prediction:  Happy\n",
      "\n",
      "Review:  day use write review first amaz product boat perform sound qualiti awesom bass kick ear build qualiti good wear ear think wil break easiley nop strong build qualiti assurepro bass extrem battrey backup superbuild qualiti cool consyou realis ear pain minut first time becom comfortablei reciev read\n",
      "Target:   Happy\n",
      "Prediction:  Happy\n",
      "\n",
      "Review:  base excel charg good love product lot thank youread\n",
      "Target:   Happy\n",
      "Prediction:  Happy\n",
      "\n",
      "Review:  receiv quick deliveri flipkart headphon light weight foldabl make easy carri sound qualiti decent bluetooth connect good neget aspect devic call qualiti terribl hear person microphon devic poor audibl end definit support handsfre call tri use cabl call improv much isread\n",
      "Target:   Unhappy\n",
      "Prediction:  Happy\n",
      "\n",
      "Review:  super duper hit bass sound qualiti best batteri backup best beauti color best money best productsread\n",
      "Target:   Unhappy\n",
      "Prediction:  Happy\n",
      "\n",
      "Review:  headphon much good also come fast flipkart packag headphon good enough box torn place deliveri boy say torn travel detect one star whether headphon goodread\n",
      "Target:   Happy\n",
      "Prediction:  Happy\n",
      "\n",
      "Review:  review week usageit one top qualiti product boat nice sound qualiti amaz bass although got issu regard connect keep asid awesom productread\n",
      "Target:   Happy\n",
      "Prediction:  Happy\n",
      "\n",
      "Review:  excel buy price great sound decent bass phone laptop equalis chang set listen great theatr like sound also light weight much pressur wear long read\n",
      "Target:   Happy\n",
      "Prediction:  Happy\n",
      "\n",
      "Review:  bluetooth headphon realli worth money superb bass best sound qualiti build extrem unbeliev think right realli realli awesom broread\n",
      "Target:   Unhappy\n",
      "Prediction:  Happy\n",
      "\n",
      "Review:  bluetooth connect sound bass good use aux cabl cabl bass sound low volum button work aux cableand good call day later ear got painingread\n",
      "Target:   Unhappy\n",
      "Prediction:  Happy\n",
      "\n",
      "Review:  excel sound qualiti deep bass good batteri backup thing like tight ear got big billion daysread\n",
      "Target:   Happy\n",
      "Prediction:  Happy\n",
      "\n",
      "Review:  product good batteri backup sound qualiti good suggest product goodread\n",
      "Target:   Happy\n",
      "Prediction:  Happy\n",
      "\n",
      "Review:  best sound qualiti perfect bass build qualiti good aux cabl defect led light good read\n",
      "Target:   Unhappy\n",
      "Prediction:  Unhappy\n",
      "\n",
      "Review:  sound qualiti good cannot wear minut sooo uncomfort ear start pain small size feel like somebodi press ear side great forc boat need improv designread\n",
      "Target:   Happy\n",
      "Prediction:  Happy\n",
      "\n",
      "Review:  good bass good sound use best playingread\n",
      "Target:   Happy\n",
      "Prediction:  Happy\n",
      "\n",
      "Review:  excel headset good build qualiti hour run time sound qualiti also good price pay thank flipkart give us type saleread\n",
      "Target:   Happy\n",
      "Prediction:  Happy\n",
      "\n",
      "Review:  worth money headphon peopl metal ear pain long use cushion soft arramg soft bluetooth rang expect much suitabl bluetooth callinga small dot sound audibl use low volum whenev notif come phone dot sound produc better use aux cableread\n",
      "Target:   Happy\n",
      "Prediction:  Happy\n",
      "\n",
      "Review:  superb sound nice everyth blockbust product thank much flipkart love allread\n",
      "Target:   Happy\n",
      "Prediction:  Happy\n",
      "\n",
      "Review:  clear hd audio without distract excel sound bass awesom theatr like experi high recommend product bought best rangeread\n",
      "Target:   Unhappy\n",
      "Prediction:  Unhappy\n",
      "\n",
      "Review:  great headphon one best great bass beat main con bit uncomfort soi recommend buy head big adultit nice smaall children teensread\n",
      "Target:   Unhappy\n",
      "Prediction:  Happy\n",
      "\n",
      "Review:  good product boat like design headphon sound qualiti good batteri backup also good use play pubg listen music love productread\n",
      "Target:   Unhappy\n",
      "Prediction:  Happy\n",
      "\n",
      "Review:  boat rockerz awesom product price rang compani cannot give much qualiti price good bass awesom sound clear recommend product anyon love musicread\n",
      "Target:   Happy\n",
      "Prediction:  Happy\n",
      "\n",
      "Review:  nice produt like design lot easy carri look stylishread\n",
      "Target:   Unhappy\n",
      "Prediction:  Happy\n",
      "\n",
      "Review:  excel product high qualiti sound clariti crisp high bassperfect rang wirelessbett jbl moto etcfit well n superb n soft cushionread\n",
      "Target:   Happy\n",
      "Prediction:  Unhappy\n",
      "\n",
      "Review:  light weight stylish good sound qualiti bass better good batteri back connect low otherwis great productread\n",
      "Target:   Unhappy\n",
      "Prediction:  Unhappy\n",
      "\n",
      "Review:  got big billioni use nd feel absolut satisfi product apart satisfi build qualiti would vote excel aspect jst go itread\n",
      "Target:   Unhappy\n",
      "Prediction:  Happy\n",
      "\n",
      "Review:  super duper hit bass sound qualiti best batteri backup best beauti color best money best productsread\n",
      "Target:   Happy\n",
      "Prediction:  Unhappy\n",
      "\n",
      "Review:  superb bass price rang suitabl laptop nice pubg voic also clearread\n",
      "Target:   Unhappy\n",
      "Prediction:  Unhappy\n",
      "\n",
      "Review:  around sound build qualiti good except bluetooth connectivityth connect poorit take much time connectand take headphon differ roomleav devic behind bluetooth connect go lostbut room connect work proper read\n",
      "Target:   Happy\n",
      "Prediction:  Happy\n",
      "\n",
      "Review:  one best product ever use realli want say must buy enjoy everyon beauti product ever use headphon compar product one thing want say love itread\n",
      "Target:   Unhappy\n",
      "Prediction:  Unhappy\n",
      "\n",
      "Review:  superb sound qualiti good design comfort good bettari life overal amaz product read\n",
      "Target:   Unhappy\n",
      "Prediction:  Happy\n",
      "\n",
      "Review:  initi think return flipkart approv felt keep itanywaypro sound good bit bass vocal clear alway depend music video file media playerex flac audio file poweramp player hd video dolbi atom batteri last charg full hrscon feel tight get use micthat monthsif anyth happen postread\n",
      "Target:   Unhappy\n",
      "Prediction:  Happy\n",
      "\n",
      "Review:  sound clariti bass averag love irrit thing comfort hold earpiec like hell recommend game even though hard gamer cannot use hard aux perfect fine issu bluetooth connect also irrit point use bt produc awkward sound pauseplaypauseplay video first thought isread\n",
      "Target:   Unhappy\n",
      "Prediction:  Unhappy\n",
      "\n",
      "Review:  best devic rang bass qualiti best simpli love devic got deliv dayslight weight white neon colour simpli wow perfect rest ear comfort wellgo thank boat read\n",
      "Target:   Happy\n",
      "Prediction:  Happy\n",
      "\n",
      "Review:  omg valu money product commit compani bass awesom build qualiti good budget buy headphon person recommend go nice productread\n",
      "Target:   Unhappy\n",
      "Prediction:  Happy\n",
      "\n",
      "Review:  awesom product boat great deliveri flipkart expect datebass sound clariti great use nokia bh boat rockerz leaf bass high end headphonesread\n",
      "Target:   Happy\n",
      "Prediction:  Happy\n",
      "\n",
      "Review:  best headphon regular use use till date point know buy strap get lossen pretti soon bluetooth good rang good problem big recommend product everi oneread\n",
      "Target:   Unhappy\n",
      "Prediction:  Happy\n",
      "\n",
      "Review:  sound relay rock compar headphon use hp lg soni batteri thank design awesom batteri backup hear song ful day batteri back day negat mic clear drive audibl also speak call sound louder head phonesif sb improv headphon relay wonder product worth doubt pleas go thisalso custom servic respons good rate iread\n",
      "Target:   Happy\n",
      "Prediction:  Happy\n",
      "\n",
      "Review:  overal nice product bass good voic accuraci littl inaccur play song batteri backup also good rang actual within rang use overal good product say best valu money deal special sale littl tight ear use day long except mention issu niceread\n",
      "Target:   Unhappy\n",
      "Prediction:  Unhappy\n",
      "\n",
      "Review:  reason choos one othersit work bluetooth aux cablewiredso bhagwan na kare agar bluetooth kharab ho jae toh still use aux cabl use wire one advantag big one other two one tight fit ear pain min mit get loosen time voic good connect work fine till bass good look good built wise short leke baat khatam karo aur kya chahiyeread\n",
      "Target:   Happy\n",
      "Prediction:  Happy\n",
      "\n",
      "Review:  built qualiti base colour excel foam materi hold ear made qualiti product one adjust soeaker various direct aux cabl charger cabl provid box use aux cabl enjoy music avail bluetooth option opt black red model amaz go may get within sale daysread\n",
      "Target:   Happy\n",
      "Prediction:  Happy\n",
      "\n",
      "Review:  writ review month use genuin sound good comfort use hour hurt lot tight ear claim hour playback gave around hour batteri life reach sudden die hope review help youif plan buy headphon compromis comfortread\n",
      "Target:   Unhappy\n",
      "Prediction:  Unhappy\n",
      "\n",
      "Review:  headphon good regular use cannot use hour cusion qualiti decent price rang awesom better zebron zeb thunder infin jbl driver bigread\n",
      "Target:   Happy\n",
      "Prediction:  Happy\n",
      "\n",
      "Review:  awesom bass top notch sounf qualiti great even loud speedth batteri backup also good read\n",
      "Target:   Unhappy\n",
      "Prediction:  Happy\n",
      "\n",
      "Review:  best bluetooth headset ever use word describ product love go love itread\n",
      "Target:   Happy\n",
      "Prediction:  Happy\n",
      "\n",
      "Review:  headphon awesom may feel inconveni headphon tight may uncomfort upto day come sound qualiti good bass awesom listen use wire bass high compar bluetooth slip head even runningfin good product give rate itread\n",
      "Target:   Unhappy\n",
      "Prediction:  Happy\n",
      "\n",
      "Review:  good design sound qualiti batteri backup pain free ear headphon consrang good enough hard feet also go behind half wall dropscannot connect multipl devic laptop phone like othersread\n",
      "Target:   Unhappy\n",
      "Prediction:  Unhappy\n",
      "\n",
      "Review:  right left distribut okayotherwis sound qualiti good clariti okaybass almost perfectread\n",
      "Target:   Unhappy\n",
      "Prediction:  Happy\n",
      "\n",
      "Review:  amaz sound super bassbatteri life excel aux cabl great qualiti excel trebl base everyth good except design ear pain use hour continu otherwis great buy got offer\n",
      "Target:   Happy\n",
      "Prediction:  Happy\n",
      "\n",
      "Review:  think headphon par beyond expect good way expect strong bass sound qualiti premium afford pricelov design give sporti look easy carri kudo boat manufactur team thank lot flipkart offer rs onlybass lover best buy afford priceread\n",
      "Target:   Happy\n",
      "Prediction:  Happy\n",
      "\n",
      "Review:  tight pain usag compat mobil phone good tri zenfon pro honor view mobil volum button work expect button alway chang song call clariti actual worst tri almost differ devic voic alway get disconnect good point see audio qualiti bass good listen songsread\n",
      "Target:   Unhappy\n",
      "Prediction:  Happy\n",
      "\n",
      "Review:  great product great pricesord lot search youtub last order itus day write review itreview best wireless ear headphon great brand valu find con sound qualiti bass everyth great compactbatteri pack awesom standbi usag use dayslook great stylish pain ear must buythank youread\n",
      "Target:   Happy\n",
      "Prediction:  Happy\n",
      "\n",
      "Review:  volum person besid also enjoy song lol bluetooth qualiti good put mobol pocket bag music becom glitchi anyway good price though better bluetooth qualiti sound concel qualiti suggest increac budget one fine priceread\n",
      "Target:   Unhappy\n",
      "Prediction:  Happy\n",
      "\n",
      "Review:  sound qualiti good bass superb batteri life good three month could start think buy suggest buy littl boat earbud boat neckband realli good compar last thank flipkart take reviewread\n",
      "Target:   Happy\n",
      "Prediction:  Happy\n",
      "\n",
      "Review:  good headphon afford pricebut poor bluetooth connect mean hard meter averag batteri life charg everi hour usageotherwis good headphon price rangereview written month regular usag reli thisalso deliveri servic flipkart awesom deliv product befor timeread\n",
      "Target:   Unhappy\n",
      "Prediction:  Unhappy\n",
      "\n",
      "Review:  batteri backup good time tight head bluetooth connect good speaker good bass good boat realli rock guy bought product dasar cost rs price reasaonbl r observev use month r chang wait batteri indic goodreal happi product deliveri goodread\n",
      "Target:   Unhappy\n",
      "Prediction:  Happy\n",
      "\n",
      "Review:  use headset quit comfort handyi jbl think build design boat better thank flipkartread\n",
      "Target:   Unhappy\n",
      "Prediction:  Happy\n",
      "\n",
      "Review:  awesom use headphon last month worth everi penni problem cannot wear long use otherwis best spend time listen love itread\n",
      "Target:   Happy\n",
      "Prediction:  Unhappy\n",
      "\n",
      "Review:  one best headphon coz featur qualiti superb design also cool super extra bass wireless function also given music playback time like guy go thinkread\n",
      "Target:   Happy\n",
      "Prediction:  Happy\n",
      "\n",
      "Review:  amaz produt price super sound qualiti bass also soooooo good produc use bluetooth wire supp productread\n",
      "Target:   Unhappy\n",
      "Prediction:  Unhappy\n",
      "\n",
      "Review:  best boom headset ever price rang great sound qualiti dual mode wire wireless us awesomeread\n",
      "Target:   Happy\n",
      "Prediction:  Happy\n",
      "\n",
      "Review:  everyth betrer sound qualiti awesom batteri backup good excel design love look love thank flipkart thank boatread\n",
      "Target:   Happy\n",
      "Prediction:  Happy\n",
      "\n",
      "Review:  write review day usageth sound qualiti rich impress along bass make feel music nois cancel also great batteri backup excel although found littl discomfort ear continu usag headset littl tight overal great headphon consid price rang great job done boat thank flipkartread\n",
      "Target:   Unhappy\n",
      "Prediction:  Happy\n",
      "\n",
      "Review:  made order decemb night got deliv home around pm made order flipkart pay later facil big shop day period dec price pack good mobil deliveri fast still next month jan pay due without extra interest servic fee charg fine late repay thank flipkart facil boat rocker superb even price rang read\n",
      "Target:   Happy\n",
      "Prediction:  Happy\n",
      "\n",
      "Review:  product realli good realli happi bcos want bajact wireless headphon everyth iss good look sometim feel simpl cup tea r look look go other also praform iss gud price got rs read\n",
      "Target:   Happy\n",
      "Prediction:  Happy\n",
      "\n",
      "Review:  nice design good product sound nice wire wireless aux connect dell laptopread\n",
      "Target:   Happy\n",
      "Prediction:  Happy\n",
      "\n",
      "Review:  excel bass great sound easy connect solid design littl bit uncomfort got good qualiti long aux charg cabk got must buy price also boat great serviceread\n",
      "Target:   Happy\n",
      "Prediction:  Happy\n",
      "\n",
      "Review:  light fit perfect tight head good bass audiophil thumb day deliveri form purchas day sound superb great bass coz notebluetooth work good batteri backup also good easili play movi music upto hour take hour chargethank flipkartread\n",
      "Target:   Happy\n",
      "Prediction:  Happy\n",
      "\n",
      "Review:  good product boat headphon good best also nice thank flipkartread\n",
      "Target:   Unhappy\n",
      "Prediction:  Happy\n",
      "\n",
      "Review:  sound qualiti good enough consid got might find tight ear usual one bigger head fine thoughdid feel deep bass rock nonethelessread\n",
      "Target:   Unhappy\n",
      "Prediction:  Unhappy\n",
      "\n",
      "Review:  first want talk sound qualiti sound qualiti best price segment bass realli punchi mid also good high volum sound crack bit otherwis realli nice come build qualiti build qualiti amaz cannot get better headphon sturdi light made good qualiti plastic thing like bit tight sometim becom uncomfortaread\n",
      "Target:   Unhappy\n",
      "Prediction:  Unhappy\n",
      "\n",
      "Review:  best one love product awesom best sound qualiti batteri backupread\n",
      "Target:   Happy\n",
      "Prediction:  Happy\n",
      "\n",
      "Review:  headphon better choic budget sound qualiti awesom batteri backup perfect approx hour build qualiti averag one word better choiceread\n",
      "Target:   Unhappy\n",
      "Prediction:  Happy\n",
      "\n",
      "Review:  best world bass product like much best thing colorread\n",
      "Target:   Unhappy\n",
      "Prediction:  Unhappy\n",
      "\n",
      "Review:  gift sister rakhiw happi see box qualiti got priceth sound qualiti goodi use headphon includ philip audiotechnica soni also soundmagicthi stand qualiti audiotechnica yeah bluetooth work perfectlyboataudiotechnica rangesoundmagicphilipssonyso buy yes budget stand near read\n",
      "Target:   Happy\n",
      "Prediction:  Happy\n",
      "\n",
      "Review:  good headphon play game like pubgyou easili get everi footstep thisbut sound delay bluetooth modebut aux cabl work perfect finesound bass batteri read\n",
      "Target:   Happy\n",
      "Prediction:  Happy\n",
      "\n",
      "Review:  good headphon comfort factor realli good advantag use wireless wire overal great valu moneyread\n",
      "Target:   Happy\n",
      "Prediction:  Happy\n",
      "\n",
      "Review:  nice headphon boat super sound qualiti nice nice product mfd boatread\n",
      "Target:   Unhappy\n",
      "Prediction:  Happy\n",
      "\n",
      "Review:  good product afford price smooth sound music bass moder feel good listenread\n",
      "Target:   Happy\n",
      "Prediction:  Happy\n",
      "\n",
      "Review:  product good vocal clariti good price rang goodread\n",
      "Target:   Unhappy\n",
      "Prediction:  Happy\n",
      "\n",
      "Review:  better product good sound qualiti two way useabl thank sellerread\n",
      "Target:   Unhappy\n",
      "Prediction:  Unhappy\n",
      "\n",
      "Review:  bought may june complet stop work charg work connect charger audio clear eithernot recommend buy product rang go earphon rather headphonesread\n",
      "Target:   Happy\n",
      "Prediction:  Happy\n",
      "\n",
      "Review:  beauti design comfort wear sound qualiti batteri back also good thank flipkart give nice product rangeread\n",
      "Target:   Happy\n",
      "Prediction:  Happy\n",
      "\n",
      "Review:  best headphon realli impress batteri backup continu listen medium volumesound qualiti extra bass also goodit cushion soft good comfortableread\n",
      "Target:   Happy\n",
      "Prediction:  Happy\n",
      "\n",
      "Review:  light weight easy carri anywher attract model awesom servic flipkart love itread\n",
      "Target:   Unhappy\n",
      "Prediction:  Unhappy\n",
      "\n",
      "Review:  go nice sound good clariti fastest connectionread\n",
      "Target:   Happy\n",
      "Prediction:  Happy\n",
      "\n",
      "Review:  cannt bought anyth cheap price well known brand worthi talk sound amaz batteri backup also good light weight carri hand call qualiti good enoughread\n",
      "Target:   Happy\n",
      "Prediction:  Happy\n",
      "\n",
      "Review:  stylish beauti best bass qualityit feel likeheaven listen funhappi purchasegrab rs mayb cheapest till nowbit tight bt mayb get use itbest wid window welllov itthanx flipkartread\n",
      "Target:   Unhappy\n",
      "Prediction:  Unhappy\n",
      "\n",
      "Review:  comfort look awesom sound good bass good accord point view good music lover batteri awesom happi product use first give feedback use monthread\n",
      "Target:   Happy\n",
      "Prediction:  Happy\n",
      "\n",
      "Review:  great look n light weight sound cool design ok ok ear couf cheaper qualiti minut feel pain ear n sweat sound qualiti excel n base awesom valu money price rang thank flipkart call featur also poorread\n",
      "Target:   Unhappy\n",
      "Prediction:  Happy\n",
      "\n",
      "Review:  headphon absolut garbag use month alreadi one side stop work disappointedread\n",
      "Target:   Happy\n",
      "Prediction:  Happy\n",
      "\n",
      "Review:  write review aftet use week super qualiti sound good come full volumebatteri backup also good get charg within hour last upto new user may feel pain initi day pain feel day usefold easy carrydo buy like extra bassand got rupe wait offer less luckthank flipkart super fast deliveryread\n",
      "Target:   Happy\n",
      "Prediction:  Happy\n",
      "\n",
      "Review:  bang buckreal great headset best headphon priceth build qualiti good sturdi light weight sound qualiti headphon serious good bass realli amaz think other go read\n",
      "Target:   Happy\n",
      "Prediction:  Happy\n",
      "\n",
      "Review:  awesom high recommend one use jbl soni one far better cannot find better wireless headphon bass sound clariti awesom amaz play wireread\n",
      "Target:   Unhappy\n",
      "Prediction:  Unhappy\n",
      "\n",
      "Review:  use yr satisfi product sound qualiti awsom loud lover bestread\n",
      "Target:   Happy\n",
      "Prediction:  Happy\n",
      "\n",
      "Review:  awesom bass sound qualiti good batteri long life purchas rs realli grate product forget likeread\n",
      "Target:   Happy\n",
      "Prediction:  Happy\n",
      "\n",
      "Review:  suburb amaz product love suggest buy boat headphon flipkart nice seller fast deliveri ekartread\n",
      "Target:   Happy\n",
      "Prediction:  Unhappy\n",
      "\n",
      "Review:  realli awesom wireless headphon compar price n realli worth money total love productread\n",
      "Target:   Unhappy\n",
      "Prediction:  Happy\n",
      "\n",
      "Review:  paid complet satisfi batteri backup whole anoth level great headphon great batteri backup oh bass superb love aux cableread\n",
      "Target:   Happy\n",
      "Prediction:  Happy\n",
      "\n",
      "Review:  nice productgood sound bass solid build best headphon star comfort batteri deliveri also pretti late daysread\n",
      "Target:   Happy\n",
      "Prediction:  Happy\n",
      "\n",
      "Review:  good minut hour usag ear cup small along small frame give high pressur ear ear headphon describ expect go uncomfort refund bass much miss instrument build qualiti ok simpl design ear cup fix steel rod hope lastsoud qualiti good superb altern ibal headsetread\n",
      "Target:   Happy\n",
      "Prediction:  Happy\n",
      "\n",
      "Review:  batteri backup ashvatthama deni die straightaway hour travel could end charg work pretti well control great easy respons true wireless freedom satisfi read\n",
      "Target:   Happy\n",
      "Prediction:  Happy\n",
      "\n",
      "Review:  excel sound qualiti superior bass back great batteri power feather light built qualiti mind blow purchas good music enthusiast wise choic purchas price rang total love read\n",
      "Target:   Unhappy\n",
      "Prediction:  Happy\n",
      "\n",
      "Review:  nice headset good bass batteri backup great seem problem mic pretti good job noic cancel greatread\n",
      "Target:   Unhappy\n",
      "Prediction:  Unhappy\n",
      "\n",
      "Review:  awesom soundveri pretti see nd sound qualiti good wish take product love product read\n",
      "Target:   Unhappy\n",
      "Prediction:  Unhappy\n",
      "\n",
      "Review:  issu bluetooth rang support upto fit call fit song get voic breakmic good callingus music n enjoy nice sound qualiti baseread\n",
      "Target:   Unhappy\n",
      "Prediction:  Unhappy\n",
      "\n",
      "Review:  first time give review friend believ good producteveryth fine good feel happi purchas itread\n",
      "Target:   Happy\n",
      "Prediction:  Happy\n",
      "\n",
      "Review:  buy colour cotton cushion look good prefer one leather air cushion sound qualiti price rang goodbass get much design recommend buy one leather cushion batteri notic cancel also gud recommend buy product sale get cheap priceplz guyz buy headphon play pubg bass heaphon disturb game cannot get crystal clear qualread\n",
      "Target:   Unhappy\n",
      "Prediction:  Unhappy\n",
      "\n",
      "Review:  got one defect product first time return order new one seller replac polici unabl hear sound one speaker first purchas new one arriv shock mind blow super bass crystal clear sound work without bluetooth connect aux cabl suppli also got charg cabl charg cabl mark cheap receiv parcel origin product boread\n",
      "Target:   Happy\n",
      "Prediction:  Happy\n",
      "\n",
      "Review:  nice product high bass qualiti headphon ear damag heat problem long use charg hr give long backup ie near hrspleas avoid charg good batteri backup nice good productif peopl want enjoy music word choos oneveri best productread\n",
      "Target:   Happy\n",
      "Prediction:  Happy\n",
      "\n",
      "Review:  materi nice design color batteri back also bass good bass boost song tight ear take everi min bass littl high priceread\n",
      "Target:   Happy\n",
      "Prediction:  Happy\n",
      "\n",
      "Review:  super sound awesom bass good dj song batteri back also good got aginst rs realli realli nice headphoneread\n",
      "Target:   Happy\n",
      "Prediction:  Happy\n",
      "\n",
      "Review:  awesom bass awesom sound comfort ear problem bluetooth connect weaken frequent get jump lyric sec listen song avoid got irrit occur coupl number time ohh batteri last long enough return product might manufactur defect order boat wireless let us see one goesread\n",
      "Target:   Happy\n",
      "Prediction:  Happy\n",
      "\n",
      "Review:  worth buy super power super base total budget friend handyread\n",
      "Target:   Happy\n",
      "Prediction:  Happy\n",
      "\n",
      "Review:  pros vocal great love bass decent batteri hour built qualiti good look premium also foldabl con connect problem appear use terrac put phone pocket mayb due bluetooth great purchas doubt best buy even purchas suggest buy offer sale purchas read\n",
      "Target:   Unhappy\n",
      "Prediction:  Unhappy\n",
      "\n",
      "Review:  sound qualiti good work good volum middl level becom notic max volum good buyread\n",
      "Target:   Unhappy\n",
      "Prediction:  Happy\n",
      "\n",
      "Review:  best world bass product like much best thing colorread\n",
      "Target:   Happy\n",
      "Prediction:  Happy\n",
      "\n",
      "Review:  thank much flipkart excel product budget ok thank much flipkart super bass sound qualiti excel tqread\n",
      "Target:   Happy\n",
      "Prediction:  Happy\n",
      "\n",
      "Review:  wonder full product happi way work sound qualiti continui use longer period ear hurt deliveri flipkart timeread\n",
      "Target:   Happy\n",
      "Prediction:  Happy\n",
      "\n",
      "Review:  gave four star hum sound play track paus music hardcor music lover abl detect thought product search saw peopl mention get wrong sound qualiti bad hum sound also loud okay batteri backup good connect rang averag like bl headset think green color give youread\n",
      "Target:   Happy\n",
      "Prediction:  Happy\n",
      "\n",
      "Review:  best product reason price valu money durabl well love thank flipkartread\n",
      "Target:   Happy\n",
      "Prediction:  Happy\n",
      "\n",
      "Review:  almost nice good productwith nice audio clearanc sound qualiti bass power batteri backupread\n",
      "Target:   Happy\n",
      "Prediction:  Happy\n",
      "\n",
      "Review:  boat rockerz product good littl bit disappoint hardwar made strong otherwis product awesome sound qualiti superbbluetooth rang also good bass superb feel song headphon love itread\n",
      "Target:   Unhappy\n",
      "Prediction:  Happy\n",
      "\n",
      "Review:  love headphon amaz super easy use would person recommend muchbut one problem work meet googl meet cath voic especi meet laptopread\n",
      "Target:   Unhappy\n",
      "Prediction:  Unhappy\n",
      "\n",
      "Review:  amaz sound excel charg pickup good model thank flipkart read\n",
      "Target:   Unhappy\n",
      "Prediction:  Unhappy\n",
      "\n"
     ]
    },
    {
     "data": {
      "text/plain": [
       "<zip at 0x18d39d30840>"
      ]
     },
     "execution_count": 229,
     "metadata": {},
     "output_type": "execute_result"
    }
   ],
   "source": [
    "zipped_data=zip(list(np.array(ID_train)), list(np.array(D_test)), list(predictions))\n",
    "for i, j, k in zipped_data:\n",
    "    print(\"Review: \", i)\n",
    "    print(\"Target:  \",j)\n",
    "    print(\"Prediction: \",k)\n",
    "    print()\n",
    "    \n",
    "zipped_data"
   ]
  }
 ],
 "metadata": {
  "kernelspec": {
   "display_name": "Python 3 (ipykernel)",
   "language": "python",
   "name": "python3"
  },
  "language_info": {
   "codemirror_mode": {
    "name": "ipython",
    "version": 3
   },
   "file_extension": ".py",
   "mimetype": "text/x-python",
   "name": "python",
   "nbconvert_exporter": "python",
   "pygments_lexer": "ipython3",
   "version": "3.9.12"
  }
 },
 "nbformat": 4,
 "nbformat_minor": 5
}
