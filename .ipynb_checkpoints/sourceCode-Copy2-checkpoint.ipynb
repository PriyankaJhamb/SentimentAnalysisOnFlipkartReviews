{
 "cells": [
  {
   "cell_type": "markdown",
   "id": "83b66e81",
   "metadata": {},
   "source": [
    "### Objective Of this Project:  To analyse the sentiments and categorised the product as positive, negative or neutral.\n",
    "\n",
    "#### Requirement:) Nowadays, the common people reviews matters a lot when a person wants to buy something.\n",
    "#### We can see from the example that Google shows those websites on top which have good comments on the websites posted by the people. So, it need to be identify, which review is negative and affecting the marketing of product."
   ]
  },
  {
   "cell_type": "code",
   "execution_count": 688,
   "id": "7b52dc48",
   "metadata": {},
   "outputs": [
    {
     "name": "stderr",
     "output_type": "stream",
     "text": [
      "[nltk_data] Downloading package stopwords to\n",
      "[nltk_data]     C:\\Users\\priya\\AppData\\Roaming\\nltk_data...\n",
      "[nltk_data]   Package stopwords is already up-to-date!\n"
     ]
    }
   ],
   "source": [
    "\n",
    "# importing required libraries\n",
    "\n",
    "import pandas as pd # for analysing the data\n",
    "import numpy as np # for mathematical collections on arrays\n",
    "import matplotlib.pyplot as plt # for plotting\n",
    "import seaborn as sns # for plotting\n",
    "import sklearn as skl # for machine learning algorithms\n",
    "\n",
    "import nltk # natural language toolkit\n",
    "# snowball represents a ball type in which all similar words like cared, caring etc and \n",
    "# stemmer means all words come under a common stem i.e care in this example.\n",
    "stemmer=nltk.SnowballStemmer(language=\"english\") \n",
    "\n",
    "nltk.download(\"stopwords\")\n",
    "from nltk.corpus import stopwords # corpus means single collection and corpora means multiple collection of data\n",
    "stopwords=set(stopwords.words(\"english\")) # make a set of particular english words \n",
    "\n",
    "import string # used for purpose of cleaning\n",
    "\n",
    "import re # for regular expression\n",
    "\n",
    "from wordcloud import WordCloud, STOPWORDS, ImageColorGenerator\n",
    "\n",
    "from nltk.sentiment.vader import SentimentIntensityAnalyzer\n",
    "\n",
    "import tensorflow as tf\n",
    "from tensorflow.keras.preprocessing.text import Tokenizer\n",
    "from tensorflow.keras.preprocessing import sequence\n",
    "\n",
    "import pickle"
   ]
  },
  {
   "cell_type": "markdown",
   "id": "26269c57",
   "metadata": {},
   "source": [
    "###  Get the Data"
   ]
  },
  {
   "cell_type": "code",
   "execution_count": 689,
   "id": "8eac1389",
   "metadata": {},
   "outputs": [
    {
     "data": {
      "text/html": [
       "<div>\n",
       "<style scoped>\n",
       "    .dataframe tbody tr th:only-of-type {\n",
       "        vertical-align: middle;\n",
       "    }\n",
       "\n",
       "    .dataframe tbody tr th {\n",
       "        vertical-align: top;\n",
       "    }\n",
       "\n",
       "    .dataframe thead th {\n",
       "        text-align: right;\n",
       "    }\n",
       "</style>\n",
       "<table border=\"1\" class=\"dataframe\">\n",
       "  <thead>\n",
       "    <tr style=\"text-align: right;\">\n",
       "      <th></th>\n",
       "      <th>review</th>\n",
       "      <th>rating</th>\n",
       "    </tr>\n",
       "  </thead>\n",
       "  <tbody>\n",
       "    <tr>\n",
       "      <th>0</th>\n",
       "      <td>It was nice produt. I like it's design a lot. ...</td>\n",
       "      <td>5</td>\n",
       "    </tr>\n",
       "    <tr>\n",
       "      <th>1</th>\n",
       "      <td>awesome sound....very pretty to see this nd th...</td>\n",
       "      <td>5</td>\n",
       "    </tr>\n",
       "    <tr>\n",
       "      <th>2</th>\n",
       "      <td>awesome sound quality. pros 7-8 hrs of battery...</td>\n",
       "      <td>4</td>\n",
       "    </tr>\n",
       "    <tr>\n",
       "      <th>3</th>\n",
       "      <td>I think it is such a good product not only as ...</td>\n",
       "      <td>5</td>\n",
       "    </tr>\n",
       "    <tr>\n",
       "      <th>4</th>\n",
       "      <td>Awsome sound powerful bass battery backup is a...</td>\n",
       "      <td>5</td>\n",
       "    </tr>\n",
       "    <tr>\n",
       "      <th>...</th>\n",
       "      <td>...</td>\n",
       "      <td>...</td>\n",
       "    </tr>\n",
       "    <tr>\n",
       "      <th>484</th>\n",
       "      <td>The right and left distribution is not okay......</td>\n",
       "      <td>4</td>\n",
       "    </tr>\n",
       "    <tr>\n",
       "      <th>485</th>\n",
       "      <td>nice Bluetooth headphone, I am pleased with it...</td>\n",
       "      <td>5</td>\n",
       "    </tr>\n",
       "    <tr>\n",
       "      <th>486</th>\n",
       "      <td>excellent sound quality with deep bass. good b...</td>\n",
       "      <td>5</td>\n",
       "    </tr>\n",
       "    <tr>\n",
       "      <th>487</th>\n",
       "      <td>this is a very good product boat headphone goo...</td>\n",
       "      <td>5</td>\n",
       "    </tr>\n",
       "    <tr>\n",
       "      <th>488</th>\n",
       "      <td>This headphone is very stylish but if you look...</td>\n",
       "      <td>4</td>\n",
       "    </tr>\n",
       "  </tbody>\n",
       "</table>\n",
       "<p>489 rows × 2 columns</p>\n",
       "</div>"
      ],
      "text/plain": [
       "                                                review  rating\n",
       "0    It was nice produt. I like it's design a lot. ...       5\n",
       "1    awesome sound....very pretty to see this nd th...       5\n",
       "2    awesome sound quality. pros 7-8 hrs of battery...       4\n",
       "3    I think it is such a good product not only as ...       5\n",
       "4    Awsome sound powerful bass battery backup is a...       5\n",
       "..                                                 ...     ...\n",
       "484  The right and left distribution is not okay......       4\n",
       "485  nice Bluetooth headphone, I am pleased with it...       5\n",
       "486  excellent sound quality with deep bass. good b...       5\n",
       "487  this is a very good product boat headphone goo...       5\n",
       "488  This headphone is very stylish but if you look...       4\n",
       "\n",
       "[489 rows x 2 columns]"
      ]
     },
     "execution_count": 689,
     "metadata": {},
     "output_type": "execute_result"
    }
   ],
   "source": [
    "# Reading the CSV file\n",
    "\n",
    "data=pd.read_csv(\"flipkart_data.csv\")\n",
    "data"
   ]
  },
  {
   "cell_type": "markdown",
   "id": "c516d664",
   "metadata": {},
   "source": [
    "### Explore and visualize the data to gain insights"
   ]
  },
  {
   "cell_type": "code",
   "execution_count": 690,
   "id": "e989e07b",
   "metadata": {},
   "outputs": [],
   "source": [
    "data.insert(0, \"id\",np.arange(1, len(data) + 1))"
   ]
  },
  {
   "cell_type": "code",
   "execution_count": 691,
   "id": "019cc849",
   "metadata": {},
   "outputs": [
    {
     "data": {
      "text/html": [
       "<div>\n",
       "<style scoped>\n",
       "    .dataframe tbody tr th:only-of-type {\n",
       "        vertical-align: middle;\n",
       "    }\n",
       "\n",
       "    .dataframe tbody tr th {\n",
       "        vertical-align: top;\n",
       "    }\n",
       "\n",
       "    .dataframe thead th {\n",
       "        text-align: right;\n",
       "    }\n",
       "</style>\n",
       "<table border=\"1\" class=\"dataframe\">\n",
       "  <thead>\n",
       "    <tr style=\"text-align: right;\">\n",
       "      <th></th>\n",
       "      <th>id</th>\n",
       "      <th>review</th>\n",
       "      <th>rating</th>\n",
       "    </tr>\n",
       "  </thead>\n",
       "  <tbody>\n",
       "    <tr>\n",
       "      <th>0</th>\n",
       "      <td>1</td>\n",
       "      <td>It was nice produt. I like it's design a lot. ...</td>\n",
       "      <td>5</td>\n",
       "    </tr>\n",
       "    <tr>\n",
       "      <th>1</th>\n",
       "      <td>2</td>\n",
       "      <td>awesome sound....very pretty to see this nd th...</td>\n",
       "      <td>5</td>\n",
       "    </tr>\n",
       "    <tr>\n",
       "      <th>2</th>\n",
       "      <td>3</td>\n",
       "      <td>awesome sound quality. pros 7-8 hrs of battery...</td>\n",
       "      <td>4</td>\n",
       "    </tr>\n",
       "    <tr>\n",
       "      <th>3</th>\n",
       "      <td>4</td>\n",
       "      <td>I think it is such a good product not only as ...</td>\n",
       "      <td>5</td>\n",
       "    </tr>\n",
       "    <tr>\n",
       "      <th>4</th>\n",
       "      <td>5</td>\n",
       "      <td>Awsome sound powerful bass battery backup is a...</td>\n",
       "      <td>5</td>\n",
       "    </tr>\n",
       "  </tbody>\n",
       "</table>\n",
       "</div>"
      ],
      "text/plain": [
       "   id                                             review  rating\n",
       "0   1  It was nice produt. I like it's design a lot. ...       5\n",
       "1   2  awesome sound....very pretty to see this nd th...       5\n",
       "2   3  awesome sound quality. pros 7-8 hrs of battery...       4\n",
       "3   4  I think it is such a good product not only as ...       5\n",
       "4   5  Awsome sound powerful bass battery backup is a...       5"
      ]
     },
     "execution_count": 691,
     "metadata": {},
     "output_type": "execute_result"
    }
   ],
   "source": [
    "# Showing first 5 rows\n",
    "data.head()"
   ]
  },
  {
   "cell_type": "code",
   "execution_count": 692,
   "id": "3e4e3e22",
   "metadata": {},
   "outputs": [
    {
     "name": "stdout",
     "output_type": "stream",
     "text": [
      "<class 'pandas.core.frame.DataFrame'>\n",
      "RangeIndex: 489 entries, 0 to 488\n",
      "Data columns (total 3 columns):\n",
      " #   Column  Non-Null Count  Dtype \n",
      "---  ------  --------------  ----- \n",
      " 0   id      489 non-null    int32 \n",
      " 1   review  489 non-null    object\n",
      " 2   rating  489 non-null    int64 \n",
      "dtypes: int32(1), int64(1), object(1)\n",
      "memory usage: 9.7+ KB\n"
     ]
    }
   ],
   "source": [
    "# get information about the data\n",
    "\n",
    "data.info()"
   ]
  },
  {
   "cell_type": "markdown",
   "id": "73c8677f",
   "metadata": {},
   "source": [
    "#### Infer:  The table has 489 entries and all 489 are non-null for both columns."
   ]
  },
  {
   "cell_type": "code",
   "execution_count": 693,
   "id": "b1bccf5e",
   "metadata": {},
   "outputs": [
    {
     "data": {
      "text/plain": [
       "id        0\n",
       "review    0\n",
       "rating    0\n",
       "dtype: int64"
      ]
     },
     "execution_count": 693,
     "metadata": {},
     "output_type": "execute_result"
    }
   ],
   "source": [
    "# Is there any null values present in the data? IF yes, the sum is:)\n",
    "data.isnull().sum()"
   ]
  },
  {
   "cell_type": "code",
   "execution_count": 694,
   "id": "b67762a7",
   "metadata": {},
   "outputs": [
    {
     "data": {
      "text/html": [
       "<div>\n",
       "<style scoped>\n",
       "    .dataframe tbody tr th:only-of-type {\n",
       "        vertical-align: middle;\n",
       "    }\n",
       "\n",
       "    .dataframe tbody tr th {\n",
       "        vertical-align: top;\n",
       "    }\n",
       "\n",
       "    .dataframe thead th {\n",
       "        text-align: right;\n",
       "    }\n",
       "</style>\n",
       "<table border=\"1\" class=\"dataframe\">\n",
       "  <thead>\n",
       "    <tr style=\"text-align: right;\">\n",
       "      <th></th>\n",
       "      <th>id</th>\n",
       "      <th>rating</th>\n",
       "    </tr>\n",
       "  </thead>\n",
       "  <tbody>\n",
       "    <tr>\n",
       "      <th>count</th>\n",
       "      <td>489.000000</td>\n",
       "      <td>489.000000</td>\n",
       "    </tr>\n",
       "    <tr>\n",
       "      <th>mean</th>\n",
       "      <td>245.000000</td>\n",
       "      <td>4.370143</td>\n",
       "    </tr>\n",
       "    <tr>\n",
       "      <th>std</th>\n",
       "      <td>141.306405</td>\n",
       "      <td>0.921070</td>\n",
       "    </tr>\n",
       "    <tr>\n",
       "      <th>min</th>\n",
       "      <td>1.000000</td>\n",
       "      <td>1.000000</td>\n",
       "    </tr>\n",
       "    <tr>\n",
       "      <th>25%</th>\n",
       "      <td>123.000000</td>\n",
       "      <td>4.000000</td>\n",
       "    </tr>\n",
       "    <tr>\n",
       "      <th>50%</th>\n",
       "      <td>245.000000</td>\n",
       "      <td>5.000000</td>\n",
       "    </tr>\n",
       "    <tr>\n",
       "      <th>75%</th>\n",
       "      <td>367.000000</td>\n",
       "      <td>5.000000</td>\n",
       "    </tr>\n",
       "    <tr>\n",
       "      <th>max</th>\n",
       "      <td>489.000000</td>\n",
       "      <td>5.000000</td>\n",
       "    </tr>\n",
       "  </tbody>\n",
       "</table>\n",
       "</div>"
      ],
      "text/plain": [
       "               id      rating\n",
       "count  489.000000  489.000000\n",
       "mean   245.000000    4.370143\n",
       "std    141.306405    0.921070\n",
       "min      1.000000    1.000000\n",
       "25%    123.000000    4.000000\n",
       "50%    245.000000    5.000000\n",
       "75%    367.000000    5.000000\n",
       "max    489.000000    5.000000"
      ]
     },
     "execution_count": 694,
     "metadata": {},
     "output_type": "execute_result"
    }
   ],
   "source": [
    "data.describe()"
   ]
  },
  {
   "cell_type": "markdown",
   "id": "14b45c3e",
   "metadata": {},
   "source": [
    "#### Infer: Average rating is approximately 4.37 and the product is not so bad."
   ]
  },
  {
   "cell_type": "code",
   "execution_count": 695,
   "id": "640ae0b3",
   "metadata": {},
   "outputs": [],
   "source": [
    "def clean(text):\n",
    "    text=str(text).lower()\n",
    "    text=re.sub(\"https://\\S+ | www\\.\\S+\", \"\", text)                # removing website starting protocols links  \n",
    "    text=re.sub(\"<.*?>\", \"\", text)                                 # removing html tags\n",
    "    text=re.sub('\\n', \"\", text)                                    # removing new lines\n",
    "    text=re.sub(\"\\w*\\d\\w*\", \"\", text)\n",
    "    text=text.translate(str.maketrans('','',string.punctuation))  # 1st parameter represents what need to be replaced, 2nd parameter represents what need to be placed instead of replaced word, and 3rd parameter represents what need to be deleted\n",
    "    text=[stemmer.stem(word) for word in text.split(\" \") if word not in stopwords]\n",
    "    text=\" \".join(text)\n",
    "    return text\n",
    "    "
   ]
  },
  {
   "cell_type": "code",
   "execution_count": 696,
   "id": "064bb988",
   "metadata": {},
   "outputs": [
    {
     "data": {
      "text/html": [
       "<div>\n",
       "<style scoped>\n",
       "    .dataframe tbody tr th:only-of-type {\n",
       "        vertical-align: middle;\n",
       "    }\n",
       "\n",
       "    .dataframe tbody tr th {\n",
       "        vertical-align: top;\n",
       "    }\n",
       "\n",
       "    .dataframe thead th {\n",
       "        text-align: right;\n",
       "    }\n",
       "</style>\n",
       "<table border=\"1\" class=\"dataframe\">\n",
       "  <thead>\n",
       "    <tr style=\"text-align: right;\">\n",
       "      <th></th>\n",
       "      <th>id</th>\n",
       "      <th>review</th>\n",
       "      <th>rating</th>\n",
       "    </tr>\n",
       "  </thead>\n",
       "  <tbody>\n",
       "    <tr>\n",
       "      <th>0</th>\n",
       "      <td>1</td>\n",
       "      <td>nice produt like design lot  easi carri   look...</td>\n",
       "      <td>5</td>\n",
       "    </tr>\n",
       "    <tr>\n",
       "      <th>1</th>\n",
       "      <td>2</td>\n",
       "      <td>awesom soundveri pretti see nd sound qualiti g...</td>\n",
       "      <td>5</td>\n",
       "    </tr>\n",
       "    <tr>\n",
       "      <th>2</th>\n",
       "      <td>3</td>\n",
       "      <td>awesom sound qualiti pros  hrs batteri life in...</td>\n",
       "      <td>4</td>\n",
       "    </tr>\n",
       "    <tr>\n",
       "      <th>3</th>\n",
       "      <td>4</td>\n",
       "      <td>think good product per qualiti also design qui...</td>\n",
       "      <td>5</td>\n",
       "    </tr>\n",
       "    <tr>\n",
       "      <th>4</th>\n",
       "      <td>5</td>\n",
       "      <td>awsom sound power bass batteri backup also exc...</td>\n",
       "      <td>5</td>\n",
       "    </tr>\n",
       "    <tr>\n",
       "      <th>...</th>\n",
       "      <td>...</td>\n",
       "      <td>...</td>\n",
       "      <td>...</td>\n",
       "    </tr>\n",
       "    <tr>\n",
       "      <th>484</th>\n",
       "      <td>485</td>\n",
       "      <td>right left distribut okayotherwis sound qualit...</td>\n",
       "      <td>4</td>\n",
       "    </tr>\n",
       "    <tr>\n",
       "      <th>485</th>\n",
       "      <td>486</td>\n",
       "      <td>nice bluetooth headphon pleas perform  day use...</td>\n",
       "      <td>5</td>\n",
       "    </tr>\n",
       "    <tr>\n",
       "      <th>486</th>\n",
       "      <td>487</td>\n",
       "      <td>excel sound qualiti deep bass good batteri bac...</td>\n",
       "      <td>5</td>\n",
       "    </tr>\n",
       "    <tr>\n",
       "      <th>487</th>\n",
       "      <td>488</td>\n",
       "      <td>good product boat headphon good best also nice...</td>\n",
       "      <td>5</td>\n",
       "    </tr>\n",
       "    <tr>\n",
       "      <th>488</th>\n",
       "      <td>489</td>\n",
       "      <td>headphon stylish look bass dj dispoint batteri...</td>\n",
       "      <td>4</td>\n",
       "    </tr>\n",
       "  </tbody>\n",
       "</table>\n",
       "<p>489 rows × 3 columns</p>\n",
       "</div>"
      ],
      "text/plain": [
       "      id                                             review  rating\n",
       "0      1  nice produt like design lot  easi carri   look...       5\n",
       "1      2  awesom soundveri pretti see nd sound qualiti g...       5\n",
       "2      3  awesom sound qualiti pros  hrs batteri life in...       4\n",
       "3      4  think good product per qualiti also design qui...       5\n",
       "4      5  awsom sound power bass batteri backup also exc...       5\n",
       "..   ...                                                ...     ...\n",
       "484  485  right left distribut okayotherwis sound qualit...       4\n",
       "485  486  nice bluetooth headphon pleas perform  day use...       5\n",
       "486  487  excel sound qualiti deep bass good batteri bac...       5\n",
       "487  488  good product boat headphon good best also nice...       5\n",
       "488  489  headphon stylish look bass dj dispoint batteri...       4\n",
       "\n",
       "[489 rows x 3 columns]"
      ]
     },
     "execution_count": 696,
     "metadata": {},
     "output_type": "execute_result"
    }
   ],
   "source": [
    "# Cleaning the data using regular expression\n",
    "data['review']=data['review'].apply(clean)\n",
    "data"
   ]
  },
  {
   "cell_type": "code",
   "execution_count": 697,
   "id": "b657a0de",
   "metadata": {},
   "outputs": [
    {
     "data": {
      "text/plain": [
       "5    280\n",
       "4    146\n",
       "3     42\n",
       "1     15\n",
       "2      6\n",
       "Name: rating, dtype: int64"
      ]
     },
     "execution_count": 697,
     "metadata": {},
     "output_type": "execute_result"
    }
   ],
   "source": [
    "ratings=data['rating'].value_counts()\n",
    "ratings"
   ]
  },
  {
   "cell_type": "code",
   "execution_count": 698,
   "id": "80261604",
   "metadata": {},
   "outputs": [
    {
     "data": {
      "application/vnd.plotly.v1+json": {
       "config": {
        "plotlyServerURL": "https://plot.ly"
       },
       "data": [
        {
         "domain": {
          "x": [
           0,
           1
          ],
          "y": [
           0,
           1
          ]
         },
         "hovertemplate": "label=%{label}<br>value=%{value}<extra></extra>",
         "labels": [
          5,
          4,
          3,
          1,
          2
         ],
         "legendgroup": "",
         "name": "",
         "showlegend": true,
         "type": "pie",
         "values": [
          280,
          146,
          42,
          15,
          6
         ]
        }
       ],
       "layout": {
        "legend": {
         "tracegroupgap": 0
        },
        "margin": {
         "t": 60
        },
        "template": {
         "data": {
          "bar": [
           {
            "error_x": {
             "color": "#2a3f5f"
            },
            "error_y": {
             "color": "#2a3f5f"
            },
            "marker": {
             "line": {
              "color": "#E5ECF6",
              "width": 0.5
             },
             "pattern": {
              "fillmode": "overlay",
              "size": 10,
              "solidity": 0.2
             }
            },
            "type": "bar"
           }
          ],
          "barpolar": [
           {
            "marker": {
             "line": {
              "color": "#E5ECF6",
              "width": 0.5
             },
             "pattern": {
              "fillmode": "overlay",
              "size": 10,
              "solidity": 0.2
             }
            },
            "type": "barpolar"
           }
          ],
          "carpet": [
           {
            "aaxis": {
             "endlinecolor": "#2a3f5f",
             "gridcolor": "white",
             "linecolor": "white",
             "minorgridcolor": "white",
             "startlinecolor": "#2a3f5f"
            },
            "baxis": {
             "endlinecolor": "#2a3f5f",
             "gridcolor": "white",
             "linecolor": "white",
             "minorgridcolor": "white",
             "startlinecolor": "#2a3f5f"
            },
            "type": "carpet"
           }
          ],
          "choropleth": [
           {
            "colorbar": {
             "outlinewidth": 0,
             "ticks": ""
            },
            "type": "choropleth"
           }
          ],
          "contour": [
           {
            "colorbar": {
             "outlinewidth": 0,
             "ticks": ""
            },
            "colorscale": [
             [
              0,
              "#0d0887"
             ],
             [
              0.1111111111111111,
              "#46039f"
             ],
             [
              0.2222222222222222,
              "#7201a8"
             ],
             [
              0.3333333333333333,
              "#9c179e"
             ],
             [
              0.4444444444444444,
              "#bd3786"
             ],
             [
              0.5555555555555556,
              "#d8576b"
             ],
             [
              0.6666666666666666,
              "#ed7953"
             ],
             [
              0.7777777777777778,
              "#fb9f3a"
             ],
             [
              0.8888888888888888,
              "#fdca26"
             ],
             [
              1,
              "#f0f921"
             ]
            ],
            "type": "contour"
           }
          ],
          "contourcarpet": [
           {
            "colorbar": {
             "outlinewidth": 0,
             "ticks": ""
            },
            "type": "contourcarpet"
           }
          ],
          "heatmap": [
           {
            "colorbar": {
             "outlinewidth": 0,
             "ticks": ""
            },
            "colorscale": [
             [
              0,
              "#0d0887"
             ],
             [
              0.1111111111111111,
              "#46039f"
             ],
             [
              0.2222222222222222,
              "#7201a8"
             ],
             [
              0.3333333333333333,
              "#9c179e"
             ],
             [
              0.4444444444444444,
              "#bd3786"
             ],
             [
              0.5555555555555556,
              "#d8576b"
             ],
             [
              0.6666666666666666,
              "#ed7953"
             ],
             [
              0.7777777777777778,
              "#fb9f3a"
             ],
             [
              0.8888888888888888,
              "#fdca26"
             ],
             [
              1,
              "#f0f921"
             ]
            ],
            "type": "heatmap"
           }
          ],
          "heatmapgl": [
           {
            "colorbar": {
             "outlinewidth": 0,
             "ticks": ""
            },
            "colorscale": [
             [
              0,
              "#0d0887"
             ],
             [
              0.1111111111111111,
              "#46039f"
             ],
             [
              0.2222222222222222,
              "#7201a8"
             ],
             [
              0.3333333333333333,
              "#9c179e"
             ],
             [
              0.4444444444444444,
              "#bd3786"
             ],
             [
              0.5555555555555556,
              "#d8576b"
             ],
             [
              0.6666666666666666,
              "#ed7953"
             ],
             [
              0.7777777777777778,
              "#fb9f3a"
             ],
             [
              0.8888888888888888,
              "#fdca26"
             ],
             [
              1,
              "#f0f921"
             ]
            ],
            "type": "heatmapgl"
           }
          ],
          "histogram": [
           {
            "marker": {
             "pattern": {
              "fillmode": "overlay",
              "size": 10,
              "solidity": 0.2
             }
            },
            "type": "histogram"
           }
          ],
          "histogram2d": [
           {
            "colorbar": {
             "outlinewidth": 0,
             "ticks": ""
            },
            "colorscale": [
             [
              0,
              "#0d0887"
             ],
             [
              0.1111111111111111,
              "#46039f"
             ],
             [
              0.2222222222222222,
              "#7201a8"
             ],
             [
              0.3333333333333333,
              "#9c179e"
             ],
             [
              0.4444444444444444,
              "#bd3786"
             ],
             [
              0.5555555555555556,
              "#d8576b"
             ],
             [
              0.6666666666666666,
              "#ed7953"
             ],
             [
              0.7777777777777778,
              "#fb9f3a"
             ],
             [
              0.8888888888888888,
              "#fdca26"
             ],
             [
              1,
              "#f0f921"
             ]
            ],
            "type": "histogram2d"
           }
          ],
          "histogram2dcontour": [
           {
            "colorbar": {
             "outlinewidth": 0,
             "ticks": ""
            },
            "colorscale": [
             [
              0,
              "#0d0887"
             ],
             [
              0.1111111111111111,
              "#46039f"
             ],
             [
              0.2222222222222222,
              "#7201a8"
             ],
             [
              0.3333333333333333,
              "#9c179e"
             ],
             [
              0.4444444444444444,
              "#bd3786"
             ],
             [
              0.5555555555555556,
              "#d8576b"
             ],
             [
              0.6666666666666666,
              "#ed7953"
             ],
             [
              0.7777777777777778,
              "#fb9f3a"
             ],
             [
              0.8888888888888888,
              "#fdca26"
             ],
             [
              1,
              "#f0f921"
             ]
            ],
            "type": "histogram2dcontour"
           }
          ],
          "mesh3d": [
           {
            "colorbar": {
             "outlinewidth": 0,
             "ticks": ""
            },
            "type": "mesh3d"
           }
          ],
          "parcoords": [
           {
            "line": {
             "colorbar": {
              "outlinewidth": 0,
              "ticks": ""
             }
            },
            "type": "parcoords"
           }
          ],
          "pie": [
           {
            "automargin": true,
            "type": "pie"
           }
          ],
          "scatter": [
           {
            "marker": {
             "colorbar": {
              "outlinewidth": 0,
              "ticks": ""
             }
            },
            "type": "scatter"
           }
          ],
          "scatter3d": [
           {
            "line": {
             "colorbar": {
              "outlinewidth": 0,
              "ticks": ""
             }
            },
            "marker": {
             "colorbar": {
              "outlinewidth": 0,
              "ticks": ""
             }
            },
            "type": "scatter3d"
           }
          ],
          "scattercarpet": [
           {
            "marker": {
             "colorbar": {
              "outlinewidth": 0,
              "ticks": ""
             }
            },
            "type": "scattercarpet"
           }
          ],
          "scattergeo": [
           {
            "marker": {
             "colorbar": {
              "outlinewidth": 0,
              "ticks": ""
             }
            },
            "type": "scattergeo"
           }
          ],
          "scattergl": [
           {
            "marker": {
             "colorbar": {
              "outlinewidth": 0,
              "ticks": ""
             }
            },
            "type": "scattergl"
           }
          ],
          "scattermapbox": [
           {
            "marker": {
             "colorbar": {
              "outlinewidth": 0,
              "ticks": ""
             }
            },
            "type": "scattermapbox"
           }
          ],
          "scatterpolar": [
           {
            "marker": {
             "colorbar": {
              "outlinewidth": 0,
              "ticks": ""
             }
            },
            "type": "scatterpolar"
           }
          ],
          "scatterpolargl": [
           {
            "marker": {
             "colorbar": {
              "outlinewidth": 0,
              "ticks": ""
             }
            },
            "type": "scatterpolargl"
           }
          ],
          "scatterternary": [
           {
            "marker": {
             "colorbar": {
              "outlinewidth": 0,
              "ticks": ""
             }
            },
            "type": "scatterternary"
           }
          ],
          "surface": [
           {
            "colorbar": {
             "outlinewidth": 0,
             "ticks": ""
            },
            "colorscale": [
             [
              0,
              "#0d0887"
             ],
             [
              0.1111111111111111,
              "#46039f"
             ],
             [
              0.2222222222222222,
              "#7201a8"
             ],
             [
              0.3333333333333333,
              "#9c179e"
             ],
             [
              0.4444444444444444,
              "#bd3786"
             ],
             [
              0.5555555555555556,
              "#d8576b"
             ],
             [
              0.6666666666666666,
              "#ed7953"
             ],
             [
              0.7777777777777778,
              "#fb9f3a"
             ],
             [
              0.8888888888888888,
              "#fdca26"
             ],
             [
              1,
              "#f0f921"
             ]
            ],
            "type": "surface"
           }
          ],
          "table": [
           {
            "cells": {
             "fill": {
              "color": "#EBF0F8"
             },
             "line": {
              "color": "white"
             }
            },
            "header": {
             "fill": {
              "color": "#C8D4E3"
             },
             "line": {
              "color": "white"
             }
            },
            "type": "table"
           }
          ]
         },
         "layout": {
          "annotationdefaults": {
           "arrowcolor": "#2a3f5f",
           "arrowhead": 0,
           "arrowwidth": 1
          },
          "autotypenumbers": "strict",
          "coloraxis": {
           "colorbar": {
            "outlinewidth": 0,
            "ticks": ""
           }
          },
          "colorscale": {
           "diverging": [
            [
             0,
             "#8e0152"
            ],
            [
             0.1,
             "#c51b7d"
            ],
            [
             0.2,
             "#de77ae"
            ],
            [
             0.3,
             "#f1b6da"
            ],
            [
             0.4,
             "#fde0ef"
            ],
            [
             0.5,
             "#f7f7f7"
            ],
            [
             0.6,
             "#e6f5d0"
            ],
            [
             0.7,
             "#b8e186"
            ],
            [
             0.8,
             "#7fbc41"
            ],
            [
             0.9,
             "#4d9221"
            ],
            [
             1,
             "#276419"
            ]
           ],
           "sequential": [
            [
             0,
             "#0d0887"
            ],
            [
             0.1111111111111111,
             "#46039f"
            ],
            [
             0.2222222222222222,
             "#7201a8"
            ],
            [
             0.3333333333333333,
             "#9c179e"
            ],
            [
             0.4444444444444444,
             "#bd3786"
            ],
            [
             0.5555555555555556,
             "#d8576b"
            ],
            [
             0.6666666666666666,
             "#ed7953"
            ],
            [
             0.7777777777777778,
             "#fb9f3a"
            ],
            [
             0.8888888888888888,
             "#fdca26"
            ],
            [
             1,
             "#f0f921"
            ]
           ],
           "sequentialminus": [
            [
             0,
             "#0d0887"
            ],
            [
             0.1111111111111111,
             "#46039f"
            ],
            [
             0.2222222222222222,
             "#7201a8"
            ],
            [
             0.3333333333333333,
             "#9c179e"
            ],
            [
             0.4444444444444444,
             "#bd3786"
            ],
            [
             0.5555555555555556,
             "#d8576b"
            ],
            [
             0.6666666666666666,
             "#ed7953"
            ],
            [
             0.7777777777777778,
             "#fb9f3a"
            ],
            [
             0.8888888888888888,
             "#fdca26"
            ],
            [
             1,
             "#f0f921"
            ]
           ]
          },
          "colorway": [
           "#636efa",
           "#EF553B",
           "#00cc96",
           "#ab63fa",
           "#FFA15A",
           "#19d3f3",
           "#FF6692",
           "#B6E880",
           "#FF97FF",
           "#FECB52"
          ],
          "font": {
           "color": "#2a3f5f"
          },
          "geo": {
           "bgcolor": "white",
           "lakecolor": "white",
           "landcolor": "#E5ECF6",
           "showlakes": true,
           "showland": true,
           "subunitcolor": "white"
          },
          "hoverlabel": {
           "align": "left"
          },
          "hovermode": "closest",
          "mapbox": {
           "style": "light"
          },
          "paper_bgcolor": "white",
          "plot_bgcolor": "#E5ECF6",
          "polar": {
           "angularaxis": {
            "gridcolor": "white",
            "linecolor": "white",
            "ticks": ""
           },
           "bgcolor": "#E5ECF6",
           "radialaxis": {
            "gridcolor": "white",
            "linecolor": "white",
            "ticks": ""
           }
          },
          "scene": {
           "xaxis": {
            "backgroundcolor": "#E5ECF6",
            "gridcolor": "white",
            "gridwidth": 2,
            "linecolor": "white",
            "showbackground": true,
            "ticks": "",
            "zerolinecolor": "white"
           },
           "yaxis": {
            "backgroundcolor": "#E5ECF6",
            "gridcolor": "white",
            "gridwidth": 2,
            "linecolor": "white",
            "showbackground": true,
            "ticks": "",
            "zerolinecolor": "white"
           },
           "zaxis": {
            "backgroundcolor": "#E5ECF6",
            "gridcolor": "white",
            "gridwidth": 2,
            "linecolor": "white",
            "showbackground": true,
            "ticks": "",
            "zerolinecolor": "white"
           }
          },
          "shapedefaults": {
           "line": {
            "color": "#2a3f5f"
           }
          },
          "ternary": {
           "aaxis": {
            "gridcolor": "white",
            "linecolor": "white",
            "ticks": ""
           },
           "baxis": {
            "gridcolor": "white",
            "linecolor": "white",
            "ticks": ""
           },
           "bgcolor": "#E5ECF6",
           "caxis": {
            "gridcolor": "white",
            "linecolor": "white",
            "ticks": ""
           }
          },
          "title": {
           "x": 0.05
          },
          "xaxis": {
           "automargin": true,
           "gridcolor": "white",
           "linecolor": "white",
           "ticks": "",
           "title": {
            "standoff": 15
           },
           "zerolinecolor": "white",
           "zerolinewidth": 2
          },
          "yaxis": {
           "automargin": true,
           "gridcolor": "white",
           "linecolor": "white",
           "ticks": "",
           "title": {
            "standoff": 15
           },
           "zerolinecolor": "white",
           "zerolinewidth": 2
          }
         }
        }
       }
      },
      "text/html": [
       "<div>                            <div id=\"fe7b79bf-64a9-4c55-8e52-c19fd489d3e0\" class=\"plotly-graph-div\" style=\"height:525px; width:100%;\"></div>            <script type=\"text/javascript\">                require([\"plotly\"], function(Plotly) {                    window.PLOTLYENV=window.PLOTLYENV || {};                                    if (document.getElementById(\"fe7b79bf-64a9-4c55-8e52-c19fd489d3e0\")) {                    Plotly.newPlot(                        \"fe7b79bf-64a9-4c55-8e52-c19fd489d3e0\",                        [{\"domain\":{\"x\":[0.0,1.0],\"y\":[0.0,1.0]},\"hovertemplate\":\"label=%{label}<br>value=%{value}<extra></extra>\",\"labels\":[5,4,3,1,2],\"legendgroup\":\"\",\"name\":\"\",\"showlegend\":true,\"values\":[280,146,42,15,6],\"type\":\"pie\"}],                        {\"template\":{\"data\":{\"bar\":[{\"error_x\":{\"color\":\"#2a3f5f\"},\"error_y\":{\"color\":\"#2a3f5f\"},\"marker\":{\"line\":{\"color\":\"#E5ECF6\",\"width\":0.5},\"pattern\":{\"fillmode\":\"overlay\",\"size\":10,\"solidity\":0.2}},\"type\":\"bar\"}],\"barpolar\":[{\"marker\":{\"line\":{\"color\":\"#E5ECF6\",\"width\":0.5},\"pattern\":{\"fillmode\":\"overlay\",\"size\":10,\"solidity\":0.2}},\"type\":\"barpolar\"}],\"carpet\":[{\"aaxis\":{\"endlinecolor\":\"#2a3f5f\",\"gridcolor\":\"white\",\"linecolor\":\"white\",\"minorgridcolor\":\"white\",\"startlinecolor\":\"#2a3f5f\"},\"baxis\":{\"endlinecolor\":\"#2a3f5f\",\"gridcolor\":\"white\",\"linecolor\":\"white\",\"minorgridcolor\":\"white\",\"startlinecolor\":\"#2a3f5f\"},\"type\":\"carpet\"}],\"choropleth\":[{\"colorbar\":{\"outlinewidth\":0,\"ticks\":\"\"},\"type\":\"choropleth\"}],\"contour\":[{\"colorbar\":{\"outlinewidth\":0,\"ticks\":\"\"},\"colorscale\":[[0.0,\"#0d0887\"],[0.1111111111111111,\"#46039f\"],[0.2222222222222222,\"#7201a8\"],[0.3333333333333333,\"#9c179e\"],[0.4444444444444444,\"#bd3786\"],[0.5555555555555556,\"#d8576b\"],[0.6666666666666666,\"#ed7953\"],[0.7777777777777778,\"#fb9f3a\"],[0.8888888888888888,\"#fdca26\"],[1.0,\"#f0f921\"]],\"type\":\"contour\"}],\"contourcarpet\":[{\"colorbar\":{\"outlinewidth\":0,\"ticks\":\"\"},\"type\":\"contourcarpet\"}],\"heatmap\":[{\"colorbar\":{\"outlinewidth\":0,\"ticks\":\"\"},\"colorscale\":[[0.0,\"#0d0887\"],[0.1111111111111111,\"#46039f\"],[0.2222222222222222,\"#7201a8\"],[0.3333333333333333,\"#9c179e\"],[0.4444444444444444,\"#bd3786\"],[0.5555555555555556,\"#d8576b\"],[0.6666666666666666,\"#ed7953\"],[0.7777777777777778,\"#fb9f3a\"],[0.8888888888888888,\"#fdca26\"],[1.0,\"#f0f921\"]],\"type\":\"heatmap\"}],\"heatmapgl\":[{\"colorbar\":{\"outlinewidth\":0,\"ticks\":\"\"},\"colorscale\":[[0.0,\"#0d0887\"],[0.1111111111111111,\"#46039f\"],[0.2222222222222222,\"#7201a8\"],[0.3333333333333333,\"#9c179e\"],[0.4444444444444444,\"#bd3786\"],[0.5555555555555556,\"#d8576b\"],[0.6666666666666666,\"#ed7953\"],[0.7777777777777778,\"#fb9f3a\"],[0.8888888888888888,\"#fdca26\"],[1.0,\"#f0f921\"]],\"type\":\"heatmapgl\"}],\"histogram\":[{\"marker\":{\"pattern\":{\"fillmode\":\"overlay\",\"size\":10,\"solidity\":0.2}},\"type\":\"histogram\"}],\"histogram2d\":[{\"colorbar\":{\"outlinewidth\":0,\"ticks\":\"\"},\"colorscale\":[[0.0,\"#0d0887\"],[0.1111111111111111,\"#46039f\"],[0.2222222222222222,\"#7201a8\"],[0.3333333333333333,\"#9c179e\"],[0.4444444444444444,\"#bd3786\"],[0.5555555555555556,\"#d8576b\"],[0.6666666666666666,\"#ed7953\"],[0.7777777777777778,\"#fb9f3a\"],[0.8888888888888888,\"#fdca26\"],[1.0,\"#f0f921\"]],\"type\":\"histogram2d\"}],\"histogram2dcontour\":[{\"colorbar\":{\"outlinewidth\":0,\"ticks\":\"\"},\"colorscale\":[[0.0,\"#0d0887\"],[0.1111111111111111,\"#46039f\"],[0.2222222222222222,\"#7201a8\"],[0.3333333333333333,\"#9c179e\"],[0.4444444444444444,\"#bd3786\"],[0.5555555555555556,\"#d8576b\"],[0.6666666666666666,\"#ed7953\"],[0.7777777777777778,\"#fb9f3a\"],[0.8888888888888888,\"#fdca26\"],[1.0,\"#f0f921\"]],\"type\":\"histogram2dcontour\"}],\"mesh3d\":[{\"colorbar\":{\"outlinewidth\":0,\"ticks\":\"\"},\"type\":\"mesh3d\"}],\"parcoords\":[{\"line\":{\"colorbar\":{\"outlinewidth\":0,\"ticks\":\"\"}},\"type\":\"parcoords\"}],\"pie\":[{\"automargin\":true,\"type\":\"pie\"}],\"scatter\":[{\"marker\":{\"colorbar\":{\"outlinewidth\":0,\"ticks\":\"\"}},\"type\":\"scatter\"}],\"scatter3d\":[{\"line\":{\"colorbar\":{\"outlinewidth\":0,\"ticks\":\"\"}},\"marker\":{\"colorbar\":{\"outlinewidth\":0,\"ticks\":\"\"}},\"type\":\"scatter3d\"}],\"scattercarpet\":[{\"marker\":{\"colorbar\":{\"outlinewidth\":0,\"ticks\":\"\"}},\"type\":\"scattercarpet\"}],\"scattergeo\":[{\"marker\":{\"colorbar\":{\"outlinewidth\":0,\"ticks\":\"\"}},\"type\":\"scattergeo\"}],\"scattergl\":[{\"marker\":{\"colorbar\":{\"outlinewidth\":0,\"ticks\":\"\"}},\"type\":\"scattergl\"}],\"scattermapbox\":[{\"marker\":{\"colorbar\":{\"outlinewidth\":0,\"ticks\":\"\"}},\"type\":\"scattermapbox\"}],\"scatterpolar\":[{\"marker\":{\"colorbar\":{\"outlinewidth\":0,\"ticks\":\"\"}},\"type\":\"scatterpolar\"}],\"scatterpolargl\":[{\"marker\":{\"colorbar\":{\"outlinewidth\":0,\"ticks\":\"\"}},\"type\":\"scatterpolargl\"}],\"scatterternary\":[{\"marker\":{\"colorbar\":{\"outlinewidth\":0,\"ticks\":\"\"}},\"type\":\"scatterternary\"}],\"surface\":[{\"colorbar\":{\"outlinewidth\":0,\"ticks\":\"\"},\"colorscale\":[[0.0,\"#0d0887\"],[0.1111111111111111,\"#46039f\"],[0.2222222222222222,\"#7201a8\"],[0.3333333333333333,\"#9c179e\"],[0.4444444444444444,\"#bd3786\"],[0.5555555555555556,\"#d8576b\"],[0.6666666666666666,\"#ed7953\"],[0.7777777777777778,\"#fb9f3a\"],[0.8888888888888888,\"#fdca26\"],[1.0,\"#f0f921\"]],\"type\":\"surface\"}],\"table\":[{\"cells\":{\"fill\":{\"color\":\"#EBF0F8\"},\"line\":{\"color\":\"white\"}},\"header\":{\"fill\":{\"color\":\"#C8D4E3\"},\"line\":{\"color\":\"white\"}},\"type\":\"table\"}]},\"layout\":{\"annotationdefaults\":{\"arrowcolor\":\"#2a3f5f\",\"arrowhead\":0,\"arrowwidth\":1},\"autotypenumbers\":\"strict\",\"coloraxis\":{\"colorbar\":{\"outlinewidth\":0,\"ticks\":\"\"}},\"colorscale\":{\"diverging\":[[0,\"#8e0152\"],[0.1,\"#c51b7d\"],[0.2,\"#de77ae\"],[0.3,\"#f1b6da\"],[0.4,\"#fde0ef\"],[0.5,\"#f7f7f7\"],[0.6,\"#e6f5d0\"],[0.7,\"#b8e186\"],[0.8,\"#7fbc41\"],[0.9,\"#4d9221\"],[1,\"#276419\"]],\"sequential\":[[0.0,\"#0d0887\"],[0.1111111111111111,\"#46039f\"],[0.2222222222222222,\"#7201a8\"],[0.3333333333333333,\"#9c179e\"],[0.4444444444444444,\"#bd3786\"],[0.5555555555555556,\"#d8576b\"],[0.6666666666666666,\"#ed7953\"],[0.7777777777777778,\"#fb9f3a\"],[0.8888888888888888,\"#fdca26\"],[1.0,\"#f0f921\"]],\"sequentialminus\":[[0.0,\"#0d0887\"],[0.1111111111111111,\"#46039f\"],[0.2222222222222222,\"#7201a8\"],[0.3333333333333333,\"#9c179e\"],[0.4444444444444444,\"#bd3786\"],[0.5555555555555556,\"#d8576b\"],[0.6666666666666666,\"#ed7953\"],[0.7777777777777778,\"#fb9f3a\"],[0.8888888888888888,\"#fdca26\"],[1.0,\"#f0f921\"]]},\"colorway\":[\"#636efa\",\"#EF553B\",\"#00cc96\",\"#ab63fa\",\"#FFA15A\",\"#19d3f3\",\"#FF6692\",\"#B6E880\",\"#FF97FF\",\"#FECB52\"],\"font\":{\"color\":\"#2a3f5f\"},\"geo\":{\"bgcolor\":\"white\",\"lakecolor\":\"white\",\"landcolor\":\"#E5ECF6\",\"showlakes\":true,\"showland\":true,\"subunitcolor\":\"white\"},\"hoverlabel\":{\"align\":\"left\"},\"hovermode\":\"closest\",\"mapbox\":{\"style\":\"light\"},\"paper_bgcolor\":\"white\",\"plot_bgcolor\":\"#E5ECF6\",\"polar\":{\"angularaxis\":{\"gridcolor\":\"white\",\"linecolor\":\"white\",\"ticks\":\"\"},\"bgcolor\":\"#E5ECF6\",\"radialaxis\":{\"gridcolor\":\"white\",\"linecolor\":\"white\",\"ticks\":\"\"}},\"scene\":{\"xaxis\":{\"backgroundcolor\":\"#E5ECF6\",\"gridcolor\":\"white\",\"gridwidth\":2,\"linecolor\":\"white\",\"showbackground\":true,\"ticks\":\"\",\"zerolinecolor\":\"white\"},\"yaxis\":{\"backgroundcolor\":\"#E5ECF6\",\"gridcolor\":\"white\",\"gridwidth\":2,\"linecolor\":\"white\",\"showbackground\":true,\"ticks\":\"\",\"zerolinecolor\":\"white\"},\"zaxis\":{\"backgroundcolor\":\"#E5ECF6\",\"gridcolor\":\"white\",\"gridwidth\":2,\"linecolor\":\"white\",\"showbackground\":true,\"ticks\":\"\",\"zerolinecolor\":\"white\"}},\"shapedefaults\":{\"line\":{\"color\":\"#2a3f5f\"}},\"ternary\":{\"aaxis\":{\"gridcolor\":\"white\",\"linecolor\":\"white\",\"ticks\":\"\"},\"baxis\":{\"gridcolor\":\"white\",\"linecolor\":\"white\",\"ticks\":\"\"},\"bgcolor\":\"#E5ECF6\",\"caxis\":{\"gridcolor\":\"white\",\"linecolor\":\"white\",\"ticks\":\"\"}},\"title\":{\"x\":0.05},\"xaxis\":{\"automargin\":true,\"gridcolor\":\"white\",\"linecolor\":\"white\",\"ticks\":\"\",\"title\":{\"standoff\":15},\"zerolinecolor\":\"white\",\"zerolinewidth\":2},\"yaxis\":{\"automargin\":true,\"gridcolor\":\"white\",\"linecolor\":\"white\",\"ticks\":\"\",\"title\":{\"standoff\":15},\"zerolinecolor\":\"white\",\"zerolinewidth\":2}}},\"legend\":{\"tracegroupgap\":0},\"margin\":{\"t\":60}},                        {\"responsive\": true}                    ).then(function(){\n",
       "                            \n",
       "var gd = document.getElementById('fe7b79bf-64a9-4c55-8e52-c19fd489d3e0');\n",
       "var x = new MutationObserver(function (mutations, observer) {{\n",
       "        var display = window.getComputedStyle(gd).display;\n",
       "        if (!display || display === 'none') {{\n",
       "            console.log([gd, 'removed!']);\n",
       "            Plotly.purge(gd);\n",
       "            observer.disconnect();\n",
       "        }}\n",
       "}});\n",
       "\n",
       "// Listen for the removal of the full notebook cells\n",
       "var notebookContainer = gd.closest('#notebook-container');\n",
       "if (notebookContainer) {{\n",
       "    x.observe(notebookContainer, {childList: true});\n",
       "}}\n",
       "\n",
       "// Listen for the clearing of the current output cell\n",
       "var outputEl = gd.closest('.output');\n",
       "if (outputEl) {{\n",
       "    x.observe(outputEl, {childList: true});\n",
       "}}\n",
       "\n",
       "                        })                };                });            </script>        </div>"
      ]
     },
     "metadata": {},
     "output_type": "display_data"
    }
   ],
   "source": [
    "# Data Visualisation\n",
    "ratings=data['rating'].value_counts()\n",
    "categories=ratings.index\n",
    "quantities=ratings.values\n",
    "\n",
    "import plotly.express as px\n",
    "figure=px.pie(data, \n",
    "             values=quantities,\n",
    "             names=categories)\n",
    "\n",
    "figure.show()"
   ]
  },
  {
   "cell_type": "markdown",
   "id": "b7b4bedb",
   "metadata": {},
   "source": [
    "#### Infer: approx 60 percent ratings flipkart got for that particular product is 5."
   ]
  },
  {
   "cell_type": "code",
   "execution_count": 699,
   "id": "139007b5",
   "metadata": {},
   "outputs": [
    {
     "data": {
      "image/png": "[encoded data removed]",
      "text/plain": [
       "<Figure size 1080x1440 with 1 Axes>"
      ]
     },
     "metadata": {
      "needs_background": "light"
     },
     "output_type": "display_data"
    }
   ],
   "source": [
    "text=\" \".join(i for i in data.review)\n",
    "wordcloud= WordCloud(stopwords=stopwords, background_color='white').generate(text)\n",
    "plt.figure(figsize=(15, 20))\n",
    "plt.imshow(wordcloud)\n",
    "plt.axis(\"off\")\n",
    "plt.show()\n"
   ]
  },
  {
   "cell_type": "markdown",
   "id": "30dc5b56",
   "metadata": {},
   "source": [
    "###  Infer: \n",
    "#### The more the size of word, the more times that are in the reviews.\n",
    "####  We can see that both good and headphon are the two words which are big in size. So it tells that many people have given review that headphones are good."
   ]
  },
  {
   "cell_type": "code",
   "execution_count": 700,
   "id": "3c0f2fd8",
   "metadata": {},
   "outputs": [
    {
     "name": "stderr",
     "output_type": "stream",
     "text": [
      "[nltk_data] Downloading package vader_lexicon to\n",
      "[nltk_data]     C:\\Users\\priya\\AppData\\Roaming\\nltk_data...\n",
      "[nltk_data]   Package vader_lexicon is already up-to-date!\n"
     ]
    },
    {
     "data": {
      "text/html": [
       "<div>\n",
       "<style scoped>\n",
       "    .dataframe tbody tr th:only-of-type {\n",
       "        vertical-align: middle;\n",
       "    }\n",
       "\n",
       "    .dataframe tbody tr th {\n",
       "        vertical-align: top;\n",
       "    }\n",
       "\n",
       "    .dataframe thead th {\n",
       "        text-align: right;\n",
       "    }\n",
       "</style>\n",
       "<table border=\"1\" class=\"dataframe\">\n",
       "  <thead>\n",
       "    <tr style=\"text-align: right;\">\n",
       "      <th></th>\n",
       "      <th>id</th>\n",
       "      <th>review</th>\n",
       "      <th>rating</th>\n",
       "      <th>Positive</th>\n",
       "      <th>Negative</th>\n",
       "      <th>Neutral</th>\n",
       "    </tr>\n",
       "  </thead>\n",
       "  <tbody>\n",
       "    <tr>\n",
       "      <th>0</th>\n",
       "      <td>1</td>\n",
       "      <td>nice produt like design lot  easi carri   look...</td>\n",
       "      <td>5</td>\n",
       "      <td>0.431</td>\n",
       "      <td>0.000</td>\n",
       "      <td>0.569</td>\n",
       "    </tr>\n",
       "    <tr>\n",
       "      <th>1</th>\n",
       "      <td>2</td>\n",
       "      <td>awesom soundveri pretti see nd sound qualiti g...</td>\n",
       "      <td>5</td>\n",
       "      <td>0.471</td>\n",
       "      <td>0.000</td>\n",
       "      <td>0.529</td>\n",
       "    </tr>\n",
       "    <tr>\n",
       "      <th>2</th>\n",
       "      <td>3</td>\n",
       "      <td>awesom sound qualiti pros  hrs batteri life in...</td>\n",
       "      <td>4</td>\n",
       "      <td>0.194</td>\n",
       "      <td>0.000</td>\n",
       "      <td>0.806</td>\n",
       "    </tr>\n",
       "    <tr>\n",
       "      <th>3</th>\n",
       "      <td>4</td>\n",
       "      <td>think good product per qualiti also design qui...</td>\n",
       "      <td>5</td>\n",
       "      <td>0.393</td>\n",
       "      <td>0.049</td>\n",
       "      <td>0.558</td>\n",
       "    </tr>\n",
       "    <tr>\n",
       "      <th>4</th>\n",
       "      <td>5</td>\n",
       "      <td>awsom sound power bass batteri backup also exc...</td>\n",
       "      <td>5</td>\n",
       "      <td>0.479</td>\n",
       "      <td>0.029</td>\n",
       "      <td>0.492</td>\n",
       "    </tr>\n",
       "  </tbody>\n",
       "</table>\n",
       "</div>"
      ],
      "text/plain": [
       "   id                                             review  rating  Positive  \\\n",
       "0   1  nice produt like design lot  easi carri   look...       5     0.431   \n",
       "1   2  awesom soundveri pretti see nd sound qualiti g...       5     0.471   \n",
       "2   3  awesom sound qualiti pros  hrs batteri life in...       4     0.194   \n",
       "3   4  think good product per qualiti also design qui...       5     0.393   \n",
       "4   5  awsom sound power bass batteri backup also exc...       5     0.479   \n",
       "\n",
       "   Negative  Neutral  \n",
       "0     0.000    0.569  \n",
       "1     0.000    0.529  \n",
       "2     0.000    0.806  \n",
       "3     0.049    0.558  \n",
       "4     0.029    0.492  "
      ]
     },
     "execution_count": 700,
     "metadata": {},
     "output_type": "execute_result"
    }
   ],
   "source": [
    "# Analysing the scores of reviews to be positive, negative and neutral\n",
    "\n",
    "nltk.download('vader_lexicon')\n",
    "sentiment=SentimentIntensityAnalyzer()\n",
    "\n",
    "data['Positive']=[sentiment.polarity_scores(i)['pos'] for i in data.review]\n",
    "data['Negative']=[sentiment.polarity_scores(i)['neg'] for i in data.review]\n",
    "data['Neutral']=[sentiment.polarity_scores(i)['neu'] for i in data.review]\n",
    "data.head()"
   ]
  },
  {
   "cell_type": "code",
   "execution_count": 701,
   "id": "895cd422",
   "metadata": {},
   "outputs": [],
   "source": [
    "x= sum(data['Positive'])\n",
    "y= sum(data['Negative'])\n",
    "z= sum(data['Neutral'])"
   ]
  },
  {
   "cell_type": "code",
   "execution_count": 702,
   "id": "491ed312",
   "metadata": {},
   "outputs": [
    {
     "data": {
      "text/html": [
       "<div>\n",
       "<style scoped>\n",
       "    .dataframe tbody tr th:only-of-type {\n",
       "        vertical-align: middle;\n",
       "    }\n",
       "\n",
       "    .dataframe tbody tr th {\n",
       "        vertical-align: top;\n",
       "    }\n",
       "\n",
       "    .dataframe thead th {\n",
       "        text-align: right;\n",
       "    }\n",
       "</style>\n",
       "<table border=\"1\" class=\"dataframe\">\n",
       "  <thead>\n",
       "    <tr style=\"text-align: right;\">\n",
       "      <th></th>\n",
       "      <th>id</th>\n",
       "      <th>review</th>\n",
       "      <th>rating</th>\n",
       "      <th>Positive</th>\n",
       "      <th>Negative</th>\n",
       "      <th>Neutral</th>\n",
       "    </tr>\n",
       "  </thead>\n",
       "  <tbody>\n",
       "    <tr>\n",
       "      <th>357</th>\n",
       "      <td>358</td>\n",
       "      <td>auxiliari cabl doesnt work good overal product...</td>\n",
       "      <td>4</td>\n",
       "      <td>0.0</td>\n",
       "      <td>0.445</td>\n",
       "      <td>0.555</td>\n",
       "    </tr>\n",
       "  </tbody>\n",
       "</table>\n",
       "</div>"
      ],
      "text/plain": [
       "      id                                             review  rating  Positive  \\\n",
       "357  358  auxiliari cabl doesnt work good overal product...       4       0.0   \n",
       "\n",
       "     Negative  Neutral  \n",
       "357     0.445    0.555  "
      ]
     },
     "execution_count": 702,
     "metadata": {},
     "output_type": "execute_result"
    }
   ],
   "source": [
    "# reviews having negative sentiments more than 30 percent\n",
    "data[data['Negative']>0.30]"
   ]
  },
  {
   "cell_type": "code",
   "execution_count": 703,
   "id": "88d9217d",
   "metadata": {},
   "outputs": [
    {
     "data": {
      "text/plain": [
       "'Neutral'"
      ]
     },
     "execution_count": 703,
     "metadata": {},
     "output_type": "execute_result"
    }
   ],
   "source": [
    "\n",
    "def max_sentiment_score(x, y, z):\n",
    "    if(x>y and x>z):\n",
    "        return 'Positive'\n",
    "    elif (y>x and y>z):\n",
    "        return 'Negative'\n",
    "    else:\n",
    "        return 'Neutral'\n",
    "    \n",
    "max_sentiment_score(x, y, z)"
   ]
  },
  {
   "cell_type": "markdown",
   "id": "2cd20664",
   "metadata": {},
   "source": [
    "#### Infer: Maximum Sentiment Score is 'Neutral '. It means that if we will add up the sentiment effect of reviews on the people, it will not impact positive on the person surely. It can affect positive or negative acccording to the comments, he/she is reading."
   ]
  },
  {
   "cell_type": "markdown",
   "id": "6b7bc6d5",
   "metadata": {},
   "source": [
    "### Model Training"
   ]
  },
  {
   "cell_type": "code",
   "execution_count": 704,
   "id": "1ac97ae5",
   "metadata": {},
   "outputs": [
    {
     "data": {
      "text/html": [
       "<div>\n",
       "<style scoped>\n",
       "    .dataframe tbody tr th:only-of-type {\n",
       "        vertical-align: middle;\n",
       "    }\n",
       "\n",
       "    .dataframe tbody tr th {\n",
       "        vertical-align: top;\n",
       "    }\n",
       "\n",
       "    .dataframe thead th {\n",
       "        text-align: right;\n",
       "    }\n",
       "</style>\n",
       "<table border=\"1\" class=\"dataframe\">\n",
       "  <thead>\n",
       "    <tr style=\"text-align: right;\">\n",
       "      <th></th>\n",
       "      <th>id</th>\n",
       "      <th>review</th>\n",
       "      <th>rating</th>\n",
       "      <th>Positive</th>\n",
       "      <th>Negative</th>\n",
       "      <th>Neutral</th>\n",
       "      <th>Output</th>\n",
       "    </tr>\n",
       "  </thead>\n",
       "  <tbody>\n",
       "    <tr>\n",
       "      <th>0</th>\n",
       "      <td>1</td>\n",
       "      <td>nice produt like design lot  easi carri   look...</td>\n",
       "      <td>5</td>\n",
       "      <td>0.431</td>\n",
       "      <td>0.000</td>\n",
       "      <td>0.569</td>\n",
       "      <td>Happy</td>\n",
       "    </tr>\n",
       "    <tr>\n",
       "      <th>1</th>\n",
       "      <td>2</td>\n",
       "      <td>awesom soundveri pretti see nd sound qualiti g...</td>\n",
       "      <td>5</td>\n",
       "      <td>0.471</td>\n",
       "      <td>0.000</td>\n",
       "      <td>0.529</td>\n",
       "      <td>Happy</td>\n",
       "    </tr>\n",
       "    <tr>\n",
       "      <th>2</th>\n",
       "      <td>3</td>\n",
       "      <td>awesom sound qualiti pros  hrs batteri life in...</td>\n",
       "      <td>4</td>\n",
       "      <td>0.194</td>\n",
       "      <td>0.000</td>\n",
       "      <td>0.806</td>\n",
       "      <td>Happy</td>\n",
       "    </tr>\n",
       "    <tr>\n",
       "      <th>3</th>\n",
       "      <td>4</td>\n",
       "      <td>think good product per qualiti also design qui...</td>\n",
       "      <td>5</td>\n",
       "      <td>0.393</td>\n",
       "      <td>0.049</td>\n",
       "      <td>0.558</td>\n",
       "      <td>Happy</td>\n",
       "    </tr>\n",
       "    <tr>\n",
       "      <th>4</th>\n",
       "      <td>5</td>\n",
       "      <td>awsom sound power bass batteri backup also exc...</td>\n",
       "      <td>5</td>\n",
       "      <td>0.479</td>\n",
       "      <td>0.029</td>\n",
       "      <td>0.492</td>\n",
       "      <td>Happy</td>\n",
       "    </tr>\n",
       "  </tbody>\n",
       "</table>\n",
       "</div>"
      ],
      "text/plain": [
       "   id                                             review  rating  Positive  \\\n",
       "0   1  nice produt like design lot  easi carri   look...       5     0.431   \n",
       "1   2  awesom soundveri pretti see nd sound qualiti g...       5     0.471   \n",
       "2   3  awesom sound qualiti pros  hrs batteri life in...       4     0.194   \n",
       "3   4  think good product per qualiti also design qui...       5     0.393   \n",
       "4   5  awsom sound power bass batteri backup also exc...       5     0.479   \n",
       "\n",
       "   Negative  Neutral Output  \n",
       "0     0.000    0.569  Happy  \n",
       "1     0.000    0.529  Happy  \n",
       "2     0.000    0.806  Happy  \n",
       "3     0.049    0.558  Happy  \n",
       "4     0.029    0.492  Happy  "
      ]
     },
     "execution_count": 704,
     "metadata": {},
     "output_type": "execute_result"
    }
   ],
   "source": [
    "data['Output']=np.where((data['Positive']+data['Neutral']>0.80), 'Happy', 'Unhappy')\n",
    "data.head()"
   ]
  },
  {
   "cell_type": "code",
   "execution_count": 705,
   "id": "f69d5fd9",
   "metadata": {},
   "outputs": [
    {
     "name": "stderr",
     "output_type": "stream",
     "text": [
      "C:\\Users\\priya\\anaconda3\\lib\\site-packages\\seaborn\\_decorators.py:36: FutureWarning:\n",
      "\n",
      "Pass the following variable as a keyword arg: x. From version 0.12, the only valid positional argument will be `data`, and passing other arguments without an explicit keyword will result in an error or misinterpretation.\n",
      "\n"
     ]
    },
    {
     "data": {
      "text/plain": [
       "<AxesSubplot:xlabel='Output', ylabel='count'>"
      ]
     },
     "execution_count": 705,
     "metadata": {},
     "output_type": "execute_result"
    },
    {
     "data": {
      "image/png": "[encoded data removed]",
      "text/plain": [
       "<Figure size 432x288 with 1 Axes>"
      ]
     },
     "metadata": {
      "needs_background": "light"
     },
     "output_type": "display_data"
    }
   ],
   "source": [
    "# is data balanced?\n",
    "\n",
    "sns.countplot(data['Output'])"
   ]
  },
  {
   "cell_type": "markdown",
   "id": "3635c5b3",
   "metadata": {},
   "source": [
    "#### Infer: We can see that our data is imbalanced so that if we will train our data, it will be trained inaccurately.\n",
    "\n"
   ]
  },
  {
   "cell_type": "code",
   "execution_count": 706,
   "id": "dd65ce08",
   "metadata": {},
   "outputs": [],
   "source": [
    "data['Output']=np.where(data['rating']>4, 'Happy', 'Unhappy')"
   ]
  },
  {
   "cell_type": "code",
   "execution_count": 707,
   "id": "78bbb11b",
   "metadata": {},
   "outputs": [
    {
     "name": "stderr",
     "output_type": "stream",
     "text": [
      "C:\\Users\\priya\\anaconda3\\lib\\site-packages\\seaborn\\_decorators.py:36: FutureWarning:\n",
      "\n",
      "Pass the following variable as a keyword arg: x. From version 0.12, the only valid positional argument will be `data`, and passing other arguments without an explicit keyword will result in an error or misinterpretation.\n",
      "\n"
     ]
    },
    {
     "data": {
      "text/plain": [
       "<AxesSubplot:xlabel='Output', ylabel='count'>"
      ]
     },
     "execution_count": 707,
     "metadata": {},
     "output_type": "execute_result"
    },
    {
     "data": {
      "image/png": "[encoded data removed]",
      "text/plain": [
       "<Figure size 432x288 with 1 Axes>"
      ]
     },
     "metadata": {
      "needs_background": "light"
     },
     "output_type": "display_data"
    }
   ],
   "source": [
    "# Now, is data balanced?\n",
    "\n",
    "sns.countplot(data['Output'])"
   ]
  },
  {
   "cell_type": "markdown",
   "id": "eb588aa9",
   "metadata": {},
   "source": [
    "#### Wooh!, Yes Now data is almost balanced.\n",
    "\n",
    "#### Good to go"
   ]
  },
  {
   "cell_type": "code",
   "execution_count": 708,
   "id": "27a6621c",
   "metadata": {},
   "outputs": [
    {
     "data": {
      "text/html": [
       "<div>\n",
       "<style scoped>\n",
       "    .dataframe tbody tr th:only-of-type {\n",
       "        vertical-align: middle;\n",
       "    }\n",
       "\n",
       "    .dataframe tbody tr th {\n",
       "        vertical-align: top;\n",
       "    }\n",
       "\n",
       "    .dataframe thead th {\n",
       "        text-align: right;\n",
       "    }\n",
       "</style>\n",
       "<table border=\"1\" class=\"dataframe\">\n",
       "  <thead>\n",
       "    <tr style=\"text-align: right;\">\n",
       "      <th></th>\n",
       "      <th>id</th>\n",
       "      <th>review</th>\n",
       "      <th>rating</th>\n",
       "      <th>Positive</th>\n",
       "      <th>Negative</th>\n",
       "      <th>Neutral</th>\n",
       "      <th>Output</th>\n",
       "      <th>Character Counts</th>\n",
       "    </tr>\n",
       "  </thead>\n",
       "  <tbody>\n",
       "    <tr>\n",
       "      <th>0</th>\n",
       "      <td>1</td>\n",
       "      <td>nice produt like design lot  easi carri   look...</td>\n",
       "      <td>5</td>\n",
       "      <td>0.431</td>\n",
       "      <td>0.000</td>\n",
       "      <td>0.569</td>\n",
       "      <td>Happy</td>\n",
       "      <td>58</td>\n",
       "    </tr>\n",
       "    <tr>\n",
       "      <th>1</th>\n",
       "      <td>2</td>\n",
       "      <td>awesom soundveri pretti see nd sound qualiti g...</td>\n",
       "      <td>5</td>\n",
       "      <td>0.471</td>\n",
       "      <td>0.000</td>\n",
       "      <td>0.529</td>\n",
       "      <td>Happy</td>\n",
       "      <td>88</td>\n",
       "    </tr>\n",
       "    <tr>\n",
       "      <th>2</th>\n",
       "      <td>3</td>\n",
       "      <td>awesom sound qualiti pros  hrs batteri life in...</td>\n",
       "      <td>4</td>\n",
       "      <td>0.194</td>\n",
       "      <td>0.000</td>\n",
       "      <td>0.806</td>\n",
       "      <td>Unhappy</td>\n",
       "      <td>334</td>\n",
       "    </tr>\n",
       "    <tr>\n",
       "      <th>3</th>\n",
       "      <td>4</td>\n",
       "      <td>think good product per qualiti also design qui...</td>\n",
       "      <td>5</td>\n",
       "      <td>0.393</td>\n",
       "      <td>0.049</td>\n",
       "      <td>0.558</td>\n",
       "      <td>Happy</td>\n",
       "      <td>210</td>\n",
       "    </tr>\n",
       "    <tr>\n",
       "      <th>4</th>\n",
       "      <td>5</td>\n",
       "      <td>awsom sound power bass batteri backup also exc...</td>\n",
       "      <td>5</td>\n",
       "      <td>0.479</td>\n",
       "      <td>0.029</td>\n",
       "      <td>0.492</td>\n",
       "      <td>Happy</td>\n",
       "      <td>295</td>\n",
       "    </tr>\n",
       "    <tr>\n",
       "      <th>...</th>\n",
       "      <td>...</td>\n",
       "      <td>...</td>\n",
       "      <td>...</td>\n",
       "      <td>...</td>\n",
       "      <td>...</td>\n",
       "      <td>...</td>\n",
       "      <td>...</td>\n",
       "      <td>...</td>\n",
       "    </tr>\n",
       "    <tr>\n",
       "      <th>484</th>\n",
       "      <td>485</td>\n",
       "      <td>right left distribut okayotherwis sound qualit...</td>\n",
       "      <td>4</td>\n",
       "      <td>0.225</td>\n",
       "      <td>0.000</td>\n",
       "      <td>0.775</td>\n",
       "      <td>Unhappy</td>\n",
       "      <td>88</td>\n",
       "    </tr>\n",
       "    <tr>\n",
       "      <th>485</th>\n",
       "      <td>486</td>\n",
       "      <td>nice bluetooth headphon pleas perform  day use...</td>\n",
       "      <td>5</td>\n",
       "      <td>0.368</td>\n",
       "      <td>0.000</td>\n",
       "      <td>0.632</td>\n",
       "      <td>Happy</td>\n",
       "      <td>105</td>\n",
       "    </tr>\n",
       "    <tr>\n",
       "      <th>486</th>\n",
       "      <td>487</td>\n",
       "      <td>excel sound qualiti deep bass good batteri bac...</td>\n",
       "      <td>5</td>\n",
       "      <td>0.393</td>\n",
       "      <td>0.000</td>\n",
       "      <td>0.607</td>\n",
       "      <td>Happy</td>\n",
       "      <td>96</td>\n",
       "    </tr>\n",
       "    <tr>\n",
       "      <th>487</th>\n",
       "      <td>488</td>\n",
       "      <td>good product boat headphon good best also nice...</td>\n",
       "      <td>5</td>\n",
       "      <td>0.754</td>\n",
       "      <td>0.000</td>\n",
       "      <td>0.246</td>\n",
       "      <td>Happy</td>\n",
       "      <td>65</td>\n",
       "    </tr>\n",
       "    <tr>\n",
       "      <th>488</th>\n",
       "      <td>489</td>\n",
       "      <td>headphon stylish look bass dj dispoint batteri...</td>\n",
       "      <td>4</td>\n",
       "      <td>0.309</td>\n",
       "      <td>0.000</td>\n",
       "      <td>0.691</td>\n",
       "      <td>Unhappy</td>\n",
       "      <td>91</td>\n",
       "    </tr>\n",
       "  </tbody>\n",
       "</table>\n",
       "<p>489 rows × 8 columns</p>\n",
       "</div>"
      ],
      "text/plain": [
       "      id                                             review  rating  Positive  \\\n",
       "0      1  nice produt like design lot  easi carri   look...       5     0.431   \n",
       "1      2  awesom soundveri pretti see nd sound qualiti g...       5     0.471   \n",
       "2      3  awesom sound qualiti pros  hrs batteri life in...       4     0.194   \n",
       "3      4  think good product per qualiti also design qui...       5     0.393   \n",
       "4      5  awsom sound power bass batteri backup also exc...       5     0.479   \n",
       "..   ...                                                ...     ...       ...   \n",
       "484  485  right left distribut okayotherwis sound qualit...       4     0.225   \n",
       "485  486  nice bluetooth headphon pleas perform  day use...       5     0.368   \n",
       "486  487  excel sound qualiti deep bass good batteri bac...       5     0.393   \n",
       "487  488  good product boat headphon good best also nice...       5     0.754   \n",
       "488  489  headphon stylish look bass dj dispoint batteri...       4     0.309   \n",
       "\n",
       "     Negative  Neutral   Output  Character Counts  \n",
       "0       0.000    0.569    Happy                58  \n",
       "1       0.000    0.529    Happy                88  \n",
       "2       0.000    0.806  Unhappy               334  \n",
       "3       0.049    0.558    Happy               210  \n",
       "4       0.029    0.492    Happy               295  \n",
       "..        ...      ...      ...               ...  \n",
       "484     0.000    0.775  Unhappy                88  \n",
       "485     0.000    0.632    Happy               105  \n",
       "486     0.000    0.607    Happy                96  \n",
       "487     0.000    0.246    Happy                65  \n",
       "488     0.000    0.691  Unhappy                91  \n",
       "\n",
       "[489 rows x 8 columns]"
      ]
     },
     "execution_count": 708,
     "metadata": {},
     "output_type": "execute_result"
    }
   ],
   "source": [
    "data[\"Character Counts\"]=[len(i) for i in data.review]\n",
    "data"
   ]
  },
  {
   "cell_type": "code",
   "execution_count": 709,
   "id": "076dc6c4",
   "metadata": {},
   "outputs": [
    {
     "data": {
      "text/html": [
       "<div>\n",
       "<style scoped>\n",
       "    .dataframe tbody tr th:only-of-type {\n",
       "        vertical-align: middle;\n",
       "    }\n",
       "\n",
       "    .dataframe tbody tr th {\n",
       "        vertical-align: top;\n",
       "    }\n",
       "\n",
       "    .dataframe thead th {\n",
       "        text-align: right;\n",
       "    }\n",
       "</style>\n",
       "<table border=\"1\" class=\"dataframe\">\n",
       "  <thead>\n",
       "    <tr style=\"text-align: right;\">\n",
       "      <th></th>\n",
       "      <th>id</th>\n",
       "      <th>review</th>\n",
       "      <th>rating</th>\n",
       "      <th>Positive</th>\n",
       "      <th>Negative</th>\n",
       "      <th>Neutral</th>\n",
       "      <th>Output</th>\n",
       "      <th>Character Counts</th>\n",
       "      <th>Word Counts</th>\n",
       "    </tr>\n",
       "  </thead>\n",
       "  <tbody>\n",
       "    <tr>\n",
       "      <th>0</th>\n",
       "      <td>1</td>\n",
       "      <td>nice produt like design lot  easi carri   look...</td>\n",
       "      <td>5</td>\n",
       "      <td>0.431</td>\n",
       "      <td>0.000</td>\n",
       "      <td>0.569</td>\n",
       "      <td>Happy</td>\n",
       "      <td>58</td>\n",
       "      <td>9</td>\n",
       "    </tr>\n",
       "    <tr>\n",
       "      <th>1</th>\n",
       "      <td>2</td>\n",
       "      <td>awesom soundveri pretti see nd sound qualiti g...</td>\n",
       "      <td>5</td>\n",
       "      <td>0.471</td>\n",
       "      <td>0.000</td>\n",
       "      <td>0.529</td>\n",
       "      <td>Happy</td>\n",
       "      <td>88</td>\n",
       "      <td>14</td>\n",
       "    </tr>\n",
       "    <tr>\n",
       "      <th>2</th>\n",
       "      <td>3</td>\n",
       "      <td>awesom sound qualiti pros  hrs batteri life in...</td>\n",
       "      <td>4</td>\n",
       "      <td>0.194</td>\n",
       "      <td>0.000</td>\n",
       "      <td>0.806</td>\n",
       "      <td>Unhappy</td>\n",
       "      <td>334</td>\n",
       "      <td>48</td>\n",
       "    </tr>\n",
       "    <tr>\n",
       "      <th>3</th>\n",
       "      <td>4</td>\n",
       "      <td>think good product per qualiti also design qui...</td>\n",
       "      <td>5</td>\n",
       "      <td>0.393</td>\n",
       "      <td>0.049</td>\n",
       "      <td>0.558</td>\n",
       "      <td>Happy</td>\n",
       "      <td>210</td>\n",
       "      <td>34</td>\n",
       "    </tr>\n",
       "    <tr>\n",
       "      <th>4</th>\n",
       "      <td>5</td>\n",
       "      <td>awsom sound power bass batteri backup also exc...</td>\n",
       "      <td>5</td>\n",
       "      <td>0.479</td>\n",
       "      <td>0.029</td>\n",
       "      <td>0.492</td>\n",
       "      <td>Happy</td>\n",
       "      <td>295</td>\n",
       "      <td>50</td>\n",
       "    </tr>\n",
       "    <tr>\n",
       "      <th>...</th>\n",
       "      <td>...</td>\n",
       "      <td>...</td>\n",
       "      <td>...</td>\n",
       "      <td>...</td>\n",
       "      <td>...</td>\n",
       "      <td>...</td>\n",
       "      <td>...</td>\n",
       "      <td>...</td>\n",
       "      <td>...</td>\n",
       "    </tr>\n",
       "    <tr>\n",
       "      <th>484</th>\n",
       "      <td>485</td>\n",
       "      <td>right left distribut okayotherwis sound qualit...</td>\n",
       "      <td>4</td>\n",
       "      <td>0.225</td>\n",
       "      <td>0.000</td>\n",
       "      <td>0.775</td>\n",
       "      <td>Unhappy</td>\n",
       "      <td>88</td>\n",
       "      <td>11</td>\n",
       "    </tr>\n",
       "    <tr>\n",
       "      <th>485</th>\n",
       "      <td>486</td>\n",
       "      <td>nice bluetooth headphon pleas perform  day use...</td>\n",
       "      <td>5</td>\n",
       "      <td>0.368</td>\n",
       "      <td>0.000</td>\n",
       "      <td>0.632</td>\n",
       "      <td>Happy</td>\n",
       "      <td>105</td>\n",
       "      <td>15</td>\n",
       "    </tr>\n",
       "    <tr>\n",
       "      <th>486</th>\n",
       "      <td>487</td>\n",
       "      <td>excel sound qualiti deep bass good batteri bac...</td>\n",
       "      <td>5</td>\n",
       "      <td>0.393</td>\n",
       "      <td>0.000</td>\n",
       "      <td>0.607</td>\n",
       "      <td>Happy</td>\n",
       "      <td>96</td>\n",
       "      <td>16</td>\n",
       "    </tr>\n",
       "    <tr>\n",
       "      <th>487</th>\n",
       "      <td>488</td>\n",
       "      <td>good product boat headphon good best also nice...</td>\n",
       "      <td>5</td>\n",
       "      <td>0.754</td>\n",
       "      <td>0.000</td>\n",
       "      <td>0.246</td>\n",
       "      <td>Happy</td>\n",
       "      <td>65</td>\n",
       "      <td>10</td>\n",
       "    </tr>\n",
       "    <tr>\n",
       "      <th>488</th>\n",
       "      <td>489</td>\n",
       "      <td>headphon stylish look bass dj dispoint batteri...</td>\n",
       "      <td>4</td>\n",
       "      <td>0.309</td>\n",
       "      <td>0.000</td>\n",
       "      <td>0.691</td>\n",
       "      <td>Unhappy</td>\n",
       "      <td>91</td>\n",
       "      <td>15</td>\n",
       "    </tr>\n",
       "  </tbody>\n",
       "</table>\n",
       "<p>489 rows × 9 columns</p>\n",
       "</div>"
      ],
      "text/plain": [
       "      id                                             review  rating  Positive  \\\n",
       "0      1  nice produt like design lot  easi carri   look...       5     0.431   \n",
       "1      2  awesom soundveri pretti see nd sound qualiti g...       5     0.471   \n",
       "2      3  awesom sound qualiti pros  hrs batteri life in...       4     0.194   \n",
       "3      4  think good product per qualiti also design qui...       5     0.393   \n",
       "4      5  awsom sound power bass batteri backup also exc...       5     0.479   \n",
       "..   ...                                                ...     ...       ...   \n",
       "484  485  right left distribut okayotherwis sound qualit...       4     0.225   \n",
       "485  486  nice bluetooth headphon pleas perform  day use...       5     0.368   \n",
       "486  487  excel sound qualiti deep bass good batteri bac...       5     0.393   \n",
       "487  488  good product boat headphon good best also nice...       5     0.754   \n",
       "488  489  headphon stylish look bass dj dispoint batteri...       4     0.309   \n",
       "\n",
       "     Negative  Neutral   Output  Character Counts  Word Counts  \n",
       "0       0.000    0.569    Happy                58            9  \n",
       "1       0.000    0.529    Happy                88           14  \n",
       "2       0.000    0.806  Unhappy               334           48  \n",
       "3       0.049    0.558    Happy               210           34  \n",
       "4       0.029    0.492    Happy               295           50  \n",
       "..        ...      ...      ...               ...          ...  \n",
       "484     0.000    0.775  Unhappy                88           11  \n",
       "485     0.000    0.632    Happy               105           15  \n",
       "486     0.000    0.607    Happy                96           16  \n",
       "487     0.000    0.246    Happy                65           10  \n",
       "488     0.000    0.691  Unhappy                91           15  \n",
       "\n",
       "[489 rows x 9 columns]"
      ]
     },
     "execution_count": 709,
     "metadata": {},
     "output_type": "execute_result"
    }
   ],
   "source": [
    "data[\"Word Counts\"]=[len(i.split()) for i in data.review]\n",
    "data"
   ]
  },
  {
   "cell_type": "code",
   "execution_count": 710,
   "id": "807caf28",
   "metadata": {},
   "outputs": [
    {
     "name": "stdout",
     "output_type": "stream",
     "text": [
      "<class 'pandas.core.frame.DataFrame'>\n",
      "RangeIndex: 489 entries, 0 to 488\n",
      "Data columns (total 9 columns):\n",
      " #   Column            Non-Null Count  Dtype  \n",
      "---  ------            --------------  -----  \n",
      " 0   id                489 non-null    int32  \n",
      " 1   review            489 non-null    object \n",
      " 2   rating            489 non-null    int64  \n",
      " 3   Positive          489 non-null    float64\n",
      " 4   Negative          489 non-null    float64\n",
      " 5   Neutral           489 non-null    float64\n",
      " 6   Output            489 non-null    object \n",
      " 7   Character Counts  489 non-null    int64  \n",
      " 8   Word Counts       489 non-null    int64  \n",
      "dtypes: float64(3), int32(1), int64(3), object(2)\n",
      "memory usage: 32.6+ KB\n"
     ]
    }
   ],
   "source": [
    "data.info()"
   ]
  },
  {
   "cell_type": "code",
   "execution_count": 711,
   "id": "8ad4b4fe",
   "metadata": {},
   "outputs": [
    {
     "data": {
      "text/html": [
       "<div>\n",
       "<style scoped>\n",
       "    .dataframe tbody tr th:only-of-type {\n",
       "        vertical-align: middle;\n",
       "    }\n",
       "\n",
       "    .dataframe tbody tr th {\n",
       "        vertical-align: top;\n",
       "    }\n",
       "\n",
       "    .dataframe thead th {\n",
       "        text-align: right;\n",
       "    }\n",
       "</style>\n",
       "<table border=\"1\" class=\"dataframe\">\n",
       "  <thead>\n",
       "    <tr style=\"text-align: right;\">\n",
       "      <th></th>\n",
       "      <th>id</th>\n",
       "      <th>rating</th>\n",
       "      <th>Positive</th>\n",
       "      <th>Negative</th>\n",
       "      <th>Neutral</th>\n",
       "      <th>Character Counts</th>\n",
       "      <th>Word Counts</th>\n",
       "    </tr>\n",
       "  </thead>\n",
       "  <tbody>\n",
       "    <tr>\n",
       "      <th>count</th>\n",
       "      <td>489.000000</td>\n",
       "      <td>489.000000</td>\n",
       "      <td>489.000000</td>\n",
       "      <td>489.000000</td>\n",
       "      <td>489.000000</td>\n",
       "      <td>489.000000</td>\n",
       "      <td>489.000000</td>\n",
       "    </tr>\n",
       "    <tr>\n",
       "      <th>mean</th>\n",
       "      <td>245.000000</td>\n",
       "      <td>4.370143</td>\n",
       "      <td>0.366726</td>\n",
       "      <td>0.035881</td>\n",
       "      <td>0.597395</td>\n",
       "      <td>160.539877</td>\n",
       "      <td>25.194274</td>\n",
       "    </tr>\n",
       "    <tr>\n",
       "      <th>std</th>\n",
       "      <td>141.306405</td>\n",
       "      <td>0.921070</td>\n",
       "      <td>0.158187</td>\n",
       "      <td>0.058816</td>\n",
       "      <td>0.142675</td>\n",
       "      <td>78.792858</td>\n",
       "      <td>12.481178</td>\n",
       "    </tr>\n",
       "    <tr>\n",
       "      <th>min</th>\n",
       "      <td>1.000000</td>\n",
       "      <td>1.000000</td>\n",
       "      <td>0.000000</td>\n",
       "      <td>0.000000</td>\n",
       "      <td>0.169000</td>\n",
       "      <td>30.000000</td>\n",
       "      <td>4.000000</td>\n",
       "    </tr>\n",
       "    <tr>\n",
       "      <th>25%</th>\n",
       "      <td>123.000000</td>\n",
       "      <td>4.000000</td>\n",
       "      <td>0.247000</td>\n",
       "      <td>0.000000</td>\n",
       "      <td>0.505000</td>\n",
       "      <td>98.000000</td>\n",
       "      <td>15.000000</td>\n",
       "    </tr>\n",
       "    <tr>\n",
       "      <th>50%</th>\n",
       "      <td>245.000000</td>\n",
       "      <td>5.000000</td>\n",
       "      <td>0.366000</td>\n",
       "      <td>0.000000</td>\n",
       "      <td>0.598000</td>\n",
       "      <td>142.000000</td>\n",
       "      <td>22.000000</td>\n",
       "    </tr>\n",
       "    <tr>\n",
       "      <th>75%</th>\n",
       "      <td>367.000000</td>\n",
       "      <td>5.000000</td>\n",
       "      <td>0.476000</td>\n",
       "      <td>0.066000</td>\n",
       "      <td>0.699000</td>\n",
       "      <td>218.000000</td>\n",
       "      <td>33.000000</td>\n",
       "    </tr>\n",
       "    <tr>\n",
       "      <th>max</th>\n",
       "      <td>489.000000</td>\n",
       "      <td>5.000000</td>\n",
       "      <td>0.831000</td>\n",
       "      <td>0.445000</td>\n",
       "      <td>1.000000</td>\n",
       "      <td>379.000000</td>\n",
       "      <td>60.000000</td>\n",
       "    </tr>\n",
       "  </tbody>\n",
       "</table>\n",
       "</div>"
      ],
      "text/plain": [
       "               id      rating    Positive    Negative     Neutral  \\\n",
       "count  489.000000  489.000000  489.000000  489.000000  489.000000   \n",
       "mean   245.000000    4.370143    0.366726    0.035881    0.597395   \n",
       "std    141.306405    0.921070    0.158187    0.058816    0.142675   \n",
       "min      1.000000    1.000000    0.000000    0.000000    0.169000   \n",
       "25%    123.000000    4.000000    0.247000    0.000000    0.505000   \n",
       "50%    245.000000    5.000000    0.366000    0.000000    0.598000   \n",
       "75%    367.000000    5.000000    0.476000    0.066000    0.699000   \n",
       "max    489.000000    5.000000    0.831000    0.445000    1.000000   \n",
       "\n",
       "       Character Counts  Word Counts  \n",
       "count        489.000000   489.000000  \n",
       "mean         160.539877    25.194274  \n",
       "std           78.792858    12.481178  \n",
       "min           30.000000     4.000000  \n",
       "25%           98.000000    15.000000  \n",
       "50%          142.000000    22.000000  \n",
       "75%          218.000000    33.000000  \n",
       "max          379.000000    60.000000  "
      ]
     },
     "execution_count": 711,
     "metadata": {},
     "output_type": "execute_result"
    }
   ],
   "source": [
    "data.describe()"
   ]
  },
  {
   "cell_type": "code",
   "execution_count": 712,
   "id": "d3c98f0a",
   "metadata": {},
   "outputs": [],
   "source": [
    "data.to_csv(\"data_new.csv\")"
   ]
  },
  {
   "cell_type": "code",
   "execution_count": 713,
   "id": "49b877ae",
   "metadata": {},
   "outputs": [
    {
     "data": {
      "text/plain": [
       "Text(0.5, 1.0, 'Character Counts vs Word Counts of reviews with categorical variable of Output')"
      ]
     },
     "execution_count": 713,
     "metadata": {},
     "output_type": "execute_result"
    },
    {
     "data": {
      "image/png": "[encoded data removed]",
      "text/plain": [
       "<Figure size 1080x720 with 1 Axes>"
      ]
     },
     "metadata": {
      "needs_background": "light"
     },
     "output_type": "display_data"
    }
   ],
   "source": [
    "plt.figure(figsize=(15, 10))\n",
    "sns.barplot(x='Word Counts', y='Character Counts', hue='Output', data=data)\n",
    "plt.title('Character Counts vs Word Counts of reviews with categorical variable of Output')"
   ]
  },
  {
   "cell_type": "code",
   "execution_count": 714,
   "id": "7e354a8a",
   "metadata": {},
   "outputs": [
    {
     "data": {
      "text/plain": [
       "Text(0.5, 1.0, 'Output vs Word Counts of reviews')"
      ]
     },
     "execution_count": 714,
     "metadata": {},
     "output_type": "execute_result"
    },
    {
     "data": {
      "image/png": "[encoded data removed]",
      "text/plain": [
       "<Figure size 360x720 with 1 Axes>"
      ]
     },
     "metadata": {
      "needs_background": "light"
     },
     "output_type": "display_data"
    }
   ],
   "source": [
    "plt.figure(figsize=(5, 10))\n",
    "sns.barplot(x='Output', y='Word Counts', data=data)\n",
    "plt.title('Output vs Word Counts of reviews')"
   ]
  },
  {
   "cell_type": "markdown",
   "id": "ca732c7e",
   "metadata": {},
   "source": [
    "#### Infer: Both unhappy and happy ones have written same number of words almost."
   ]
  },
  {
   "cell_type": "code",
   "execution_count": 715,
   "id": "b7631ffb",
   "metadata": {},
   "outputs": [],
   "source": [
    "from sklearn.model_selection import train_test_split\n",
    "\n",
    "Independent_var=data.review\n",
    "dependent_var=data.Output\n",
    "\n",
    "ID_train, ID_test, D_train, D_test=train_test_split(Independent_var, dependent_var, test_size=0.3 )"
   ]
  },
  {
   "cell_type": "code",
   "execution_count": 716,
   "id": "5a843c0d",
   "metadata": {},
   "outputs": [
    {
     "data": {
      "text/plain": [
       "(342,)"
      ]
     },
     "execution_count": 716,
     "metadata": {},
     "output_type": "execute_result"
    }
   ],
   "source": [
    "ID_train.head()\n",
    "D_train.shape"
   ]
  },
  {
   "cell_type": "code",
   "execution_count": 717,
   "id": "179f08db",
   "metadata": {},
   "outputs": [
    {
     "name": "stdout",
     "output_type": "stream",
     "text": [
      "[[67 41]\n",
      " [ 8 31]]\n",
      "Accuracy of the model:  0.6666666666666666\n",
      "Precision of the model:  [0.62037037 0.79487179]\n",
      "Recall of the model:  [0.89333333 0.43055556]\n",
      "F Score of the model:  [0.73224044 0.55855856]\n"
     ]
    }
   ],
   "source": [
    "from sklearn.feature_extraction.text import TfidfVectorizer\n",
    "from sklearn.linear_model import LogisticRegression\n",
    "\n",
    "tfidfvector=TfidfVectorizer()\n",
    "classifier=LogisticRegression(solver=\"lbfgs\")\n",
    "\n",
    "from sklearn.pipeline import Pipeline\n",
    "\n",
    "model=Pipeline([('vectorizer', tfidfvector), ('classifier', classifier)])\n",
    "model.fit(ID_train, D_train)\n",
    "\n",
    "\n",
    "from sklearn.metrics import confusion_matrix, accuracy_score, precision_score, recall_score, f1_score\n",
    "predictions=model.predict(ID_test)\n",
    "print(confusion_matrix(predictions, D_test))\n",
    "print(\"Accuracy of the model: \", accuracy_score(D_test, predictions))\n",
    "print(\"Precision of the model: \", precision_score(D_test, predictions, average=None))\n",
    "print(\"Recall of the model: \", recall_score(D_test, predictions, average=None))\n",
    "print(\"F Score of the model: \", f1_score(D_test, predictions, average=None))"
   ]
  },
  {
   "cell_type": "code",
   "execution_count": 718,
   "id": "4f028c66",
   "metadata": {},
   "outputs": [
    {
     "name": "stdout",
     "output_type": "stream",
     "text": [
      "Review:  light weight stylish good sound qualiti bass better good batteri back connect low otherwis great productread\n",
      "Target:   Unhappy\n",
      "Prediction:  Happy\n",
      "\n",
      "Review:  amaz one problem  month usb code didnt work proper over nice product read\n",
      "Target:   Unhappy\n",
      "Prediction:  Happy\n",
      "\n",
      "Review:  product cool sexi looksbut cushn much goodbass isnic qualiti sound grtover nice product read\n",
      "Target:   Unhappy\n",
      "Prediction:  Unhappy\n",
      "\n",
      "Review:  wonder headset boat rockerz  bass good clariti soundsthen differ type fusion sound edit song  awesom mindblow worth buy product dont miss itread\n",
      "Target:   Happy\n",
      "Prediction:  Happy\n",
      "\n",
      "Review:  almost nice good productwith nice audio clearanc sound qualiti bass power batteri backupread\n",
      "Target:   Unhappy\n",
      "Prediction:  Happy\n",
      "\n",
      "Review:  reciev good packagingr thank flipkart wonder experi uon minor issu found bass head cushion materialth materi use blue color headset made cloth durabl compar other color variant modelread\n",
      "Target:   Unhappy\n",
      "Prediction:  Unhappy\n",
      "\n",
      "Review:  excel buy price great sound decent bass phone laptop equalis  chang set listen great theatr like sound  also light weight caus much pressur wear long read\n",
      "Target:   Unhappy\n",
      "Prediction:  Happy\n",
      "\n",
      "Review:  headset look good sound qualiti also good rangebut within next  minut wear hurt earsin first use frustrat spend time use boat found perfect way wear itoveral good headphonejust learn perfect way adjust earsread\n",
      "Target:   Happy\n",
      "Prediction:  Happy\n",
      "\n",
      "Review:  genuin repli feedback batteri backup didnt stand expect hard work  half hour most like colour design isnt comfort cushion hard ear hold  minut litter use devic rather would refer buy muve aucost headphon rang way comfort cushion backup  stun detaail musicread\n",
      "Target:   Unhappy\n",
      "Prediction:  Unhappy\n",
      "\n",
      "Review:  accord price good product sound qualiti realli amaz sound depend cell phone sound use gione give good soungd deep bassbut rang bluetooth bad work less  meter distanceread\n",
      "Target:   Happy\n",
      "Prediction:  Happy\n",
      "\n",
      "Review:  realli like product awesom product seal open dirti mean use  product good like would like suggest flipkart send use product anyway headphon realli awesomeread\n",
      "Target:   Unhappy\n",
      "Prediction:  Unhappy\n",
      "\n",
      "Review:  hey fellow  headphon awesom superb basesuperb built qualiti metal holder      good  got rs  u may get fr rate salesread\n",
      "Target:   Happy\n",
      "Prediction:  Happy\n",
      "\n",
      "Review:  good sound qualiti call ok batteri good bass good overal goodread\n",
      "Target:   Happy\n",
      "Prediction:  Happy\n",
      "\n",
      "Review:  pretti  good   everyth fine     thing  order   decemb   show would  reach  th decemb   decemb   got  decemb     almost  lost hope product  thank god got thisread\n",
      "Target:   Unhappy\n",
      "Prediction:  Unhappy\n",
      "\n",
      "Review:  omg valu money product commit compani bass awesom 😍 build qualiti good budget buy headphon  person recommend u go nice productread\n",
      "Target:   Happy\n",
      "Prediction:  Happy\n",
      "\n",
      "Review:  awesom product boat great deliveri flipkart  expect datebass sound clariti great use nokia bh boat rockerz  leaf bass  high end headphonesread\n",
      "Target:   Happy\n",
      "Prediction:  Happy\n",
      "\n",
      "Review:  super duper hit bass sound qualiti best batteri backup best beauti  color best money best productsread\n",
      "Target:   Happy\n",
      "Prediction:  Unhappy\n",
      "\n",
      "Review:  awesom product prize deal phone pe app get  rs good sound qualiti go itread\n",
      "Target:   Happy\n",
      "Prediction:  Happy\n",
      "\n",
      "Review:  excel sound qualiti deep bass good batteri backup thing like tight ear got  big billion daysread\n",
      "Target:   Happy\n",
      "Prediction:  Happy\n",
      "\n",
      "Review:  awesom sound qualiti batteri backup amaz comfort look wise love productread\n",
      "Target:   Happy\n",
      "Prediction:  Happy\n",
      "\n",
      "Review:  fact see look budget headphon best rangenon jblsoni phillip beat nobodi kind sound qualiti rang fun fact  even boat made model great dynam sound even rest model even expens one greatbassit like sit car woofer good amount crisp tribl  like sennheis still pop music lover like iti  bought thread\n",
      "Target:   Unhappy\n",
      "Prediction:  Happy\n",
      "\n",
      "Review:  excel headset  good build qualiti hour run time  sound qualiti also good price pay  thank flipkart give us type saleread\n",
      "Target:   Unhappy\n",
      "Prediction:  Happy\n",
      "\n",
      "Review:  pros        vocal great love        bass decent        batteri  hour        built qualiti good look premium also foldabl con        connect problem appear use terrac          put phone pocket mayb due bluetooth   great purchas doubt                          best buy even purchas                          suggest buy offer sale purchas                                   read\n",
      "Target:   Happy\n",
      "Prediction:  Unhappy\n",
      "\n",
      "Review:  awesom soundveri pretti see nd sound qualiti good wish take product love product 😍😍😍read\n",
      "Target:   Happy\n",
      "Prediction:  Happy\n",
      "\n",
      "Review:  best ever headphon ever bought sound qualiti awesom design also cool worth everi penni compar 💀 skullcandyread\n",
      "Target:   Happy\n",
      "Prediction:  Happy\n",
      "\n",
      "Review:  love headphon great qualiti perfect colour combo super extra bass effect handi 🤍💚read\n",
      "Target:   Unhappy\n",
      "Prediction:  Happy\n",
      "\n",
      "Review:  pros  good qualiti materi use  handl day day use easili  good qualiti sound  bass ok con  rang low  connect problem crowd place like bustrain best price rang read\n",
      "Target:   Happy\n",
      "Prediction:  Happy\n",
      "\n",
      "Review:  awesom product great experi awesom sound effect good batteri life  soundproblem takin travel cant fold flat posit  problem mic work well caller cannot receiv clear even though good productread\n",
      "Target:   Unhappy\n",
      "Prediction:  Happy\n",
      "\n",
      "Review:  aa amaz product wo want buy u recommend price one best product ny accord buy best headphon best luv boatread\n",
      "Target:   Unhappy\n",
      "Prediction:  Happy\n",
      "\n",
      "Review:  super sound awesom bass good dj song batteri back also good got aginst  rs realli realli nice headphoneread\n",
      "Target:   Unhappy\n",
      "Prediction:  Happy\n",
      "\n",
      "Review:  gave four star there hum sound play track youv paus music hardcor music lover abl detect thought product search saw peopl mention dont get wrong sound qualiti bad hum sound also loud okay batteri backup good connect rang averag like bl headset think green color give uread\n",
      "Target:   Unhappy\n",
      "Prediction:  Unhappy\n",
      "\n",
      "Review:  valu moneynic bass  look pretti good price segment realli bass punchi recommend buy mi phone connect aux sound enhancerveryy good productread\n",
      "Target:   Happy\n",
      "Prediction:  Happy\n",
      "\n",
      "Review:  good product boat headphon good best also nice thank flipkartread\n",
      "Target:   Unhappy\n",
      "Prediction:  Unhappy\n",
      "\n",
      "Review:  headphon best bass perfect fit fix headthat mi  provid larg rang bluetoothand mic work fine bluetoothwir alsoread\n",
      "Target:   Unhappy\n",
      "Prediction:  Happy\n",
      "\n",
      "Review:  good product trust productread\n",
      "Target:   Unhappy\n",
      "Prediction:  Happy\n",
      "\n",
      "Review:  product descript page say bluetooth v  actual v  mean poor connect rangeyou adjust equal set phone allow get good sound els hear bass vocal sound suppress sound qualiti good listen musicbewar buy make regular voip call sound keep break nois ideal call meetingsbuild qualiti could betterread\n",
      "Target:   Unhappy\n",
      "Prediction:  Unhappy\n",
      "\n",
      "Review:  best headphon regular use use till date point know buy   strap get lossen pretti soon  bluetooth good rang good  problem big recommend product everi oneread\n",
      "Target:   Happy\n",
      "Prediction:  Happy\n",
      "\n",
      "Review:  product realli good product price rang use last one week think give  hour batteri backup base good overal sound good talk design look excel white  green combin product look realli premium one anoth good thing foldabl make easi carri overal product realli good product price rangeread\n",
      "Target:   Unhappy\n",
      "Prediction:  Happy\n",
      "\n",
      "Review:  everyth betrer sound qualiti awesom batteri backup good excel design love look love thank flipkart thank u boatread\n",
      "Target:   Happy\n",
      "Prediction:  Happy\n",
      "\n",
      "Review:  built qualiti base colour excel foam materi hold ear made qualiti product one adjust soeaker various direct aux cabl charger cabl provid box use  aux cabl enjoy music  avail bluetooth option opt black red model amaz go may get within  sale daysread\n",
      "Target:   Happy\n",
      "Prediction:  Unhappy\n",
      "\n",
      "Review:  nice headset good bass batteri backup great seem problem mic pretti good job noic cancel greatread\n",
      "Target:   Unhappy\n",
      "Prediction:  Happy\n",
      "\n",
      "Review:  almost nice good productwith nice audio clearanc sound qualiti bass power batteri backupread\n",
      "Target:   Unhappy\n",
      "Prediction:  Happy\n",
      "\n",
      "Review:  good productbass clear  feel comfort weari got  day order fast deliveri isread\n",
      "Target:   Unhappy\n",
      "Prediction:  Unhappy\n",
      "\n",
      "Review:  amaz good sound qualiti n batteri back amaz im fulli satisfi ❤read\n",
      "Target:   Unhappy\n",
      "Prediction:  Happy\n",
      "\n",
      "Review:  good product tri jbl  ubon  boat rocker  product better compar bass give extra bass usin equil comfort take anywhereread\n",
      "Target:   Unhappy\n",
      "Prediction:  Unhappy\n",
      "\n",
      "Review:  buy child like muchit also good play royal battl game also like muchread\n",
      "Target:   Unhappy\n",
      "Prediction:  Unhappy\n",
      "\n",
      "Review:  bought flipkart sale  must say worth price bass pretti cool  sound qualiti awesom bt still give  star becoz littl uncomfort uh wear   ear start get pain bt week youll get use itread\n",
      "Target:   Happy\n",
      "Prediction:  Happy\n",
      "\n",
      "Review:  got one defect product first time return order new one seller dont replac polici unabl hear sound one speaker first purchas new one arriv shock mind blow super bass crystal clear sound work without bluetooth connect aux cabl suppli also got charg cabl charg cabl mark cheap receiv parcel origin product boread\n",
      "Target:   Unhappy\n",
      "Prediction:  Unhappy\n",
      "\n",
      "Review:  great headphon afford price segment muff tight u first use go get better time get adjustedread\n",
      "Target:   Happy\n",
      "Prediction:  Happy\n",
      "\n",
      "Review:  first time give review friend believ good producteveryth fine good feel happi purchas itread\n",
      "Target:   Unhappy\n",
      "Prediction:  Unhappy\n",
      "\n",
      "Review:  amaz audio product boat• superb bass• crystal clear sound • awesom batteri backupgo without kind hesitationgreat deal priceread\n",
      "Target:   Happy\n",
      "Prediction:  Happy\n",
      "\n",
      "Review:  best one love product awesom best sound qualiti batteri backupread\n",
      "Target:   Happy\n",
      "Prediction:  Happy\n",
      "\n",
      "Review:  good packag still satisfi product worth money like much🤙you guy go itread\n",
      "Target:   Unhappy\n",
      "Prediction:  Unhappy\n",
      "\n",
      "Review:  nice head phone red n black combin look good sound qualiti nice  impress bass good call purpos poor mic person opposit side cannot hear voic proper good batteri backup headphon tight ear difficult use longer timeread\n",
      "Target:   Happy\n",
      "Prediction:  Happy\n",
      "\n",
      "Review:  excel bass great sound easi connect solid design littl bit uncomfort got good qualiti long aux  charg cabk got  must buy price also boat great serviceread\n",
      "Target:   Unhappy\n",
      "Prediction:  Unhappy\n",
      "\n",
      "Review:  best bluetooth headset ive ever use  im word describ product love  go love itread\n",
      "Target:   Happy\n",
      "Prediction:  Happy\n",
      "\n",
      "Review:  think decent averag headphon moder sound bass max   hrs batteri sustain accord usag well quit comfort wear carri huge drawback headphon microphon doesn't work nois cancel headphonesread\n",
      "Target:   Happy\n",
      "Prediction:  Unhappy\n",
      "\n",
      "Review:  first flipkart deliv agent behavior good reliablesecond boat headphon qualiti durabl good far aspect ed fascin alsolast thank flipkart grate  product deliveri recommend everyon buy productread\n",
      "Target:   Unhappy\n",
      "Prediction:  Unhappy\n",
      "\n",
      "Review:  first thank flipkarti got headphon  day earlierjust imagineblaz fast deliveri flipkartok review use  day design  comfort frank speak first headphon design pretti satisfactori show front friend  purchas black red one earcup adjust problem wearingnow comfort mani say tight uncomfort honestread\n",
      "Target:   Happy\n",
      "Prediction:  Happy\n",
      "\n",
      "Review:  best headphon ever sound qualiti good bass style headphon good mic seem great function mic also good soundread\n",
      "Target:   Unhappy\n",
      "Prediction:  Unhappy\n",
      "\n",
      "Review:  nice qualiti headphoneshigh qualiti beat crystal clear sound also fault plug jack sound clear use bluetooth featureit feel someth like uuuuuuread\n",
      "Target:   Happy\n",
      "Prediction:  Happy\n",
      "\n",
      "Review:  awesom product  super qualiti  clear n high volum sound  chang song cushion qualiti goodread\n",
      "Target:   Unhappy\n",
      "Prediction:  Unhappy\n",
      "\n",
      "Review:  sound qualiti good enough consid got  might find tight ear usual one bigger head fine thoughdidnt feel deep bass rock nonethelessread\n",
      "Target:   Unhappy\n",
      "Prediction:  Happy\n",
      "\n",
      "Review:  good base clear audio look attract stylish good product price rang batteri life also excel mic great conversationread\n",
      "Target:   Happy\n",
      "Prediction:  Happy\n",
      "\n",
      "Review:  around sound build qualiti good except bluetooth connectivityth connect poorit take much time connectand take headphon differ roomleav devic behind bluetooth connect go lostbut room connect work proper read\n",
      "Target:   Happy\n",
      "Prediction:  Happy\n",
      "\n",
      "Review:  stuff realli great price rang write review use weekpro superb bass  realli super extra bass sound qualiti great  great  design awesom great look whether wear keep  aux cabl real help  liter dont need think much batteri  batteri life awesomecon headband tight make uncomfort use forread\n",
      "Target:   Happy\n",
      "Prediction:  Unhappy\n",
      "\n",
      "Review:   popular boat good sound product heavi punchi bass nice use mani boat ear phone experi nice boat rockerz  even better yes feel uncomfort fond ear headphon rather sound great bass awesom build good design stylish batteri backup also preeti goodif buy ear headphon  time never use tread\n",
      "Target:   Happy\n",
      "Prediction:  Happy\n",
      "\n",
      "Review:  everyth nice headphon  design qualiti like premium  seem littl tight howev good product priceworthi one must buy price  rsread\n",
      "Target:   Unhappy\n",
      "Prediction:  Happy\n",
      "\n",
      "Review:  overal product nice  look stylish  light weight sound qualiti also goodread\n",
      "Target:   Happy\n",
      "Prediction:  Happy\n",
      "\n",
      "Review:  wonder full product happi way work sound qualiti  continui use longer period  ear hurt  deliveri flipkart timeread\n",
      "Target:   Happy\n",
      "Prediction:  Unhappy\n",
      "\n",
      "Review:  write review use one weeki happili say headphon awesomesound pretti goodbass design also goodand import thing perfect tight earsthi much worthi product price rangei got  salebut price enough buy productbeliev go never regret range😍read\n",
      "Target:   Unhappy\n",
      "Prediction:  Unhappy\n",
      "\n",
      "Review:  awsom sound power bass batteri backup also excel love bass im huge lover music bass design build also niceand first time bought headphon electron item glad say first time love 😍 😍 😍  excel product         thank boat make nice product keep make thank flipkart team deliv nice product risk lifread\n",
      "Target:   Unhappy\n",
      "Prediction:  Happy\n",
      "\n",
      "Review:  well use  month worth rs  sound qualiti pretti good look also good although bit tight ear initi would say loosen fit comfort level sound actual good bluetooth rang bad loos connect u get room mic also doesnt work proper sometim get inr  go although compar mivi headphonesread\n",
      "Target:   Happy\n",
      "Prediction:  Happy\n",
      "\n",
      "Review:  awesom use headphon last  month worth everi penni problem cant wear long use otherwis  best dont spend time listen 😍 love itread\n",
      "Target:   Unhappy\n",
      "Prediction:  Unhappy\n",
      "\n",
      "Review:  good qualiti good style great experi bass boost wireless comfort pubg also search good wireless wire headphon best headphon love it😍read\n",
      "Target:   Happy\n",
      "Prediction:  Happy\n",
      "\n",
      "Review:  yes good aspectexcept mic tri talk use mic bluetooth person cannot hear clear also low sound irrit want someth enjoy music budget qualiti good yes tight use get loosen littl comfort big head feel head small week got comfort keep volum mid rang use hour like use  hrs day keepiread\n",
      "Target:   Happy\n",
      "Prediction:  Happy\n",
      "\n",
      "Review:  u want buy listen song superb mind blowingif u want buy call good bcoz sometim u cant talk clear wise u buy itread\n",
      "Target:   Unhappy\n",
      "Prediction:  Unhappy\n",
      "\n",
      "Review:  got  big billioni use  nd feel absolut satisfi product apart satisfi build qualiti would vote excel aspect jst go itread\n",
      "Target:   Happy\n",
      "Prediction:  Happy\n",
      "\n",
      "Review:  great headphon one best  great bass beat main con  bit uncomfort soi wont recommend buy head big adultit nice smaall children teensread\n",
      "Target:   Unhappy\n",
      "Prediction:  Happy\n",
      "\n",
      "Review:  use  day readi say someth boat rckrs  design sound qualitybass batteri backup super condit use full day charg one half  hour product abl give full day batteri life  perform btri go low thn dont take tnsn abl use aux cabl short product best  amount go itread\n",
      "Target:   Unhappy\n",
      "Prediction:  Happy\n",
      "\n",
      "Review:  realli perform good son like much best qualiti love product flipkartread\n",
      "Target:   Unhappy\n",
      "Prediction:  Happy\n",
      "\n",
      "Review:  issu bluetooth rang support upto  fit call  fit song get voic breakmic good callingus music n enjoy nice sound qualiti baseread\n",
      "Target:   Unhappy\n",
      "Prediction:  Unhappy\n",
      "\n",
      "Review:  boat rockerz product good littl bit disappoint hardwar  made strong otherwis product awsm sound qualiti superbbluetooth rang also good bass superb feel song headphon love itread\n",
      "Target:   Happy\n",
      "Prediction:  Happy\n",
      "\n",
      "Review:  want got inr  serious love product boat team done except well thump provid stellio along bass one listen high recommend product kudo team boatrep reviewdeduct  star pain caus ear type headach listen  minsguy need work structur comfort  headphoneshop didnt get ruderead\n",
      "Target:   Happy\n",
      "Prediction:  Happy\n",
      "\n",
      "Review:   month im use headphon person im boat speaker headphon lover im alreadi  speaker  headphon famili headphon realli upto level first time im hear audio didnt like audio qualiti ok bass overwhelm bcoz high volum music get distort build qualiti ok wont fit everyon fit ok famili member fit well feel discomforread\n",
      "Target:   Happy\n",
      "Prediction:  Happy\n",
      "\n",
      "Review:  sound qualiti averag although bass good 🙄 ear cushion lil bit smaller tight ear long useag bt batteri backup good enough listen song averag use although nois cancel work good 😊 overal good product go coz give best price rang 😋read\n",
      "Target:   Happy\n",
      "Prediction:  Happy\n",
      "\n",
      "Review:  pack goodreceiv good conditionwork wellsound qualiti actual crystal clear bass appreci overal nice product valu money read\n",
      "Target:   Unhappy\n",
      "Prediction:  Happy\n",
      "\n",
      "Review:  headphon awesom perform superb absolut recommend buy sound qualiti excel bass also awesom built qualiti total amaz best headphon ever valu money also😊read\n",
      "Target:   Unhappy\n",
      "Prediction:  Happy\n",
      "\n",
      "Review:  purchas headphon around  rs freedom sale flipkart thank super fast deliveri alway bluetooth headset  great soundbass great ok import batteri life awesom bluetooth headset batteri life alway concern perfectin term batteryand also one good thing u receiv call well also u get aux cabl case u want use ur mobil  read\n",
      "Target:   Happy\n",
      "Prediction:  Happy\n",
      "\n",
      "Review:  got one defect product first time return order new one seller dont replac polici unabl hear sound one speaker first purchas new one arriv shock mind blow super bass crystal clear sound work without bluetooth connect aux cabl suppli also got charg cabl charg cabl mark cheap receiv parcel origin product boread\n",
      "Target:   Unhappy\n",
      "Prediction:  Happy\n",
      "\n",
      "Review:  nice product cool total save desgin headphon sound qualiti perfect comfort fold box total price compers much better productread\n",
      "Target:   Happy\n",
      "Prediction:  Happy\n",
      "\n",
      "Review:  product get rich base nice audio qualiti disappoint call ever talk wont abl person product ok travel main music lover like productread\n",
      "Target:   Unhappy\n",
      "Prediction:  Happy\n",
      "\n",
      "Review:  wow headphon super super voic  batteri also good best headphon  got  rs wow  cheap  thank u flipkart love flipkartread\n",
      "Target:   Unhappy\n",
      "Prediction:  Unhappy\n",
      "\n",
      "Review:   day use im write review  first amaz product boat perform sound qualiti awesom bass kick ears😘👌 build qualiti good wear ear think wil break easiley nop strong build qualiti assurepro bass extrem battrey backup superbuild qualiti cool     consyou realis ear pain minut first time becom comfortablei reciev read\n",
      "Target:   Happy\n",
      "Prediction:  Happy\n",
      "\n",
      "Review:  awesom product worth moneynic sound nice build nice design buton thing didnt give   east cup small cushion appreci hurt ear wear long periodsread\n",
      "Target:   Unhappy\n",
      "Prediction:  Happy\n",
      "\n",
      "Review:  best price rang one side stop work month replac boat compani good one worth itread\n",
      "Target:   Happy\n",
      "Prediction:  Happy\n",
      "\n",
      "Review:  well use  month worth rs  sound qualiti pretti good look also good although bit tight ear initi would say loosen fit comfort level sound actual good bluetooth rang bad loos connect u get room mic also doesnt work proper sometim get inr  go although compar mivi headphonesread\n",
      "Target:   Happy\n",
      "Prediction:  Happy\n",
      "\n",
      "Review:  ok give detail review boat rocker   review  pros  light weight similar carri  page notebook sound qualiti best level especi bass simpli superbnois cancel top travel local train often sat near window seat use headphon one day total amaz nois cancel unabl hear littl bit sound run traindual work mode thread\n",
      "Target:   Happy\n",
      "Prediction:  Happy\n",
      "\n",
      "Review:  sure feedback valuableth boat compani reach give feedback make senseso great sound much clear call decent import littl softer grip skull tightread\n",
      "Target:   Unhappy\n",
      "Prediction:  Unhappy\n",
      "\n",
      "Review:  made order decemb  night got deliv home around  pm made order flipkart pay later facil big shop day period  dec    price pack good mobil deliveri fast still next month jan   pay due  without extra interest servic fee  charg fine late repay thank flipkart facil boat rocker  superb even price rang ₹ read\n",
      "Target:   Unhappy\n",
      "Prediction:  Happy\n",
      "\n",
      "Review:  good one reason headphon dont cover whole ear place year comfort cant wear longer time start hurt tri anoth one price rang mani avail cost better thisread\n",
      "Target:   Happy\n",
      "Prediction:  Happy\n",
      "\n",
      "Review:  headphon good work reduc sound song given return back  correct right make sound song  notread\n",
      "Target:   Unhappy\n",
      "Prediction:  Happy\n",
      "\n",
      "Review:  great headset fantast bass wireless capabl good batteri backup simpli superb use call pleas avoid inbuilt mic bad expect comfort definit make ear pain get much price problrm might serious overal great headphoneread\n",
      "Target:   Unhappy\n",
      "Prediction:  Happy\n",
      "\n",
      "Review:  worth money headphon peopl metal ear pain long use  cushion soft arramg soft bluetooth rang expect much suitabl bluetooth callinga small dot sound audibl use low volum whenev notif come phone dot sound produc  better use aux cableread\n",
      "Target:   Happy\n",
      "Prediction:  Happy\n",
      "\n",
      "Review:  wooowwww superb product😇 good effect sound clarity👏 bluetooth r work good system mobil phone headphon charger cabl also connect wire  warranti woooww ♥️ thank 🥰read\n",
      "Target:   Unhappy\n",
      "Prediction:  Unhappy\n",
      "\n",
      "Review:  honest review  month use bought  flipkartif bass lover go without confusionth base punchi feel ear vibrat thispro punchi bass dont know headset provid much bass mid  trebl crystal clear hear everi instrument batteri backup excel im get upto  day moder use use accord push upto week charg quicread\n",
      "Target:   Happy\n",
      "Prediction:  Happy\n",
      "\n",
      "Review:  awesom bass sound qualiti good batteri long life purchas rs realli grate product dont forget likeread\n",
      "Target:   Unhappy\n",
      "Prediction:  Unhappy\n",
      "\n",
      "Review:  realli like sound like design like batteri backup good product wastag moneyread\n",
      "Target:   Happy\n",
      "Prediction:  Happy\n",
      "\n",
      "Review:  dissipoint     comfort                                                                 bad ear hard   u listen music hhhhh pain start also tight cushion good bakwass                                  sound quit good bass nice trebl absentmid ok type                                                                          build qualiti good special plastic use            conread\n",
      "Target:   Happy\n",
      "Prediction:  Happy\n",
      "\n",
      "Review:  thank flipkart fast deliveri sound  qualiti mind blow  bole pesa vasul product  thank much flipkart  😍🙏🙏🙏❤read\n",
      "Target:   Unhappy\n",
      "Prediction:  Happy\n",
      "\n",
      "Review:  use headphon  month  month band break band qualiti low better u buy good qualiti headphon till  month run realli fantast disappoint band qualiti u go headphon better bluetooth version also lowread\n",
      "Target:   Unhappy\n",
      "Prediction:  Happy\n",
      "\n",
      "Review:  kk first thing good qualiti use abt week issu far sound qualiti awesom like im theatr also batteri backup good use   hrs straight connect issu problem fit tight hurt hear due prolong usag possibl give  rate recommend u guy go black one becoz cloth like textur hread\n",
      "Target:   Unhappy\n",
      "Prediction:  Happy\n",
      "\n",
      "Review:  realli good experi boat rockerz  good qualiti sound  bass imp thing headphon   easili foldabl nd easili pickup exercis game time  realli thnx boat compani beauti product  nd wish u definit make differ headi best head  keep guy read\n",
      "Target:   Happy\n",
      "Prediction:  Happy\n",
      "\n",
      "Review:  talk sound qualiti want rate awsm qualiti deep bass peac ear  design  like thing much one friend own awsm product get know wonder product search sorri cant say anyth much batteri  back write review within  product deliveri      like product hope u                   shiread\n",
      "Target:   Happy\n",
      "Prediction:  Happy\n",
      "\n",
      "Review:  better competitor price segmentit way better jbl  price competitor term sound qualiti soni wh ch  avail  big billion go itmi advis think buy one good pair headphon go chroma relianc digit check sound qualiti various rang headphon buy one accord budgetread\n",
      "Target:   Unhappy\n",
      "Prediction:  Unhappy\n",
      "\n",
      "Review:  sound qualiti amaz fantast lookbut comfort ear size littl largebcauz ear pretti larg pressuris ear lot cant use  minread\n",
      "Target:   Unhappy\n",
      "Prediction:  Unhappy\n",
      "\n",
      "Review:  excel sound qualiti superior bass back great batteri power feather light  built qualiti mind blow purchas  good  music enthusiast wise choic purchas price rang im total love 😘read\n",
      "Target:   Happy\n",
      "Prediction:  Happy\n",
      "\n",
      "Review:  light fit perfect tight head good bass audiophil  thumb  day deliveri form purchas day sound superb great bass coz  notebluetooth work good batteri backup also good easili u play movi music upto  hour take  hour chargethank flipkartread\n",
      "Target:   Happy\n",
      "Prediction:  Happy\n",
      "\n",
      "Review:  sound tooo goodand qualiti good happi devic sound qualiti import best qualiti musicread\n",
      "Target:   Unhappy\n",
      "Prediction:  Unhappy\n",
      "\n",
      "Review:  superb bass price rang suitabl laptop nice pubg voic also clearread\n",
      "Target:   Unhappy\n",
      "Prediction:  Happy\n",
      "\n",
      "Review:  sound qualiti awesom  bass unbeliev compar also pretti look give  star excess bass littl uncomfort design continu use  hour becom littl uncomfort   nois cancel  quiet good price segment     keen lover listen song better chois read\n",
      "Target:   Happy\n",
      "Prediction:  Unhappy\n",
      "\n",
      "Review:  seen local shop octob confus one buy googl internet found boat popular bought boat rockerz   rsafter realiz fnd  hw  much much better boati left boat rockerz brother bought product local shop  happyalso bought mani product ecommerc first reviewit real review bought fnd  wont regretprread\n",
      "Target:   Happy\n",
      "Prediction:  Happy\n",
      "\n",
      "Review:  like sound headphon want white colour grey overal good good base good batteri qualiti design well price rang good thank flipkart product fast deliveryread\n",
      "Target:   Unhappy\n",
      "Prediction:  Happy\n",
      "\n",
      "Review:  bass amaz feel like listen long time pain ur ear start feel use   afterward ur ear feel pain anyway awesom product clear voic phone call also clearread\n",
      "Target:   Unhappy\n",
      "Prediction:  Happy\n",
      "\n",
      "Review:  bought one half year still work good problem thatnic product boatbass goodbut plastic qualiti improverec broke problem speaker awesom product must improv plastic qualitypack good thank flipkartread\n",
      "Target:   Happy\n",
      "Prediction:  Happy\n",
      "\n",
      "Review:  worth buy super power super base total budget friend handyread\n",
      "Target:   Happy\n",
      "Prediction:  Happy\n",
      "\n",
      "Review:   flipkart u god damn super fast servic tq u thatand qualiti product super cool everyth grt yrr u soon u best type qualiti product within budget🎧🎧read\n",
      "Target:   Happy\n",
      "Prediction:  Happy\n",
      "\n",
      "Review:  awesom sound qualiti pros  hrs batteri life includ  min approx call timeawesom sound output bass trebl realli clear without equalis equalis sound wari depend handset sound qualityweightless carri head toomic good traffic good  option realli import mention realli expect lead brand implement thisconsveri tight ear adjust ok  tightread\n",
      "Target:   Happy\n",
      "Prediction:  Happy\n",
      "\n",
      "Review:  pros    good sound qualitynot much better local simpl earphon    nice connectivityutna bhi nahicon    ear pain use  around  minneed soft materi speaker soft part read\n",
      "Target:   Happy\n",
      "Prediction:  Happy\n",
      "\n",
      "Review:  overal good bluetooth headphon rang talk phone use headphon opposit person shouldnt get voic clear time receiv  get littl reason return tri  day otherwis good listen song onlyread\n",
      "Target:   Happy\n",
      "Prediction:  Happy\n",
      "\n",
      "Review:  good  minut  hour usag ear cup small along small frame give high pressur ear ear headphon describ didnt expect go uncomfort refund bass much u miss instrument  build qualiti ok simpl design ear cup fix  steel rod hope lastsoud qualiti good superb altern ibal headsetread\n",
      "Target:   Unhappy\n",
      "Prediction:  Happy\n",
      "\n",
      "Review:  honest review boat rockerz  product realli awesom u buy headphon play gamessong etcit batteri life  hour charg time  hour also extra bass problem soundand realli awesomeread\n",
      "Target:   Happy\n",
      "Prediction:  Happy\n",
      "\n",
      "Review:  valu money got headphon  summer salesound qualiti awesom good bass good nois cancel also connect devic quick n devic show batteri percentag headphon also thr coolest thing headphon u often listen music headphon u go itmust buy headphon satisfi purchaseread\n",
      "Target:   Happy\n",
      "Prediction:  Happy\n",
      "\n",
      "Review:  perform good sound qualiti batteri charg time qualiti materi good except littl tight ear due whichcannot wear  mindu sold itso everi one differ size headbut except problem goodread\n",
      "Target:   Happy\n",
      "Prediction:  Happy\n",
      "\n",
      "Review:  good producti got price  rs phone pay discount   product awesomeloud bass clariti fit ear bluetooth rang smaller said descript ie   good deliveri n packag good batteri backup also awesom charg sinc bought productjust check charg issu find great productgo itread\n",
      "Target:   Unhappy\n",
      "Prediction:  Happy\n",
      "\n",
      "Review:  nice headphon superb bass comfort ear good batteri pack still worth buyingread\n",
      "Target:   Happy\n",
      "Prediction:  Happy\n",
      "\n",
      "Review:  light weight easi carri anywher attract model awesom servic flipkart love itread\n",
      "Target:   Happy\n",
      "Prediction:  Happy\n",
      "\n",
      "Review:  superb headphon sound clear speak person inbuilt mic ok use  bluetooth also inbuilt aux output overal awesom speaker thank provid headphon thank fast deliveryread\n",
      "Target:   Unhappy\n",
      "Prediction:  Unhappy\n",
      "\n",
      "Review:  bang buckreal great headset best headphon priceth build qualiti good sturdi light weight sound qualiti headphon serious good bass realli amaz dont think other go ❤️❤️❤️❤️read\n",
      "Target:   Happy\n",
      "Prediction:  Unhappy\n",
      "\n",
      "Review:  product awesom 👌 design perfect everyth ok audio cabl long  brand usb cabl  feel like heaven 😇💙read\n",
      "Target:   Unhappy\n",
      "Prediction:  Happy\n",
      "\n",
      "Review:  first would like appreci deliveri time within day got product deliv result product good expect though found product avail lower price websit prefer flipkart trust flipkart wont deliv duplic refurbish product thank flipkartread\n",
      "Target:   Unhappy\n",
      "Prediction:  Happy\n",
      "\n",
      "Review:  great product great pricesord lot search youtub last order itus u day write review itreview   best wireless ear headphon great brand valu didnt find con sound qualiti  bass  everyth great compactbatteri pack awesom standbi usag use  dayslook great  stylish pain ear   must buythank youread\n",
      "Target:   Happy\n",
      "Prediction:  Happy\n",
      "\n",
      "Review:  receiv  day open box put head  know happen nextout surpris sound qualiti good sound qualiti feel like watch movi theatr wasnt know headphon perform much better glad get realli headphon prove taglin boat plug nirvanathank boat  flipkart😍👏😎read\n",
      "Target:   Happy\n",
      "Prediction:  Happy\n",
      "\n",
      "Review:  perfect price rang go  absolut amaz one u feel delay pubg sound sound perfect synchronis game bought play pubg main pubg user u r look good headphon  review help hit likeread\n",
      "Target:   Happy\n",
      "Prediction:  Happy\n",
      "\n",
      "Review:  right left distribut okayotherwis sound qualiti good clariti okaybass almost perfectread\n",
      "Target:   Unhappy\n",
      "Prediction:  Happy\n",
      "\n",
      "Review:  headphon much good also come fast flipkart packag headphon good enough box torn place deliveri boy say torn travel detect one star whether headphon goodread\n",
      "Target:   Unhappy\n",
      "Prediction:  Unhappy\n",
      "\n",
      "Review:  good wish master polit help natureread\n",
      "Target:   Happy\n",
      "Prediction:  Happy\n",
      "\n"
     ]
    },
    {
     "data": {
      "text/plain": [
       "<zip at 0x1d609936c80>"
      ]
     },
     "execution_count": 718,
     "metadata": {},
     "output_type": "execute_result"
    }
   ],
   "source": [
    "zipped_data=zip(list(np.array(ID_train)), list(np.array(D_test)), list(predictions))\n",
    "for i, j, k in zipped_data:\n",
    "    print(\"Review: \", i)\n",
    "    print(\"Target:  \",j)\n",
    "    print(\"Prediction: \",k)\n",
    "    print()\n",
    "    \n",
    "zipped_data"
   ]
  },
  {
   "cell_type": "code",
   "execution_count": 721,
   "id": "acfbd3f7",
   "metadata": {},
   "outputs": [
    {
     "data": {
      "text/plain": [
       "array(['Unhappy'], dtype=object)"
      ]
     },
     "execution_count": 721,
     "metadata": {},
     "output_type": "execute_result"
    }
   ],
   "source": [
    "example=['bad sad']\n",
    "model.predict(example)"
   ]
  },
  {
   "cell_type": "code",
   "execution_count": null,
   "id": "85f6b9ac",
   "metadata": {},
   "outputs": [],
   "source": []
  },
  {
   "cell_type": "code",
   "execution_count": null,
   "id": "1fcd8aa1",
   "metadata": {},
   "outputs": [],
   "source": []
  },
  {
   "cell_type": "code",
   "execution_count": null,
   "id": "62f6e56e",
   "metadata": {},
   "outputs": [],
   "source": []
  },
  {
   "cell_type": "code",
   "execution_count": null,
   "id": "93675fda",
   "metadata": {},
   "outputs": [],
   "source": []
  },
  {
   "cell_type": "code",
   "execution_count": null,
   "id": "e6264774",
   "metadata": {},
   "outputs": [],
   "source": []
  },
  {
   "cell_type": "markdown",
   "id": "16ecbb35",
   "metadata": {},
   "source": [
    "References: \n",
    "    \n",
    "    https://www.slideshare.net/Countants/how-does-customer-feedback-sentiment-analysis-work-in-search-marketing\n",
    "    \n",
    "    \n",
    "        "
   ]
  },
  {
   "cell_type": "code",
   "execution_count": null,
   "id": "3e8618e7",
   "metadata": {},
   "outputs": [],
   "source": []
  },
  {
   "cell_type": "code",
   "execution_count": null,
   "id": "227c7d71",
   "metadata": {},
   "outputs": [],
   "source": []
  }
 ],
 "metadata": {
  "kernelspec": {
   "display_name": "Python 3 (ipykernel)",
   "language": "python",
   "name": "python3"
  },
  "language_info": {
   "codemirror_mode": {
    "name": "ipython",
    "version": 3
   },
   "file_extension": ".py",
   "mimetype": "text/x-python",
   "name": "python",
   "nbconvert_exporter": "python",
   "pygments_lexer": "ipython3",
   "version": "3.9.12"
  }
 },
 "nbformat": 4,
 "nbformat_minor": 5
}
